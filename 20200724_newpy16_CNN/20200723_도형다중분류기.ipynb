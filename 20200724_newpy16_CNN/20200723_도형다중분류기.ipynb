{
 "metadata": {
  "language_info": {
   "codemirror_mode": {
    "name": "ipython",
    "version": 3
   },
   "file_extension": ".py",
   "mimetype": "text/x-python",
   "name": "python",
   "nbconvert_exporter": "python",
   "pygments_lexer": "ipython3",
   "version": 3
  },
  "orig_nbformat": 2,
  "kernelspec": {
   "name": "python_defaultSpec_1595565280444",
   "display_name": "Python 3.7.7 64-bit"
  }
 },
 "nbformat": 4,
 "nbformat_minor": 2,
 "cells": [
  {
   "cell_type": "code",
   "execution_count": 8,
   "metadata": {},
   "outputs": [],
   "source": [
    "# 이미지증식기\n",
    "from keras.preprocessing.image import load_img\n",
    "from keras.preprocessing.image import img_to_array, ImageDataGenerator\n",
    "import matplotlib.pyplot as plt\n",
    "import numpy as np\n",
    "# 다중분류\n",
    "from keras.models import Sequential, Input, Model\n",
    "from keras.layers import Dense, Dropout, Flatten\n",
    "from keras.layers import Conv2D, MaxPooling2D\n",
    "from keras.layers.normalization import BatchNormalization\n",
    "from keras.layers.advanced_activations import LeakyReLU"
   ]
  },
  {
   "cell_type": "code",
   "execution_count": 9,
   "metadata": {
    "tags": []
   },
   "outputs": [
    {
     "output_type": "stream",
     "name": "stdout",
     "text": "Found 45 images belonging to 3 classes.\nFound 15 images belonging to 3 classes.\n"
    }
   ],
   "source": [
    "######################### 도형 다중 분류기 제작 with CNN #########################\n",
    "\n",
    "# 트레인데이터\n",
    "trainDatagen = ImageDataGenerator(rescale=1./225) # 이미지 증식기\n",
    "trainGenerator = trainDatagen.flow_from_directory('손글씨데이터/train', target_size=(24,24), \n",
    "                                                            batch_size=3, \n",
    "                                                            class_mode='categorical')\n",
    "# 테스트 데이터\n",
    "testDatagen = ImageDataGenerator(rescale=1./225) # 이미지 증식기\n",
    "testGenerator = testDatagen.flow_from_directory('손글씨데이터/test', target_size=(24,24), \n",
    "                                                            batch_size=3, \n",
    "                                                            class_mode='categorical')"
   ]
  },
  {
   "cell_type": "code",
   "execution_count": 10,
   "metadata": {},
   "outputs": [],
   "source": [
    "# CNN모델구성\n",
    "model = Sequential()\n",
    "model.add(Conv2D(32, kernel_size = (3,3),\n",
    "                    activation = 'relu',\n",
    "                    input_shape = (24,24,3)))\n",
    "model.add(Conv2D(64, kernel_size = (3,3),\n",
    "                    activation = 'relu'))\n",
    "model.add(MaxPooling2D(pool_size=(2,2)))\n",
    "model.add(Flatten())\n",
    "model.add(Dense(128, activation='relu'))\n",
    "model.add(Dense(3, activation='softmax'))"
   ]
  },
  {
   "cell_type": "code",
   "execution_count": 11,
   "metadata": {
    "tags": []
   },
   "outputs": [
    {
     "output_type": "stream",
     "name": "stdout",
     "text": "WARNING:tensorflow:From <ipython-input-11-2e16de07302f>:11: Model.fit_generator (from tensorflow.python.keras.engine.training) is deprecated and will be removed in a future version.\nInstructions for updating:\nPlease use Model.fit, which supports generators.\nEpoch 1/50\n15/15 [==============================] - 0s 20ms/step - loss: 0.7397 - accuracy: 0.7333 - val_loss: 0.2471 - val_accuracy: 0.9333\nEpoch 2/50\n15/15 [==============================] - 0s 10ms/step - loss: 0.0673 - accuracy: 1.0000 - val_loss: 0.0801 - val_accuracy: 0.9333\nEpoch 3/50\n15/15 [==============================] - 0s 10ms/step - loss: 0.0071 - accuracy: 1.0000 - val_loss: 0.1194 - val_accuracy: 0.9333\nEpoch 4/50\n15/15 [==============================] - 0s 11ms/step - loss: 0.0036 - accuracy: 1.0000 - val_loss: 0.0263 - val_accuracy: 1.0000\nEpoch 5/50\n15/15 [==============================] - 0s 11ms/step - loss: 0.0014 - accuracy: 1.0000 - val_loss: 0.0251 - val_accuracy: 1.0000\nEpoch 6/50\n15/15 [==============================] - 0s 10ms/step - loss: 2.1174e-04 - accuracy: 1.0000 - val_loss: 0.0280 - val_accuracy: 1.0000\nEpoch 7/50\n15/15 [==============================] - 0s 10ms/step - loss: 1.3027e-04 - accuracy: 1.0000 - val_loss: 0.0323 - val_accuracy: 1.0000\nEpoch 8/50\n15/15 [==============================] - 0s 10ms/step - loss: 1.0651e-04 - accuracy: 1.0000 - val_loss: 0.0330 - val_accuracy: 1.0000\nEpoch 9/50\n15/15 [==============================] - 0s 10ms/step - loss: 9.5332e-05 - accuracy: 1.0000 - val_loss: 0.0329 - val_accuracy: 1.0000\nEpoch 10/50\n15/15 [==============================] - 0s 10ms/step - loss: 8.4868e-05 - accuracy: 1.0000 - val_loss: 0.0324 - val_accuracy: 1.0000\nEpoch 11/50\n15/15 [==============================] - 0s 10ms/step - loss: 7.6488e-05 - accuracy: 1.0000 - val_loss: 0.0318 - val_accuracy: 1.0000\nEpoch 12/50\n15/15 [==============================] - 0s 10ms/step - loss: 6.9382e-05 - accuracy: 1.0000 - val_loss: 0.0311 - val_accuracy: 1.0000\nEpoch 13/50\n15/15 [==============================] - 0s 10ms/step - loss: 6.2016e-05 - accuracy: 1.0000 - val_loss: 0.0303 - val_accuracy: 1.0000\nEpoch 14/50\n15/15 [==============================] - 0s 10ms/step - loss: 5.5222e-05 - accuracy: 1.0000 - val_loss: 0.0299 - val_accuracy: 1.0000\nEpoch 15/50\n15/15 [==============================] - 0s 10ms/step - loss: 4.8015e-05 - accuracy: 1.0000 - val_loss: 0.0275 - val_accuracy: 1.0000\nEpoch 16/50\n15/15 [==============================] - 0s 10ms/step - loss: 3.9435e-05 - accuracy: 1.0000 - val_loss: 0.0232 - val_accuracy: 1.0000\nEpoch 17/50\n15/15 [==============================] - 0s 10ms/step - loss: 3.0543e-05 - accuracy: 1.0000 - val_loss: 0.0254 - val_accuracy: 1.0000\nEpoch 18/50\n15/15 [==============================] - 0s 10ms/step - loss: 2.2805e-05 - accuracy: 1.0000 - val_loss: 0.0191 - val_accuracy: 1.0000\nEpoch 19/50\n15/15 [==============================] - 0s 10ms/step - loss: 1.7253e-05 - accuracy: 1.0000 - val_loss: 0.0164 - val_accuracy: 1.0000\nEpoch 20/50\n15/15 [==============================] - 0s 10ms/step - loss: 1.1754e-05 - accuracy: 1.0000 - val_loss: 0.0164 - val_accuracy: 1.0000\nEpoch 21/50\n15/15 [==============================] - 0s 10ms/step - loss: 8.7843e-06 - accuracy: 1.0000 - val_loss: 0.0128 - val_accuracy: 1.0000\nEpoch 22/50\n15/15 [==============================] - 0s 10ms/step - loss: 7.0227e-06 - accuracy: 1.0000 - val_loss: 0.0126 - val_accuracy: 1.0000\nEpoch 23/50\n15/15 [==============================] - 0s 11ms/step - loss: 5.5286e-06 - accuracy: 1.0000 - val_loss: 0.0110 - val_accuracy: 1.0000\nEpoch 24/50\n15/15 [==============================] - 0s 10ms/step - loss: 4.6465e-06 - accuracy: 1.0000 - val_loss: 0.0101 - val_accuracy: 1.0000\nEpoch 25/50\n15/15 [==============================] - 0s 10ms/step - loss: 3.8624e-06 - accuracy: 1.0000 - val_loss: 0.0097 - val_accuracy: 1.0000\nEpoch 26/50\n15/15 [==============================] - 0s 10ms/step - loss: 3.2478e-06 - accuracy: 1.0000 - val_loss: 0.0084 - val_accuracy: 1.0000\nEpoch 27/50\n15/15 [==============================] - 0s 10ms/step - loss: 2.7948e-06 - accuracy: 1.0000 - val_loss: 0.0077 - val_accuracy: 1.0000\nEpoch 28/50\n15/15 [==============================] - 0s 10ms/step - loss: 2.4716e-06 - accuracy: 1.0000 - val_loss: 0.0075 - val_accuracy: 1.0000\nEpoch 29/50\n15/15 [==============================] - 0s 10ms/step - loss: 2.1511e-06 - accuracy: 1.0000 - val_loss: 0.0069 - val_accuracy: 1.0000\nEpoch 30/50\n15/15 [==============================] - 0s 10ms/step - loss: 1.8967e-06 - accuracy: 1.0000 - val_loss: 0.0064 - val_accuracy: 1.0000\nEpoch 31/50\n15/15 [==============================] - 0s 10ms/step - loss: 1.7140e-06 - accuracy: 1.0000 - val_loss: 0.0061 - val_accuracy: 1.0000\nEpoch 32/50\n15/15 [==============================] - 0s 10ms/step - loss: 1.5471e-06 - accuracy: 1.0000 - val_loss: 0.0056 - val_accuracy: 1.0000\nEpoch 33/50\n15/15 [==============================] - 0s 10ms/step - loss: 1.3802e-06 - accuracy: 1.0000 - val_loss: 0.0055 - val_accuracy: 1.0000\nEpoch 34/50\n15/15 [==============================] - 0s 10ms/step - loss: 1.2504e-06 - accuracy: 1.0000 - val_loss: 0.0051 - val_accuracy: 1.0000\nEpoch 35/50\n15/15 [==============================] - 0s 10ms/step - loss: 1.1471e-06 - accuracy: 1.0000 - val_loss: 0.0049 - val_accuracy: 1.0000\nEpoch 36/50\n15/15 [==============================] - 0s 10ms/step - loss: 1.0437e-06 - accuracy: 1.0000 - val_loss: 0.0048 - val_accuracy: 1.0000\nEpoch 37/50\n15/15 [==============================] - 0s 10ms/step - loss: 9.6957e-07 - accuracy: 1.0000 - val_loss: 0.0046 - val_accuracy: 1.0000\nEpoch 38/50\n15/15 [==============================] - 0s 10ms/step - loss: 9.0864e-07 - accuracy: 1.0000 - val_loss: 0.0042 - val_accuracy: 1.0000\nEpoch 39/50\n15/15 [==============================] - 0s 11ms/step - loss: 8.3181e-07 - accuracy: 1.0000 - val_loss: 0.0040 - val_accuracy: 1.0000\nEpoch 40/50\n15/15 [==============================] - 0s 10ms/step - loss: 7.6029e-07 - accuracy: 1.0000 - val_loss: 0.0038 - val_accuracy: 1.0000\nEpoch 41/50\n15/15 [==============================] - 0s 10ms/step - loss: 7.1790e-07 - accuracy: 1.0000 - val_loss: 0.0038 - val_accuracy: 1.0000\nEpoch 42/50\n15/15 [==============================] - 0s 10ms/step - loss: 6.6757e-07 - accuracy: 1.0000 - val_loss: 0.0036 - val_accuracy: 1.0000\nEpoch 43/50\n15/15 [==============================] - 0s 10ms/step - loss: 6.3313e-07 - accuracy: 1.0000 - val_loss: 0.0035 - val_accuracy: 1.0000\nEpoch 44/50\n15/15 [==============================] - 0s 10ms/step - loss: 5.9870e-07 - accuracy: 1.0000 - val_loss: 0.0033 - val_accuracy: 1.0000\nEpoch 45/50\n15/15 [==============================] - 0s 10ms/step - loss: 5.5896e-07 - accuracy: 1.0000 - val_loss: 0.0032 - val_accuracy: 1.0000\nEpoch 46/50\n15/15 [==============================] - 0s 10ms/step - loss: 5.2717e-07 - accuracy: 1.0000 - val_loss: 0.0031 - val_accuracy: 1.0000\nEpoch 47/50\n15/15 [==============================] - 0s 10ms/step - loss: 4.9803e-07 - accuracy: 1.0000 - val_loss: 0.0030 - val_accuracy: 1.0000\nEpoch 48/50\n15/15 [==============================] - 0s 11ms/step - loss: 4.6624e-07 - accuracy: 1.0000 - val_loss: 0.0029 - val_accuracy: 1.0000\nEpoch 49/50\n15/15 [==============================] - 0s 10ms/step - loss: 4.4505e-07 - accuracy: 1.0000 - val_loss: 0.0028 - val_accuracy: 1.0000\nEpoch 50/50\n15/15 [==============================] - 0s 10ms/step - loss: 4.2121e-07 - accuracy: 1.0000 - val_loss: 0.0027 - val_accuracy: 1.0000\n"
    },
    {
     "output_type": "execute_result",
     "data": {
      "text/plain": "<tensorflow.python.keras.callbacks.History at 0x26964eb2bc8>"
     },
     "metadata": {},
     "execution_count": 11
    }
   ],
   "source": [
    "# 모델 학습 환경 설정\n",
    "model.compile(loss=\"categorical_crossentropy\",\n",
    "                optimizer=\"adam\",\n",
    "                metrics=['accuracy'])\n",
    "\n",
    "# 모델 학습\n",
    "model.fit_generator(trainGenerator,     # 훈련데이터셋을 제공할 제너레이터\n",
    "                    steps_per_epoch=15,\n",
    "                    epochs=50,\n",
    "                    validation_data=testGenerator,\n",
    "                    validation_steps=5)   # 1에폭당 스텝 수"
   ]
  },
  {
   "cell_type": "code",
   "execution_count": 12,
   "metadata": {
    "tags": []
   },
   "outputs": [
    {
     "output_type": "stream",
     "name": "stdout",
     "text": "WARNING:tensorflow:From <ipython-input-12-82a9e2c5730e>:2: Model.evaluate_generator (from tensorflow.python.keras.engine.training) is deprecated and will be removed in a future version.\nInstructions for updating:\nPlease use Model.evaluate, which supports generators.\n정확도:  100.0 %\n"
    }
   ],
   "source": [
    "# 모델평가\n",
    "scores = model.evaluate_generator(testGenerator, steps=5)\n",
    "print(\"정확도: \",round(scores[1]*100, 1),\"%\")"
   ]
  },
  {
   "cell_type": "code",
   "execution_count": 13,
   "metadata": {
    "tags": []
   },
   "outputs": [
    {
     "output_type": "stream",
     "name": "stdout",
     "text": "WARNING:tensorflow:From <ipython-input-13-99471880c490>:2: Model.predict_generator (from tensorflow.python.keras.engine.training) is deprecated and will be removed in a future version.\nInstructions for updating:\nPlease use Model.predict, which supports generators.\n{'circle': 0, 'rectangle': 1, 'triangle': 2}\n[[9.9741673e-01 1.2543708e-05 2.5708214e-03]\n [3.3214346e-06 9.9999666e-01 9.5853457e-11]\n [2.2894616e-07 7.5956335e-09 9.9999976e-01]\n [9.6341246e-09 2.0976263e-08 1.0000000e+00]\n [9.0090362e-09 1.0000000e+00 7.8858063e-13]\n [1.2577500e-07 9.9999988e-01 1.1317461e-12]\n [1.6517433e-07 9.9999988e-01 6.4124053e-11]\n [9.9998689e-01 8.6301270e-06 4.5762977e-06]\n [2.2480985e-07 2.2176029e-04 9.9977797e-01]\n [3.7311970e-06 3.0532179e-02 9.6946412e-01]\n [6.8022232e-03 9.9293160e-01 2.6615566e-04]\n [9.9999988e-01 4.9391737e-08 1.7431600e-07]\n [9.9999893e-01 3.5537576e-07 7.4139950e-07]\n [9.9999976e-01 1.2220107e-07 6.1642304e-08]\n [1.4217401e-09 5.5738280e-07 9.9999940e-01]]\n"
    }
   ],
   "source": [
    "# 모델 사용\n",
    "output = model.predict_generator(testGenerator, steps=5)\n",
    "print(testGenerator.class_indices)\n",
    "print(output)"
   ]
  },
  {
   "cell_type": "code",
   "execution_count": null,
   "metadata": {},
   "outputs": [],
   "source": []
  }
 ]
}