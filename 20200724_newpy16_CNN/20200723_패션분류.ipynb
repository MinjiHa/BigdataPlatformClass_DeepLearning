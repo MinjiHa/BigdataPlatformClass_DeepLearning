{
 "cells": [
  {
   "cell_type": "code",
   "execution_count": 1,
   "metadata": {},
   "outputs": [],
   "source": [
    "from keras.datasets import fashion_mnist"
   ]
  },
  {
   "cell_type": "code",
   "execution_count": 2,
   "metadata": {},
   "outputs": [],
   "source": [
    "(trainX,trainY),(testX,testY)=fashion_mnist.load_data()"
   ]
  },
  {
   "cell_type": "code",
   "execution_count": 3,
   "metadata": {},
   "outputs": [],
   "source": [
    "import numpy as np\n",
    "from keras.utils import to_categorical\n",
    "import matplotlib.pyplot as plt"
   ]
  },
  {
   "cell_type": "code",
   "execution_count": 5,
   "metadata": {},
   "outputs": [
    {
     "data": {
      "text/plain": [
       "(60000, 28, 28)"
      ]
     },
     "execution_count": 5,
     "metadata": {},
     "output_type": "execute_result"
    }
   ],
   "source": [
    "testX.shape\n",
    "trainX.shape"
   ]
  },
  {
   "cell_type": "code",
   "execution_count": 9,
   "metadata": {},
   "outputs": [
    {
     "data": {
      "text/plain": [
       "10"
      ]
     },
     "execution_count": 9,
     "metadata": {},
     "output_type": "execute_result"
    }
   ],
   "source": [
    "import pandas as pd\n",
    "pd.value_counts(trainY)\n",
    "classes=np.unique(trainY)\n",
    "nClasses=len(classes)\n",
    "nClasses"
   ]
  },
  {
   "cell_type": "code",
   "execution_count": 15,
   "metadata": {},
   "outputs": [
    {
     "data": {
      "text/plain": [
       "<matplotlib.image.AxesImage at 0x21cc2a4d648>"
      ]
     },
     "execution_count": 15,
     "metadata": {},
     "output_type": "execute_result"
    },
    {
     "data": {
      "image/png": "[encoded data removed]",
      "text/plain": [
       "<Figure size 360x360 with 2 Axes>"
      ]
     },
     "metadata": {
      "needs_background": "light"
     },
     "output_type": "display_data"
    }
   ],
   "source": [
    "plt.figure(figsize=[5,5])\n",
    "plt.subplot(121)\n",
    "plt.imshow(trainX[0,:,:],cmap='gray')\n",
    "plt.subplot(122)\n",
    "plt.imshow(testX[0,:,:],cmap='gray')"
   ]
  },
  {
   "cell_type": "code",
   "execution_count": 18,
   "metadata": {},
   "outputs": [],
   "source": [
    "#이미지 데이터 전처리\n",
    "\"\"\"\n",
    "그레이 이미지 : 0~255, 28*28 -> 28*28*1\n",
    "\"\"\"\n",
    "trainX=trainX.reshape(-1,28,28,1)\n",
    "testX=testX.reshape(-1,28,28,1)"
   ]
  },
  {
   "cell_type": "code",
   "execution_count": 20,
   "metadata": {},
   "outputs": [
    {
     "data": {
      "text/plain": [
       "(60000, 28, 28, 1)"
      ]
     },
     "execution_count": 20,
     "metadata": {},
     "output_type": "execute_result"
    }
   ],
   "source": [
    "trainX.shape"
   ]
  },
  {
   "cell_type": "code",
   "execution_count": 23,
   "metadata": {},
   "outputs": [],
   "source": [
    "trainX=trainX.astype('float32')\n",
    "testX=testX.astype('float32')"
   ]
  },
  {
   "cell_type": "code",
   "execution_count": 24,
   "metadata": {},
   "outputs": [],
   "source": [
    "trainX=trainX/255\n",
    "testX=testX/255"
   ]
  },
  {
   "cell_type": "code",
   "execution_count": 26,
   "metadata": {},
   "outputs": [],
   "source": [
    "trainY\n",
    "trainYoneHot=to_categorical(trainY)\n",
    "testYoneHot=to_categorical(testY)"
   ]
  },
  {
   "cell_type": "code",
   "execution_count": 27,
   "metadata": {},
   "outputs": [],
   "source": [
    "#6만건 트레이닝 데이터 -> 80%(트레이닝),20%(검증)\n",
    "from sklearn.model_selection import train_test_split"
   ]
  },
  {
   "cell_type": "code",
   "execution_count": 28,
   "metadata": {},
   "outputs": [],
   "source": [
    "trainX,validX,trainLabel,validLabel=\n",
    "train_test_split(trainX,trainYoneHot,\n",
    "                 test_size=0.2,\n",
    "                 random_state=2020)"
   ]
  },
  {
   "cell_type": "code",
   "execution_count": 30,
   "metadata": {},
   "outputs": [],
   "source": [
    "from keras.models import Sequential, Input, Model\n",
    "from keras.layers import Dense, Dropout, Flatten\n",
    "from keras.layers import Conv2D, MaxPooling2D\n",
    "from keras.layers.normalization import BatchNormalization\n",
    "from keras.layers.advanced_activations import LeakyReLU"
   ]
  },
  {
   "cell_type": "code",
   "execution_count": 67,
   "metadata": {},
   "outputs": [],
   "source": [
    "batch_size=64 #모델 갱신 단위, 64개 이미지 트레이닝할 때마다 가중치 업데이트\n",
    "epochs=20\n",
    "num_classes=10"
   ]
  },
  {
   "cell_type": "code",
   "execution_count": 45,
   "metadata": {},
   "outputs": [],
   "source": [
    "fModel=Sequential() #모델 생성\n",
    "\n",
    "#activation:활성화 함수(linear,relu,sigmoid,softmax)\n",
    "#linear:디폴트값, 입력값*가중치로 계산된 결과가 그대로 출력->LeakyReLU->\n",
    "#9*32=>288+32=320\n",
    "fModel.add(Conv2D(32, kernel_size=(3,3), \n",
    "                  activation='linear',padding='same',\n",
    "                  input_shape=(28,28,1))) #모델에 컨볼루셔널 계층을 추가\n",
    "fModel.add(LeakyReLU(alpha=0.1)) #비선형 의사 결정\n",
    "fModel.add(MaxPooling2D((2,2), padding='same'))\n",
    "\n",
    "fModel.add(Conv2D(64, kernel_size=(3,3), \n",
    "                  activation='linear',padding='same')) #모델에 컨볼루셔널 계층을 추가\n",
    "fModel.add(LeakyReLU(alpha=0.1)) #비선형 의사 결정\n",
    "fModel.add(MaxPooling2D(pool_size=(2,2),padding='same'))\n",
    "\n",
    "fModel.add(Conv2D(128, kernel_size=(3,3), \n",
    "                  activation='linear',padding='same')) #모델에 컨볼루셔널 계층을 추가\n",
    "fModel.add(LeakyReLU(alpha=0.1)) #비선형 의사 결정\n",
    "fModel.add(MaxPooling2D((2,2), padding='same'))\n",
    "\n",
    "fModel.add(Flatten())\n",
    "\n",
    "fModel.add(Dense(128, activation='linear'))\n",
    "fModel.add(LeakyReLU(alpha=0.1)) #비선형 의사 결정\n",
    "\n",
    "fModel.add(Dense(num_classes, activation='softmax'))"
   ]
  },
  {
   "cell_type": "code",
   "execution_count": 46,
   "metadata": {},
   "outputs": [
    {
     "name": "stdout",
     "output_type": "stream",
     "text": [
      "Model: \"sequential_6\"\n",
      "_________________________________________________________________\n",
      "Layer (type)                 Output Shape              Param #   \n",
      "=================================================================\n",
      "conv2d_16 (Conv2D)           (None, 28, 28, 32)        320       \n",
      "_________________________________________________________________\n",
      "leaky_re_lu_16 (LeakyReLU)   (None, 28, 28, 32)        0         \n",
      "_________________________________________________________________\n",
      "max_pooling2d_16 (MaxPooling (None, 14, 14, 32)        0         \n",
      "_________________________________________________________________\n",
      "conv2d_17 (Conv2D)           (None, 14, 14, 64)        18496     \n",
      "_________________________________________________________________\n",
      "leaky_re_lu_17 (LeakyReLU)   (None, 14, 14, 64)        0         \n",
      "_________________________________________________________________\n",
      "max_pooling2d_17 (MaxPooling (None, 7, 7, 64)          0         \n",
      "_________________________________________________________________\n",
      "conv2d_18 (Conv2D)           (None, 7, 7, 128)         73856     \n",
      "_________________________________________________________________\n",
      "leaky_re_lu_18 (LeakyReLU)   (None, 7, 7, 128)         0         \n",
      "_________________________________________________________________\n",
      "max_pooling2d_18 (MaxPooling (None, 4, 4, 128)         0         \n",
      "_________________________________________________________________\n",
      "flatten_2 (Flatten)          (None, 2048)              0         \n",
      "_________________________________________________________________\n",
      "dense_1 (Dense)              (None, 128)               262272    \n",
      "_________________________________________________________________\n",
      "leaky_re_lu_19 (LeakyReLU)   (None, 128)               0         \n",
      "_________________________________________________________________\n",
      "dense_2 (Dense)              (None, 10)                1290      \n",
      "=================================================================\n",
      "Total params: 356,234\n",
      "Trainable params: 356,234\n",
      "Non-trainable params: 0\n",
      "_________________________________________________________________\n"
     ]
    }
   ],
   "source": [
    "fModel.summary()"
   ]
  },
  {
   "cell_type": "code",
   "execution_count": 51,
   "metadata": {},
   "outputs": [],
   "source": [
    "fModel.compile(loss='categorical_crossentropy',\n",
    "              optimizer='adam',\n",
    "              metrics=['accuracy'])"
   ]
  },
  {
   "cell_type": "code",
   "execution_count": 52,
   "metadata": {
    "scrolled": true
   },
   "outputs": [
    {
     "name": "stdout",
     "output_type": "stream",
     "text": [
      "Epoch 1/20\n",
      "750/750 [==============================] - 34s 45ms/step - loss: 0.4704 - accuracy: 0.8304 - val_loss: 0.3184 - val_accuracy: 0.8835\n",
      "Epoch 2/20\n",
      "750/750 [==============================] - 33s 44ms/step - loss: 0.2933 - accuracy: 0.8922 - val_loss: 0.2744 - val_accuracy: 0.9011\n",
      "Epoch 3/20\n",
      "750/750 [==============================] - 35s 47ms/step - loss: 0.2412 - accuracy: 0.9112 - val_loss: 0.2586 - val_accuracy: 0.9047\n",
      "Epoch 4/20\n",
      "750/750 [==============================] - 35s 47ms/step - loss: 0.2067 - accuracy: 0.9240 - val_loss: 0.2506 - val_accuracy: 0.9113\n",
      "Epoch 5/20\n",
      "750/750 [==============================] - 37s 49ms/step - loss: 0.1832 - accuracy: 0.9318 - val_loss: 0.2341 - val_accuracy: 0.9189\n",
      "Epoch 6/20\n",
      "750/750 [==============================] - 35s 47ms/step - loss: 0.1555 - accuracy: 0.9422 - val_loss: 0.2405 - val_accuracy: 0.9177\n",
      "Epoch 7/20\n",
      "750/750 [==============================] - 36s 48ms/step - loss: 0.1351 - accuracy: 0.9506 - val_loss: 0.2626 - val_accuracy: 0.9112\n",
      "Epoch 8/20\n",
      "750/750 [==============================] - 35s 47ms/step - loss: 0.1191 - accuracy: 0.9558 - val_loss: 0.2593 - val_accuracy: 0.9162\n",
      "Epoch 9/20\n",
      "750/750 [==============================] - 35s 47ms/step - loss: 0.0989 - accuracy: 0.9634 - val_loss: 0.2659 - val_accuracy: 0.9186\n",
      "Epoch 10/20\n",
      "750/750 [==============================] - 37s 50ms/step - loss: 0.0850 - accuracy: 0.9683 - val_loss: 0.2627 - val_accuracy: 0.9233\n",
      "Epoch 11/20\n",
      "750/750 [==============================] - 35s 47ms/step - loss: 0.0740 - accuracy: 0.9726 - val_loss: 0.3211 - val_accuracy: 0.9122\n",
      "Epoch 12/20\n",
      "750/750 [==============================] - 34s 46ms/step - loss: 0.0628 - accuracy: 0.9767 - val_loss: 0.3031 - val_accuracy: 0.9204\n",
      "Epoch 13/20\n",
      "750/750 [==============================] - 34s 45ms/step - loss: 0.0533 - accuracy: 0.9800 - val_loss: 0.3658 - val_accuracy: 0.9139\n",
      "Epoch 14/20\n",
      "750/750 [==============================] - 37s 49ms/step - loss: 0.0424 - accuracy: 0.9841 - val_loss: 0.3723 - val_accuracy: 0.9152\n",
      "Epoch 15/20\n",
      "750/750 [==============================] - 34s 46ms/step - loss: 0.0475 - accuracy: 0.9814 - val_loss: 0.3679 - val_accuracy: 0.9215\n",
      "Epoch 16/20\n",
      "750/750 [==============================] - 34s 45ms/step - loss: 0.0376 - accuracy: 0.9863 - val_loss: 0.4082 - val_accuracy: 0.9185\n",
      "Epoch 17/20\n",
      "750/750 [==============================] - 34s 45ms/step - loss: 0.0345 - accuracy: 0.9876 - val_loss: 0.4107 - val_accuracy: 0.9157\n",
      "Epoch 18/20\n",
      "750/750 [==============================] - 35s 46ms/step - loss: 0.0316 - accuracy: 0.9884 - val_loss: 0.4763 - val_accuracy: 0.9165\n",
      "Epoch 19/20\n",
      "750/750 [==============================] - 34s 46ms/step - loss: 0.0294 - accuracy: 0.9893 - val_loss: 0.4821 - val_accuracy: 0.9154\n",
      "Epoch 20/20\n",
      "750/750 [==============================] - 34s 46ms/step - loss: 0.0298 - accuracy: 0.9891 - val_loss: 0.4363 - val_accuracy: 0.9202\n"
     ]
    }
   ],
   "source": [
    "fTrain=fModel.fit(trainX,trainLabel,batch_size=batch_size,epochs=epochs,validation_data=(validX,validLabel))"
   ]
  },
  {
   "cell_type": "code",
   "execution_count": 53,
   "metadata": {},
   "outputs": [
    {
     "name": "stdout",
     "output_type": "stream",
     "text": [
      "313/313 [==============================] - 2s 7ms/step - loss: 0.4543 - accuracy: 0.9210\n",
      "Cost: 0.4542600214481354\n",
      "Accuracy: 0.9210000038146973\n"
     ]
    }
   ],
   "source": [
    "testEval=fModel.evaluate(testX,testYoneHot)\n",
    "print(\"Cost:\", testEval[0])\n",
    "print(\"Accuracy:\", testEval[1])\n",
    "#92% 정확도"
   ]
  },
  {
   "cell_type": "code",
   "execution_count": 57,
   "metadata": {},
   "outputs": [],
   "source": [
    "accuracy=fTrain.history['accuracy']\n",
    "val_accuracy=fTrain.history['val_accuracy']\n",
    "loss=fTrain.history['loss']\n",
    "val_loss=fTrain.history['val_loss']\n",
    "epochs=range(len(accuracy))"
   ]
  },
  {
   "cell_type": "code",
   "execution_count": 60,
   "metadata": {},
   "outputs": [
    {
     "data": {
      "text/plain": [
       "[0.8834999799728394,\n",
       " 0.9010833501815796,\n",
       " 0.9046666622161865,\n",
       " 0.9113333225250244,\n",
       " 0.918916642665863,\n",
       " 0.9176666736602783,\n",
       " 0.9112499952316284,\n",
       " 0.9161666631698608,\n",
       " 0.918583333492279,\n",
       " 0.9232500195503235,\n",
       " 0.9122499823570251,\n",
       " 0.9204166531562805,\n",
       " 0.9139166474342346,\n",
       " 0.9151666760444641,\n",
       " 0.921500027179718,\n",
       " 0.9185000061988831,\n",
       " 0.9156666398048401,\n",
       " 0.9164999723434448,\n",
       " 0.9154166579246521,\n",
       " 0.9202499985694885]"
      ]
     },
     "execution_count": 60,
     "metadata": {},
     "output_type": "execute_result"
    }
   ],
   "source": [
    "val_accuracy"
   ]
  },
  {
   "cell_type": "code",
   "execution_count": 63,
   "metadata": {},
   "outputs": [
    {
     "data": {
      "image/png": "[encoded data removed]",
      "text/plain": [
       "<Figure size 432x288 with 1 Axes>"
      ]
     },
     "metadata": {
      "needs_background": "light"
     },
     "output_type": "display_data"
    },
    {
     "data": {
      "image/png": "[encoded data removed]",
      "text/plain": [
       "<Figure size 432x288 with 1 Axes>"
      ]
     },
     "metadata": {
      "needs_background": "light"
     },
     "output_type": "display_data"
    }
   ],
   "source": [
    "plt.plot(epochs, accuracy, \n",
    "         'bo',label='Training Acc')\n",
    "plt.plot(epochs, val_accuracy, \n",
    "         'b',label='Validation Acc')\n",
    "plt.legend()\n",
    "\n",
    "plt.figure()\n",
    "plt.plot(epochs, loss, \n",
    "         'bo',label='Training loss')\n",
    "plt.plot(epochs, val_loss, \n",
    "         'b',label='Validation loss')\n",
    "plt.legend()\n",
    "\n",
    "plt.show()"
   ]
  },
  {
   "cell_type": "code",
   "execution_count": 64,
   "metadata": {},
   "outputs": [],
   "source": [
    "#dropout(드롭아웃):오버피팅 줄이는 방법\n",
    "#학습 노드(뉴런, 퍼셉트론)의 일부(랜덤)를 \n",
    "#학습에서 제외\n",
    "\n",
    "fModel=Sequential() #모델 생성\n",
    "\n",
    "fModel.add(Conv2D(32, kernel_size=(3,3), \n",
    "                  activation='linear',padding='same',\n",
    "                  input_shape=(28,28,1))) #모델에 컨볼루셔널 계층을 추가\n",
    "fModel.add(LeakyReLU(alpha=0.1)) #비선형 의사 결정\n",
    "fModel.add(MaxPooling2D((2,2), padding='same'))\n",
    "fModel.add(Dropout(0.25))\n",
    "\n",
    "fModel.add(Conv2D(64, kernel_size=(3,3), \n",
    "                  activation='linear',padding='same')) #모델에 컨볼루셔널 계층을 추가\n",
    "fModel.add(LeakyReLU(alpha=0.1)) #비선형 의사 결정\n",
    "fModel.add(MaxPooling2D(pool_size=(2,2),padding='same'))\n",
    "fModel.add(Dropout(0.25))\n",
    "\n",
    "fModel.add(Conv2D(128, kernel_size=(3,3), \n",
    "                  activation='linear',padding='same')) #모델에 컨볼루셔널 계층을 추가\n",
    "fModel.add(LeakyReLU(alpha=0.1)) #비선형 의사 결정\n",
    "fModel.add(MaxPooling2D((2,2), padding='same'))\n",
    "fModel.add(Dropout(0.4))\n",
    "\n",
    "fModel.add(Flatten())\n",
    "\n",
    "fModel.add(Dense(128, activation='linear'))\n",
    "fModel.add(LeakyReLU(alpha=0.1)) #비선형 의사 결정\n",
    "fModel.add(Dropout(0.3))\n",
    "\n",
    "fModel.add(Dense(num_classes, activation='softmax'))"
   ]
  },
  {
   "cell_type": "code",
   "execution_count": 68,
   "metadata": {},
   "outputs": [
    {
     "name": "stdout",
     "output_type": "stream",
     "text": [
      "Epoch 1/20\n",
      "750/750 [==============================] - 41s 55ms/step - loss: 0.6053 - accuracy: 0.7750 - val_loss: 0.3554 - val_accuracy: 0.8691\n",
      "Epoch 2/20\n",
      "750/750 [==============================] - 40s 53ms/step - loss: 0.3763 - accuracy: 0.8626 - val_loss: 0.3060 - val_accuracy: 0.8853\n",
      "Epoch 3/20\n",
      "750/750 [==============================] - 41s 55ms/step - loss: 0.3271 - accuracy: 0.8788 - val_loss: 0.2839 - val_accuracy: 0.8949\n",
      "Epoch 4/20\n",
      "750/750 [==============================] - 44s 59ms/step - loss: 0.2999 - accuracy: 0.8889 - val_loss: 0.2615 - val_accuracy: 0.9029\n",
      "Epoch 5/20\n",
      "750/750 [==============================] - 52s 69ms/step - loss: 0.2812 - accuracy: 0.8948 - val_loss: 0.2559 - val_accuracy: 0.9051\n",
      "Epoch 6/20\n",
      "750/750 [==============================] - 42s 55ms/step - loss: 0.2691 - accuracy: 0.8996 - val_loss: 0.2401 - val_accuracy: 0.9096\n",
      "Epoch 7/20\n",
      "750/750 [==============================] - 44s 58ms/step - loss: 0.2586 - accuracy: 0.9046 - val_loss: 0.2366 - val_accuracy: 0.9139\n",
      "Epoch 8/20\n",
      "750/750 [==============================] - 41s 54ms/step - loss: 0.2485 - accuracy: 0.9071 - val_loss: 0.2388 - val_accuracy: 0.9113\n",
      "Epoch 9/20\n",
      "750/750 [==============================] - 41s 55ms/step - loss: 0.2415 - accuracy: 0.9085 - val_loss: 0.2308 - val_accuracy: 0.9172\n",
      "Epoch 10/20\n",
      "750/750 [==============================] - 41s 55ms/step - loss: 0.2296 - accuracy: 0.9146 - val_loss: 0.2352 - val_accuracy: 0.9169\n",
      "Epoch 11/20\n",
      "750/750 [==============================] - 41s 55ms/step - loss: 0.2298 - accuracy: 0.9150 - val_loss: 0.2225 - val_accuracy: 0.9197\n",
      "Epoch 12/20\n",
      "750/750 [==============================] - 41s 55ms/step - loss: 0.2219 - accuracy: 0.9169 - val_loss: 0.2288 - val_accuracy: 0.9171\n",
      "Epoch 13/20\n",
      "750/750 [==============================] - 41s 55ms/step - loss: 0.2194 - accuracy: 0.9170 - val_loss: 0.2139 - val_accuracy: 0.9212\n",
      "Epoch 14/20\n",
      "750/750 [==============================] - 42s 56ms/step - loss: 0.2145 - accuracy: 0.9204 - val_loss: 0.2151 - val_accuracy: 0.9251\n",
      "Epoch 15/20\n",
      "750/750 [==============================] - 40s 53ms/step - loss: 0.2071 - accuracy: 0.9221 - val_loss: 0.2139 - val_accuracy: 0.9214\n",
      "Epoch 16/20\n",
      "750/750 [==============================] - 41s 54ms/step - loss: 0.2090 - accuracy: 0.9208 - val_loss: 0.2151 - val_accuracy: 0.9224\n",
      "Epoch 17/20\n",
      "750/750 [==============================] - 43s 57ms/step - loss: 0.2031 - accuracy: 0.9237 - val_loss: 0.2135 - val_accuracy: 0.9214\n",
      "Epoch 18/20\n",
      "750/750 [==============================] - 43s 57ms/step - loss: 0.2030 - accuracy: 0.9225 - val_loss: 0.2172 - val_accuracy: 0.9217\n",
      "Epoch 19/20\n",
      "750/750 [==============================] - 42s 55ms/step - loss: 0.1972 - accuracy: 0.9259 - val_loss: 0.2100 - val_accuracy: 0.9228\n",
      "Epoch 20/20\n",
      "750/750 [==============================] - 41s 54ms/step - loss: 0.1959 - accuracy: 0.9255 - val_loss: 0.2128 - val_accuracy: 0.9236\n"
     ]
    }
   ],
   "source": [
    "fModel.compile(loss='categorical_crossentropy',optimizer='adam',metrics=['accuracy'])\n",
    "fTrainDropout=fModel.fit(trainX,trainLabel,batch_size=batch_size,epochs=epochs,validation_data=(validX,validLabel))"
   ]
  },
  {
   "cell_type": "code",
   "execution_count": 69,
   "metadata": {},
   "outputs": [],
   "source": [
    "fModel.save(\"fModelDropout.h5\")\n",
    "#모델 저장하기 : 케라스 에서는 모델 저장시 확장자를 h5 or h5py를 씁니다"
   ]
  },
  {
   "cell_type": "code",
   "execution_count": 70,
   "metadata": {},
   "outputs": [
    {
     "name": "stdout",
     "output_type": "stream",
     "text": [
      "313/313 [==============================] - 2s 6ms/step - loss: 0.2271 - accuracy: 0.9186\n",
      "0.22708581387996674\n",
      "0.9186000227928162\n"
     ]
    }
   ],
   "source": [
    "testEval=fModel.evaluate(testX,testYoneHot)\n",
    "print(testEval[0])\n",
    "print(testEval[1])"
   ]
  },
  {
   "cell_type": "code",
   "execution_count": 77,
   "metadata": {},
   "outputs": [],
   "source": [
    "predictedClasses=fModel.predict(testX)"
   ]
  },
  {
   "cell_type": "code",
   "execution_count": 80,
   "metadata": {},
   "outputs": [],
   "source": [
    "predictedClasses=np.argmax(np.round(\n",
    "    predictedClasses),axis=1)"
   ]
  },
  {
   "cell_type": "code",
   "execution_count": 89,
   "metadata": {},
   "outputs": [
    {
     "data": {
      "text/plain": [
       "(array([   0,    1,    2, ..., 9996, 9997, 9998], dtype=int64),)"
      ]
     },
     "execution_count": 89,
     "metadata": {},
     "output_type": "execute_result"
    }
   ],
   "source": [
    "np.where(predictedClasses==testY)\n"
   ]
  },
  {
   "cell_type": "code",
   "execution_count": 101,
   "metadata": {},
   "outputs": [],
   "source": [
    "import matplotlib\n",
    "from matplotlib import font_manager, rc\n",
    "import platform\n",
    "if platform.system()==\"Windows\":\n",
    "    font_name=font_manager.FontProperties(fname=\"c:/Windows/Fonts/malgun.ttf\").get_name()\n",
    "    rc('font', family=font_name)\n",
    "matplotlib.rcParams['axes.unicode_minus']=False\n",
    "\n",
    "import warnings\n",
    "warnings.filterwarnings(\"ignore\")"
   ]
  },
  {
   "cell_type": "code",
   "execution_count": 102,
   "metadata": {
    "scrolled": true
   },
   "outputs": [
    {
     "name": "stdout",
     "output_type": "stream",
     "text": [
      "[9 2 1 ... 8 1 7]\n",
      "[9 2 1 ... 8 1 5]\n"
     ]
    },
    {
     "data": {
      "text/plain": [
       "array([   0,    1,    2, ..., 9996, 9997, 9998], dtype=int64)"
      ]
     },
     "execution_count": 102,
     "metadata": {},
     "output_type": "execute_result"
    }
   ],
   "source": [
    "print(predictedClasses) #우리의 모델 예측한 결과\n",
    "print(testY) # 정답\n",
    "correct=np.where(predictedClasses==testY)[0]\n",
    "correct"
   ]
  },
  {
   "cell_type": "code",
   "execution_count": 103,
   "metadata": {},
   "outputs": [
    {
     "data": {
      "image/png": "[encoded data removed]",
      "text/plain": [
       "<Figure size 432x288 with 8 Axes>"
      ]
     },
     "metadata": {
      "needs_background": "light"
     },
     "output_type": "display_data"
    }
   ],
   "source": [
    "for i, correct in enumerate(correct[:9]):\n",
    "    plt.subplot(3,3,i+1)\n",
    "    plt.imshow(testX[correct].reshape(28,28),\n",
    "              cmap='gray')\n",
    "    plt.title(\"예측{},정답{}\".format\n",
    "              (predictedClasses[correct],\n",
    "               testY[correct]))\n",
    "    plt.tight_layout()"
   ]
  },
  {
   "cell_type": "code",
   "execution_count": null,
   "metadata": {},
   "outputs": [],
   "source": []
  },
  {
   "cell_type": "code",
   "execution_count": null,
   "metadata": {},
   "outputs": [],
   "source": []
  },
  {
   "cell_type": "code",
   "execution_count": 104,
   "metadata": {},
   "outputs": [
    {
     "data": {
      "image/png": "[encoded data removed]",
      "text/plain": [
       "<Figure size 432x288 with 8 Axes>"
      ]
     },
     "metadata": {
      "needs_background": "light"
     },
     "output_type": "display_data"
    }
   ],
   "source": [
    "incorrect=np.where(predictedClasses!=testY)[0]\n",
    "for i, incorrect in enumerate(incorrect[:9]):\n",
    "    plt.subplot(3,3,i+1)\n",
    "    plt.imshow(testX[incorrect].reshape(28,28),\n",
    "              cmap='gray')\n",
    "    plt.title(\"예측{},정답{}\".format\n",
    "              (predictedClasses[incorrect],\n",
    "               testY[incorrect]))\n",
    "    plt.tight_layout()"
   ]
  }
 ],
 "metadata": {
  "kernelspec": {
   "display_name": "Python 3",
   "language": "python",
   "name": "python3"
  },
  "language_info": {
   "codemirror_mode": {
    "name": "ipython",
    "version": 3
   },
   "file_extension": ".py",
   "mimetype": "text/x-python",
   "name": "python",
   "nbconvert_exporter": "python",
   "pygments_lexer": "ipython3",
   "version": "3.7.6"
  }
 },
 "nbformat": 4,
 "nbformat_minor": 4
}