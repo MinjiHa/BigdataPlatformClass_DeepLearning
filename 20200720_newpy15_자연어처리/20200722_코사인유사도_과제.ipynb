{
 "metadata": {
  "language_info": {
   "codemirror_mode": {
    "name": "ipython",
    "version": 3
   },
   "file_extension": ".py",
   "mimetype": "text/x-python",
   "name": "python",
   "nbconvert_exporter": "python",
   "pygments_lexer": "ipython3",
   "version": 3
  },
  "orig_nbformat": 2,
  "kernelspec": {
   "name": "python_defaultSpec_1595413514608",
   "display_name": "Python 3.7.7 64-bit"
  }
 },
 "nbformat": 4,
 "nbformat_minor": 2,
 "cells": [
  {
   "cell_type": "code",
   "execution_count": 1,
   "metadata": {},
   "outputs": [
    {
     "output_type": "execute_result",
     "data": {
      "text/plain": "array([[0., 0., 0., ..., 0., 0., 0.],\n       [0., 0., 0., ..., 0., 0., 0.],\n       [0., 0., 0., ..., 0., 0., 0.],\n       ...,\n       [0., 0., 0., ..., 0., 0., 0.],\n       [0., 0., 0., ..., 0., 0., 0.],\n       [0., 0., 0., ..., 0., 0., 0.]])"
     },
     "metadata": {},
     "execution_count": 1
    }
   ],
   "source": [
    "import pandas as pd\n",
    "\n",
    "data = pd.read_csv(\"movies_metadata.csv\")\n",
    "data = data.head(20000) # 데이터자르기\n",
    "\n",
    "# overview 결측치 정리\n",
    "data['overview'] = data['overview'].fillna('')\n",
    "data['overview'].isnull().sum()\n",
    "\n",
    "# TFIDF구하기\n",
    "from sklearn.feature_extraction.text import TfidfVectorizer\n",
    "\n",
    "Tfidf = TfidfVectorizer(stop_words='english')\n",
    "TfidfMatrix = Tfidf.fit_transform(data['overview'])\n",
    "TfidfMatrix.toarray()"
   ]
  },
  {
   "cell_type": "code",
   "execution_count": 3,
   "metadata": {},
   "outputs": [
    {
     "output_type": "execute_result",
     "data": {
      "text/plain": "          0         1         2      3         4         5        6      \\\n0      1.000000  0.015757  0.000000    0.0  0.000000  0.000000  0.00000   \n1      0.015757  1.000000  0.049073    0.0  0.000000  0.051830  0.00000   \n2      0.000000  0.049073  1.000000    0.0  0.025005  0.000000  0.00000   \n3      0.000000  0.000000  0.000000    1.0  0.000000  0.007139  0.00000   \n4      0.000000  0.000000  0.025005    0.0  1.000000  0.000000  0.03298   \n...         ...       ...       ...    ...       ...       ...      ...   \n19995  0.000000  0.000000  0.000000    0.0  0.000000  0.000000  0.00000   \n19996  0.024585  0.000000  0.000000    0.0  0.078359  0.029114  0.00000   \n19997  0.000000  0.000000  0.000000    0.0  0.000000  0.000000  0.00000   \n19998  0.000000  0.000000  0.000000    0.0  0.000000  0.000000  0.00000   \n19999  0.000000  0.000000  0.000000    0.0  0.000000  0.000000  0.00000   \n\n          7         8      9      ...     19990     19991     19992     19993  \\\n0      0.000000  0.000000    0.0  ...  0.000000  0.009979  0.060997  0.000000   \n1      0.000000  0.106355    0.0  ...  0.029242  0.000000  0.000000  0.004271   \n2      0.006500  0.000000    0.0  ...  0.000000  0.000000  0.000000  0.000000   \n3      0.009396  0.000000    0.0  ...  0.008305  0.000000  0.008952  0.000000   \n4      0.000000  0.032751    0.0  ...  0.009277  0.000000  0.000000  0.025417   \n...         ...       ...    ...  ...       ...       ...       ...       ...   \n19995  0.000000  0.000000    0.0  ...  0.000000  0.000000  0.000000  0.000000   \n19996  0.009135  0.000000    0.0  ...  0.024083  0.000000  0.000000  0.018573   \n19997  0.000000  0.016507    0.0  ...  0.000000  0.000000  0.000000  0.020476   \n19998  0.000000  0.000000    0.0  ...  0.006947  0.011156  0.000000  0.007180   \n19999  0.000000  0.000000    0.0  ...  0.000000  0.000000  0.000000  0.000000   \n\n          19994  19995     19996     19997  19998     19999  \n0      0.000000    0.0  0.024585  0.000000    0.0  0.000000  \n1      0.000000    0.0  0.000000  0.000000    0.0  0.000000  \n2      0.000000    0.0  0.000000  0.000000    0.0  0.000000  \n3      0.000000    0.0  0.000000  0.000000    0.0  0.000000  \n4      0.000000    0.0  0.078359  0.000000    0.0  0.000000  \n...         ...    ...       ...       ...    ...       ...  \n19995  0.000000    1.0  0.000000  0.000000    0.0  0.000000  \n19996  0.000000    0.0  1.000000  0.000000    0.0  0.000000  \n19997  0.000000    0.0  0.000000  1.000000    0.0  0.083758  \n19998  0.040233    0.0  0.000000  0.000000    1.0  0.000000  \n19999  0.000000    0.0  0.000000  0.083758    0.0  1.000000  \n\n[20000 rows x 20000 columns]",
      "text/html": "<div>\n<style scoped>\n    .dataframe tbody tr th:only-of-type {\n        vertical-align: middle;\n    }\n\n    .dataframe tbody tr th {\n        vertical-align: top;\n    }\n\n    .dataframe thead th {\n        text-align: right;\n    }\n</style>\n<table border=\"1\" class=\"dataframe\">\n  <thead>\n    <tr style=\"text-align: right;\">\n      <th></th>\n      <th>0</th>\n      <th>1</th>\n      <th>2</th>\n      <th>3</th>\n      <th>4</th>\n      <th>5</th>\n      <th>6</th>\n      <th>7</th>\n      <th>8</th>\n      <th>9</th>\n      <th>...</th>\n      <th>19990</th>\n      <th>19991</th>\n      <th>19992</th>\n      <th>19993</th>\n      <th>19994</th>\n      <th>19995</th>\n      <th>19996</th>\n      <th>19997</th>\n      <th>19998</th>\n      <th>19999</th>\n    </tr>\n  </thead>\n  <tbody>\n    <tr>\n      <th>0</th>\n      <td>1.000000</td>\n      <td>0.015757</td>\n      <td>0.000000</td>\n      <td>0.0</td>\n      <td>0.000000</td>\n      <td>0.000000</td>\n      <td>0.00000</td>\n      <td>0.000000</td>\n      <td>0.000000</td>\n      <td>0.0</td>\n      <td>...</td>\n      <td>0.000000</td>\n      <td>0.009979</td>\n      <td>0.060997</td>\n      <td>0.000000</td>\n      <td>0.000000</td>\n      <td>0.0</td>\n      <td>0.024585</td>\n      <td>0.000000</td>\n      <td>0.0</td>\n      <td>0.000000</td>\n    </tr>\n    <tr>\n      <th>1</th>\n      <td>0.015757</td>\n      <td>1.000000</td>\n      <td>0.049073</td>\n      <td>0.0</td>\n      <td>0.000000</td>\n      <td>0.051830</td>\n      <td>0.00000</td>\n      <td>0.000000</td>\n      <td>0.106355</td>\n      <td>0.0</td>\n      <td>...</td>\n      <td>0.029242</td>\n      <td>0.000000</td>\n      <td>0.000000</td>\n      <td>0.004271</td>\n      <td>0.000000</td>\n      <td>0.0</td>\n      <td>0.000000</td>\n      <td>0.000000</td>\n      <td>0.0</td>\n      <td>0.000000</td>\n    </tr>\n    <tr>\n      <th>2</th>\n      <td>0.000000</td>\n      <td>0.049073</td>\n      <td>1.000000</td>\n      <td>0.0</td>\n      <td>0.025005</td>\n      <td>0.000000</td>\n      <td>0.00000</td>\n      <td>0.006500</td>\n      <td>0.000000</td>\n      <td>0.0</td>\n      <td>...</td>\n      <td>0.000000</td>\n      <td>0.000000</td>\n      <td>0.000000</td>\n      <td>0.000000</td>\n      <td>0.000000</td>\n      <td>0.0</td>\n      <td>0.000000</td>\n      <td>0.000000</td>\n      <td>0.0</td>\n      <td>0.000000</td>\n    </tr>\n    <tr>\n      <th>3</th>\n      <td>0.000000</td>\n      <td>0.000000</td>\n      <td>0.000000</td>\n      <td>1.0</td>\n      <td>0.000000</td>\n      <td>0.007139</td>\n      <td>0.00000</td>\n      <td>0.009396</td>\n      <td>0.000000</td>\n      <td>0.0</td>\n      <td>...</td>\n      <td>0.008305</td>\n      <td>0.000000</td>\n      <td>0.008952</td>\n      <td>0.000000</td>\n      <td>0.000000</td>\n      <td>0.0</td>\n      <td>0.000000</td>\n      <td>0.000000</td>\n      <td>0.0</td>\n      <td>0.000000</td>\n    </tr>\n    <tr>\n      <th>4</th>\n      <td>0.000000</td>\n      <td>0.000000</td>\n      <td>0.025005</td>\n      <td>0.0</td>\n      <td>1.000000</td>\n      <td>0.000000</td>\n      <td>0.03298</td>\n      <td>0.000000</td>\n      <td>0.032751</td>\n      <td>0.0</td>\n      <td>...</td>\n      <td>0.009277</td>\n      <td>0.000000</td>\n      <td>0.000000</td>\n      <td>0.025417</td>\n      <td>0.000000</td>\n      <td>0.0</td>\n      <td>0.078359</td>\n      <td>0.000000</td>\n      <td>0.0</td>\n      <td>0.000000</td>\n    </tr>\n    <tr>\n      <th>...</th>\n      <td>...</td>\n      <td>...</td>\n      <td>...</td>\n      <td>...</td>\n      <td>...</td>\n      <td>...</td>\n      <td>...</td>\n      <td>...</td>\n      <td>...</td>\n      <td>...</td>\n      <td>...</td>\n      <td>...</td>\n      <td>...</td>\n      <td>...</td>\n      <td>...</td>\n      <td>...</td>\n      <td>...</td>\n      <td>...</td>\n      <td>...</td>\n      <td>...</td>\n      <td>...</td>\n    </tr>\n    <tr>\n      <th>19995</th>\n      <td>0.000000</td>\n      <td>0.000000</td>\n      <td>0.000000</td>\n      <td>0.0</td>\n      <td>0.000000</td>\n      <td>0.000000</td>\n      <td>0.00000</td>\n      <td>0.000000</td>\n      <td>0.000000</td>\n      <td>0.0</td>\n      <td>...</td>\n      <td>0.000000</td>\n      <td>0.000000</td>\n      <td>0.000000</td>\n      <td>0.000000</td>\n      <td>0.000000</td>\n      <td>1.0</td>\n      <td>0.000000</td>\n      <td>0.000000</td>\n      <td>0.0</td>\n      <td>0.000000</td>\n    </tr>\n    <tr>\n      <th>19996</th>\n      <td>0.024585</td>\n      <td>0.000000</td>\n      <td>0.000000</td>\n      <td>0.0</td>\n      <td>0.078359</td>\n      <td>0.029114</td>\n      <td>0.00000</td>\n      <td>0.009135</td>\n      <td>0.000000</td>\n      <td>0.0</td>\n      <td>...</td>\n      <td>0.024083</td>\n      <td>0.000000</td>\n      <td>0.000000</td>\n      <td>0.018573</td>\n      <td>0.000000</td>\n      <td>0.0</td>\n      <td>1.000000</td>\n      <td>0.000000</td>\n      <td>0.0</td>\n      <td>0.000000</td>\n    </tr>\n    <tr>\n      <th>19997</th>\n      <td>0.000000</td>\n      <td>0.000000</td>\n      <td>0.000000</td>\n      <td>0.0</td>\n      <td>0.000000</td>\n      <td>0.000000</td>\n      <td>0.00000</td>\n      <td>0.000000</td>\n      <td>0.016507</td>\n      <td>0.0</td>\n      <td>...</td>\n      <td>0.000000</td>\n      <td>0.000000</td>\n      <td>0.000000</td>\n      <td>0.020476</td>\n      <td>0.000000</td>\n      <td>0.0</td>\n      <td>0.000000</td>\n      <td>1.000000</td>\n      <td>0.0</td>\n      <td>0.083758</td>\n    </tr>\n    <tr>\n      <th>19998</th>\n      <td>0.000000</td>\n      <td>0.000000</td>\n      <td>0.000000</td>\n      <td>0.0</td>\n      <td>0.000000</td>\n      <td>0.000000</td>\n      <td>0.00000</td>\n      <td>0.000000</td>\n      <td>0.000000</td>\n      <td>0.0</td>\n      <td>...</td>\n      <td>0.006947</td>\n      <td>0.011156</td>\n      <td>0.000000</td>\n      <td>0.007180</td>\n      <td>0.040233</td>\n      <td>0.0</td>\n      <td>0.000000</td>\n      <td>0.000000</td>\n      <td>1.0</td>\n      <td>0.000000</td>\n    </tr>\n    <tr>\n      <th>19999</th>\n      <td>0.000000</td>\n      <td>0.000000</td>\n      <td>0.000000</td>\n      <td>0.0</td>\n      <td>0.000000</td>\n      <td>0.000000</td>\n      <td>0.00000</td>\n      <td>0.000000</td>\n      <td>0.000000</td>\n      <td>0.0</td>\n      <td>...</td>\n      <td>0.000000</td>\n      <td>0.000000</td>\n      <td>0.000000</td>\n      <td>0.000000</td>\n      <td>0.000000</td>\n      <td>0.0</td>\n      <td>0.000000</td>\n      <td>0.083758</td>\n      <td>0.0</td>\n      <td>1.000000</td>\n    </tr>\n  </tbody>\n</table>\n<p>20000 rows × 20000 columns</p>\n</div>"
     },
     "metadata": {},
     "execution_count": 3
    }
   ],
   "source": [
    "# 영화끼리의 코사인유사도 측정해서 어레이만들기\n",
    "from sklearn.metrics.pairwise import linear_kernel\n",
    "\n",
    "cos_sim = linear_kernel(TfidfMatrix, TfidfMatrix)\n",
    "pd.DataFrame(cos_sim)"
   ]
  },
  {
   "cell_type": "code",
   "execution_count": 10,
   "metadata": {
    "tags": []
   },
   "outputs": [],
   "source": [
    "# 제목별 인덱스숫자 테이블 만들기\n",
    "indices = pd.Series(data.index, index=data['title']).drop_duplicates()\n",
    "# 추천 함수 생성\n",
    "def getRecommendation1(title, cosine_sim= cos_sim):\n",
    "    idx = indices[title]\n",
    "    simScores = list(enumerate(cosine_sim[idx])) #코사인유사도\n",
    "    # simScores : 튜플 (인덱스,코사인유사도)\n",
    "    simScores = sorted(simScores, key=lambda x: x[1] ,reverse=True)\n",
    "    # 코사인유사도 기준 내림차순 정렬된 튜플중 자기 제외하고 20개 뽑음\n",
    "    simScores = simScores[1:21]\n",
    "    # 상위 20개 영화의 인덱스값 저장\n",
    "    movieidx = [i[0] for i in simScores]    \n",
    "    return data['title'].iloc[movieidx]"
   ]
  },
  {
   "cell_type": "code",
   "execution_count": 9,
   "metadata": {},
   "outputs": [
    {
     "output_type": "execute_result",
     "data": {
      "text/plain": "6060                  American Heart\n198                     Three Wishes\n10797                       Firewall\n9413            Far Side of the Moon\n6239               Love the Hard Way\n19102               Jack-Jack Attack\n6186           It Runs in the Family\n5307                   Traces of Red\n1087                      Glory Daze\n1473          The Designated Mourner\n2551          It Conquered the World\n5485                          Charly\n3138                   Patriot Games\n482                   Lightning Jack\n13271    Jack Brooks: Monster Slayer\n19758                   Jack & Diane\n11098                      Blackjack\n747                             Jack\n3035           The Last Picture Show\n7075                      Cool World\nName: title, dtype: object"
     },
     "metadata": {},
     "execution_count": 9
    }
   ],
   "source": [
    "getRecommendation1(\"The Tree of Life\")"
   ]
  },
  {
   "cell_type": "code",
   "execution_count": 11,
   "metadata": {},
   "outputs": [],
   "source": [
    "# 추천 함수 생성 (조건 : 평점)\n",
    "def getRecommendation2(title, cosine_sim= cos_sim):\n",
    "    idx = indices[title]\n",
    "    simScores = list(enumerate(cosine_sim[idx])) #코사인유사도\n",
    "    # simScores : 튜플 (인덱스,코사인유사도)\n",
    "    simScores = sorted(simScores, key=lambda x: x[1] ,reverse=True)\n",
    "    # 코사인유사도 기준 내림차순 정렬된 튜플중 자기 제외하고 20개 뽑음\n",
    "    simScores = simScores[1:21]\n",
    "    # 상위 20개 영화의 인덱스값 저장\n",
    "    movieidx = [i[0] for i in simScores]\n",
    "    # 해당 인덱스의 data 테이블 뽑아오기\n",
    "    recom = data.iloc[movieidx]\n",
    "    # 코사인 유사도 상위 20개 영화 중 <vote_average가 6 이상>인 영화만 추천\n",
    "    return recom[(recom['vote_average']>6)]['title']"
   ]
  },
  {
   "cell_type": "code",
   "execution_count": 12,
   "metadata": {},
   "outputs": [
    {
     "output_type": "execute_result",
     "data": {
      "text/plain": "6060             American Heart\n198                Three Wishes\n9413       Far Side of the Moon\n6239          Love the Hard Way\n19102          Jack-Jack Attack\n5307              Traces of Red\n1473     The Designated Mourner\n5485                     Charly\n3138              Patriot Games\n3035      The Last Picture Show\nName: title, dtype: object"
     },
     "metadata": {},
     "execution_count": 12
    }
   ],
   "source": [
    "getRecommendation2(\"The Tree of Life\")"
   ]
  }
 ]
}