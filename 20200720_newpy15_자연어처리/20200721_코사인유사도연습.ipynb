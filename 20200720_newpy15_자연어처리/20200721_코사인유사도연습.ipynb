{
 "metadata": {
  "language_info": {
   "codemirror_mode": {
    "name": "ipython",
    "version": 3
   },
   "file_extension": ".py",
   "mimetype": "text/x-python",
   "name": "python",
   "nbconvert_exporter": "python",
   "pygments_lexer": "ipython3",
   "version": 3
  },
  "orig_nbformat": 2,
  "kernelspec": {
   "name": "python_defaultSpec_1595408472832",
   "display_name": "Python 3.7.7 64-bit"
  }
 },
 "nbformat": 4,
 "nbformat_minor": 2,
 "cells": [
  {
   "cell_type": "code",
   "execution_count": 7,
   "metadata": {
    "tags": []
   },
   "outputs": [
    {
     "output_type": "stream",
     "name": "stdout",
     "text": "<class 'pandas.core.frame.DataFrame'>\nRangeIndex: 45466 entries, 0 to 45465\nData columns (total 24 columns):\n #   Column                 Non-Null Count  Dtype  \n---  ------                 --------------  -----  \n 0   adult                  45466 non-null  object \n 1   belongs_to_collection  4494 non-null   object \n 2   budget                 45466 non-null  object \n 3   genres                 45466 non-null  object \n 4   homepage               7782 non-null   object \n 5   id                     45466 non-null  object \n 6   imdb_id                45449 non-null  object \n 7   original_language      45455 non-null  object \n 8   original_title         45466 non-null  object \n 9   overview               44512 non-null  object \n 10  popularity             45461 non-null  object \n 11  poster_path            45080 non-null  object \n 12  production_companies   45463 non-null  object \n 13  production_countries   45463 non-null  object \n 14  release_date           45379 non-null  object \n 15  revenue                45460 non-null  float64\n 16  runtime                45203 non-null  float64\n 17  spoken_languages       45460 non-null  object \n 18  status                 45379 non-null  object \n 19  tagline                20412 non-null  object \n 20  title                  45460 non-null  object \n 21  video                  45460 non-null  object \n 22  vote_average           45460 non-null  float64\n 23  vote_count             45460 non-null  float64\ndtypes: float64(4), object(20)\nmemory usage: 8.3+ MB\n"
    }
   ],
   "source": [
    "import pandas as pd\n",
    "\n",
    "data = pd.read_csv(\"movies_metadata.csv\")\n",
    "data.info()"
   ]
  },
  {
   "cell_type": "code",
   "execution_count": 35,
   "metadata": {},
   "outputs": [],
   "source": [
    "data = data.head(20000)"
   ]
  },
  {
   "cell_type": "code",
   "execution_count": 36,
   "metadata": {},
   "outputs": [
    {
     "output_type": "execute_result",
     "data": {
      "text/plain": "    adult                              belongs_to_collection    budget  \\\n0   False  {'id': 10194, 'name': 'Toy Story Collection', ...  30000000   \n1   False                                                NaN  65000000   \n2   False  {'id': 119050, 'name': 'Grumpy Old Men Collect...         0   \n3   False                                                NaN  16000000   \n4   False  {'id': 96871, 'name': 'Father of the Bride Col...         0   \n5   False                                                NaN  60000000   \n6   False                                                NaN  58000000   \n7   False                                                NaN         0   \n8   False                                                NaN  35000000   \n9   False  {'id': 645, 'name': 'James Bond Collection', '...  58000000   \n10  False                                                NaN  62000000   \n11  False                                                NaN         0   \n12  False  {'id': 117693, 'name': 'Balto Collection', 'po...         0   \n13  False                                                NaN  44000000   \n14  False                                                NaN  98000000   \n15  False                                                NaN  52000000   \n16  False                                                NaN  16500000   \n17  False                                                NaN   4000000   \n18  False  {'id': 3167, 'name': 'Ace Ventura Collection',...  30000000   \n19  False                                                NaN  60000000   \n\n                                               genres  \\\n0   [{'id': 16, 'name': 'Animation'}, {'id': 35, '...   \n1   [{'id': 12, 'name': 'Adventure'}, {'id': 14, '...   \n2   [{'id': 10749, 'name': 'Romance'}, {'id': 35, ...   \n3   [{'id': 35, 'name': 'Comedy'}, {'id': 18, 'nam...   \n4                      [{'id': 35, 'name': 'Comedy'}]   \n5   [{'id': 28, 'name': 'Action'}, {'id': 80, 'nam...   \n6   [{'id': 35, 'name': 'Comedy'}, {'id': 10749, '...   \n7   [{'id': 28, 'name': 'Action'}, {'id': 12, 'nam...   \n8   [{'id': 28, 'name': 'Action'}, {'id': 12, 'nam...   \n9   [{'id': 12, 'name': 'Adventure'}, {'id': 28, '...   \n10  [{'id': 35, 'name': 'Comedy'}, {'id': 18, 'nam...   \n11  [{'id': 35, 'name': 'Comedy'}, {'id': 27, 'nam...   \n12  [{'id': 10751, 'name': 'Family'}, {'id': 16, '...   \n13  [{'id': 36, 'name': 'History'}, {'id': 18, 'na...   \n14  [{'id': 28, 'name': 'Action'}, {'id': 12, 'nam...   \n15  [{'id': 18, 'name': 'Drama'}, {'id': 80, 'name...   \n16  [{'id': 18, 'name': 'Drama'}, {'id': 10749, 'n...   \n17  [{'id': 80, 'name': 'Crime'}, {'id': 35, 'name...   \n18  [{'id': 80, 'name': 'Crime'}, {'id': 35, 'name...   \n19  [{'id': 28, 'name': 'Action'}, {'id': 35, 'nam...   \n\n                                        homepage     id    imdb_id  \\\n0           http://toystory.disney.com/toy-story    862  tt0114709   \n1                                            NaN   8844  tt0113497   \n2                                            NaN  15602  tt0113228   \n3                                            NaN  31357  tt0114885   \n4                                            NaN  11862  tt0113041   \n5                                            NaN    949  tt0113277   \n6                                            NaN  11860  tt0114319   \n7                                            NaN  45325  tt0112302   \n8                                            NaN   9091  tt0114576   \n9   http://www.mgm.com/view/movie/757/Goldeneye/    710  tt0113189   \n10                                           NaN   9087  tt0112346   \n11                                           NaN  12110  tt0112896   \n12                                           NaN  21032  tt0112453   \n13                                           NaN  10858  tt0113987   \n14                                           NaN   1408  tt0112760   \n15                                           NaN    524  tt0112641   \n16                                           NaN   4584  tt0114388   \n17                                           NaN      5  tt0113101   \n18                                           NaN   9273  tt0112281   \n19                                           NaN  11517  tt0113845   \n\n   original_language                  original_title  \\\n0                 en                       Toy Story   \n1                 en                         Jumanji   \n2                 en                Grumpier Old Men   \n3                 en               Waiting to Exhale   \n4                 en     Father of the Bride Part II   \n5                 en                            Heat   \n6                 en                         Sabrina   \n7                 en                    Tom and Huck   \n8                 en                    Sudden Death   \n9                 en                       GoldenEye   \n10                en          The American President   \n11                en     Dracula: Dead and Loving It   \n12                en                           Balto   \n13                en                           Nixon   \n14                en                Cutthroat Island   \n15                en                          Casino   \n16                en           Sense and Sensibility   \n17                en                      Four Rooms   \n18                en  Ace Ventura: When Nature Calls   \n19                en                     Money Train   \n\n                                             overview  ... release_date  \\\n0   Led by Woody, Andy's toys live happily in his ...  ...   1995-10-30   \n1   When siblings Judy and Peter discover an encha...  ...   1995-12-15   \n2   A family wedding reignites the ancient feud be...  ...   1995-12-22   \n3   Cheated on, mistreated and stepped on, the wom...  ...   1995-12-22   \n4   Just when George Banks has recovered from his ...  ...   1995-02-10   \n5   Obsessive master thief, Neil McCauley leads a ...  ...   1995-12-15   \n6   An ugly duckling having undergone a remarkable...  ...   1995-12-15   \n7   A mischievous young boy, Tom Sawyer, witnesses...  ...   1995-12-22   \n8   International action superstar Jean Claude Van...  ...   1995-12-22   \n9   James Bond must unmask the mysterious head of ...  ...   1995-11-16   \n10  Widowed U.S. president Andrew Shepherd, one of...  ...   1995-11-17   \n11  When a lawyer shows up at the vampire's doorst...  ...   1995-12-22   \n12  An outcast half-wolf risks his life to prevent...  ...   1995-12-22   \n13  An all-star cast powers this epic look at Amer...  ...   1995-12-22   \n14  Morgan Adams and her slave, William Shaw, are ...  ...   1995-12-22   \n15  The life of the gambling paradise – Las Vegas ...  ...   1995-11-22   \n16  Rich Mr. Dashwood dies, leaving his second wif...  ...   1995-12-13   \n17  It's Ted the Bellhop's first night on the job....  ...   1995-12-09   \n18  Summoned from an ashram in Tibet, Ace finds hi...  ...   1995-11-10   \n19  A vengeful New York transit cop decides to ste...  ...   1995-11-21   \n\n        revenue runtime                                   spoken_languages  \\\n0   373554033.0    81.0           [{'iso_639_1': 'en', 'name': 'English'}]   \n1   262797249.0   104.0  [{'iso_639_1': 'en', 'name': 'English'}, {'iso...   \n2           0.0   101.0           [{'iso_639_1': 'en', 'name': 'English'}]   \n3    81452156.0   127.0           [{'iso_639_1': 'en', 'name': 'English'}]   \n4    76578911.0   106.0           [{'iso_639_1': 'en', 'name': 'English'}]   \n5   187436818.0   170.0  [{'iso_639_1': 'en', 'name': 'English'}, {'iso...   \n6           0.0   127.0  [{'iso_639_1': 'fr', 'name': 'Français'}, {'is...   \n7           0.0    97.0  [{'iso_639_1': 'en', 'name': 'English'}, {'iso...   \n8    64350171.0   106.0           [{'iso_639_1': 'en', 'name': 'English'}]   \n9   352194034.0   130.0  [{'iso_639_1': 'en', 'name': 'English'}, {'iso...   \n10  107879496.0   106.0           [{'iso_639_1': 'en', 'name': 'English'}]   \n11          0.0    88.0  [{'iso_639_1': 'en', 'name': 'English'}, {'iso...   \n12   11348324.0    78.0           [{'iso_639_1': 'en', 'name': 'English'}]   \n13   13681765.0   192.0           [{'iso_639_1': 'en', 'name': 'English'}]   \n14   10017322.0   119.0  [{'iso_639_1': 'en', 'name': 'English'}, {'iso...   \n15  116112375.0   178.0           [{'iso_639_1': 'en', 'name': 'English'}]   \n16  135000000.0   136.0           [{'iso_639_1': 'en', 'name': 'English'}]   \n17    4300000.0    98.0           [{'iso_639_1': 'en', 'name': 'English'}]   \n18  212385533.0    90.0           [{'iso_639_1': 'en', 'name': 'English'}]   \n19   35431113.0   103.0           [{'iso_639_1': 'en', 'name': 'English'}]   \n\n      status                                            tagline  \\\n0   Released                                                NaN   \n1   Released          Roll the dice and unleash the excitement!   \n2   Released  Still Yelling. Still Fighting. Still Ready for...   \n3   Released  Friends are the people who let you be yourself...   \n4   Released  Just When His World Is Back To Normal... He's ...   \n5   Released                           A Los Angeles Crime Saga   \n6   Released  You are cordially invited to the most surprisi...   \n7   Released                             The Original Bad Boys.   \n8   Released                         Terror goes into overtime.   \n9   Released               No limits. No fears. No substitutes.   \n10  Released  Why can't the most powerful man in the world h...   \n11  Released                                                NaN   \n12  Released                     Part Dog. Part Wolf. All Hero.   \n13  Released  Triumphant in Victory, Bitter in Defeat. He Ch...   \n14  Released  The Course Has Been Set. There Is No Turning B...   \n15  Released                   No one stays at the top forever.   \n16  Released           Lose your heart and come to your senses.   \n17  Released  Twelve outrageous guests. Four scandalous requ...   \n18  Released            New animals. New adventures. Same hair.   \n19  Released                        Get on, or GET OUT THE WAY!   \n\n                             title  video vote_average vote_count  \n0                        Toy Story  False          7.7     5415.0  \n1                          Jumanji  False          6.9     2413.0  \n2                 Grumpier Old Men  False          6.5       92.0  \n3                Waiting to Exhale  False          6.1       34.0  \n4      Father of the Bride Part II  False          5.7      173.0  \n5                             Heat  False          7.7     1886.0  \n6                          Sabrina  False          6.2      141.0  \n7                     Tom and Huck  False          5.4       45.0  \n8                     Sudden Death  False          5.5      174.0  \n9                        GoldenEye  False          6.6     1194.0  \n10          The American President  False          6.5      199.0  \n11     Dracula: Dead and Loving It  False          5.7      210.0  \n12                           Balto  False          7.1      423.0  \n13                           Nixon  False          7.1       72.0  \n14                Cutthroat Island  False          5.7      137.0  \n15                          Casino  False          7.8     1343.0  \n16           Sense and Sensibility  False          7.2      364.0  \n17                      Four Rooms  False          6.5      539.0  \n18  Ace Ventura: When Nature Calls  False          6.1     1128.0  \n19                     Money Train  False          5.4      224.0  \n\n[20 rows x 24 columns]",
      "text/html": "<div>\n<style scoped>\n    .dataframe tbody tr th:only-of-type {\n        vertical-align: middle;\n    }\n\n    .dataframe tbody tr th {\n        vertical-align: top;\n    }\n\n    .dataframe thead th {\n        text-align: right;\n    }\n</style>\n<table border=\"1\" class=\"dataframe\">\n  <thead>\n    <tr style=\"text-align: right;\">\n      <th></th>\n      <th>adult</th>\n      <th>belongs_to_collection</th>\n      <th>budget</th>\n      <th>genres</th>\n      <th>homepage</th>\n      <th>id</th>\n      <th>imdb_id</th>\n      <th>original_language</th>\n      <th>original_title</th>\n      <th>overview</th>\n      <th>...</th>\n      <th>release_date</th>\n      <th>revenue</th>\n      <th>runtime</th>\n      <th>spoken_languages</th>\n      <th>status</th>\n      <th>tagline</th>\n      <th>title</th>\n      <th>video</th>\n      <th>vote_average</th>\n      <th>vote_count</th>\n    </tr>\n  </thead>\n  <tbody>\n    <tr>\n      <th>0</th>\n      <td>False</td>\n      <td>{'id': 10194, 'name': 'Toy Story Collection', ...</td>\n      <td>30000000</td>\n      <td>[{'id': 16, 'name': 'Animation'}, {'id': 35, '...</td>\n      <td>http://toystory.disney.com/toy-story</td>\n      <td>862</td>\n      <td>tt0114709</td>\n      <td>en</td>\n      <td>Toy Story</td>\n      <td>Led by Woody, Andy's toys live happily in his ...</td>\n      <td>...</td>\n      <td>1995-10-30</td>\n      <td>373554033.0</td>\n      <td>81.0</td>\n      <td>[{'iso_639_1': 'en', 'name': 'English'}]</td>\n      <td>Released</td>\n      <td>NaN</td>\n      <td>Toy Story</td>\n      <td>False</td>\n      <td>7.7</td>\n      <td>5415.0</td>\n    </tr>\n    <tr>\n      <th>1</th>\n      <td>False</td>\n      <td>NaN</td>\n      <td>65000000</td>\n      <td>[{'id': 12, 'name': 'Adventure'}, {'id': 14, '...</td>\n      <td>NaN</td>\n      <td>8844</td>\n      <td>tt0113497</td>\n      <td>en</td>\n      <td>Jumanji</td>\n      <td>When siblings Judy and Peter discover an encha...</td>\n      <td>...</td>\n      <td>1995-12-15</td>\n      <td>262797249.0</td>\n      <td>104.0</td>\n      <td>[{'iso_639_1': 'en', 'name': 'English'}, {'iso...</td>\n      <td>Released</td>\n      <td>Roll the dice and unleash the excitement!</td>\n      <td>Jumanji</td>\n      <td>False</td>\n      <td>6.9</td>\n      <td>2413.0</td>\n    </tr>\n    <tr>\n      <th>2</th>\n      <td>False</td>\n      <td>{'id': 119050, 'name': 'Grumpy Old Men Collect...</td>\n      <td>0</td>\n      <td>[{'id': 10749, 'name': 'Romance'}, {'id': 35, ...</td>\n      <td>NaN</td>\n      <td>15602</td>\n      <td>tt0113228</td>\n      <td>en</td>\n      <td>Grumpier Old Men</td>\n      <td>A family wedding reignites the ancient feud be...</td>\n      <td>...</td>\n      <td>1995-12-22</td>\n      <td>0.0</td>\n      <td>101.0</td>\n      <td>[{'iso_639_1': 'en', 'name': 'English'}]</td>\n      <td>Released</td>\n      <td>Still Yelling. Still Fighting. Still Ready for...</td>\n      <td>Grumpier Old Men</td>\n      <td>False</td>\n      <td>6.5</td>\n      <td>92.0</td>\n    </tr>\n    <tr>\n      <th>3</th>\n      <td>False</td>\n      <td>NaN</td>\n      <td>16000000</td>\n      <td>[{'id': 35, 'name': 'Comedy'}, {'id': 18, 'nam...</td>\n      <td>NaN</td>\n      <td>31357</td>\n      <td>tt0114885</td>\n      <td>en</td>\n      <td>Waiting to Exhale</td>\n      <td>Cheated on, mistreated and stepped on, the wom...</td>\n      <td>...</td>\n      <td>1995-12-22</td>\n      <td>81452156.0</td>\n      <td>127.0</td>\n      <td>[{'iso_639_1': 'en', 'name': 'English'}]</td>\n      <td>Released</td>\n      <td>Friends are the people who let you be yourself...</td>\n      <td>Waiting to Exhale</td>\n      <td>False</td>\n      <td>6.1</td>\n      <td>34.0</td>\n    </tr>\n    <tr>\n      <th>4</th>\n      <td>False</td>\n      <td>{'id': 96871, 'name': 'Father of the Bride Col...</td>\n      <td>0</td>\n      <td>[{'id': 35, 'name': 'Comedy'}]</td>\n      <td>NaN</td>\n      <td>11862</td>\n      <td>tt0113041</td>\n      <td>en</td>\n      <td>Father of the Bride Part II</td>\n      <td>Just when George Banks has recovered from his ...</td>\n      <td>...</td>\n      <td>1995-02-10</td>\n      <td>76578911.0</td>\n      <td>106.0</td>\n      <td>[{'iso_639_1': 'en', 'name': 'English'}]</td>\n      <td>Released</td>\n      <td>Just When His World Is Back To Normal... He's ...</td>\n      <td>Father of the Bride Part II</td>\n      <td>False</td>\n      <td>5.7</td>\n      <td>173.0</td>\n    </tr>\n    <tr>\n      <th>5</th>\n      <td>False</td>\n      <td>NaN</td>\n      <td>60000000</td>\n      <td>[{'id': 28, 'name': 'Action'}, {'id': 80, 'nam...</td>\n      <td>NaN</td>\n      <td>949</td>\n      <td>tt0113277</td>\n      <td>en</td>\n      <td>Heat</td>\n      <td>Obsessive master thief, Neil McCauley leads a ...</td>\n      <td>...</td>\n      <td>1995-12-15</td>\n      <td>187436818.0</td>\n      <td>170.0</td>\n      <td>[{'iso_639_1': 'en', 'name': 'English'}, {'iso...</td>\n      <td>Released</td>\n      <td>A Los Angeles Crime Saga</td>\n      <td>Heat</td>\n      <td>False</td>\n      <td>7.7</td>\n      <td>1886.0</td>\n    </tr>\n    <tr>\n      <th>6</th>\n      <td>False</td>\n      <td>NaN</td>\n      <td>58000000</td>\n      <td>[{'id': 35, 'name': 'Comedy'}, {'id': 10749, '...</td>\n      <td>NaN</td>\n      <td>11860</td>\n      <td>tt0114319</td>\n      <td>en</td>\n      <td>Sabrina</td>\n      <td>An ugly duckling having undergone a remarkable...</td>\n      <td>...</td>\n      <td>1995-12-15</td>\n      <td>0.0</td>\n      <td>127.0</td>\n      <td>[{'iso_639_1': 'fr', 'name': 'Français'}, {'is...</td>\n      <td>Released</td>\n      <td>You are cordially invited to the most surprisi...</td>\n      <td>Sabrina</td>\n      <td>False</td>\n      <td>6.2</td>\n      <td>141.0</td>\n    </tr>\n    <tr>\n      <th>7</th>\n      <td>False</td>\n      <td>NaN</td>\n      <td>0</td>\n      <td>[{'id': 28, 'name': 'Action'}, {'id': 12, 'nam...</td>\n      <td>NaN</td>\n      <td>45325</td>\n      <td>tt0112302</td>\n      <td>en</td>\n      <td>Tom and Huck</td>\n      <td>A mischievous young boy, Tom Sawyer, witnesses...</td>\n      <td>...</td>\n      <td>1995-12-22</td>\n      <td>0.0</td>\n      <td>97.0</td>\n      <td>[{'iso_639_1': 'en', 'name': 'English'}, {'iso...</td>\n      <td>Released</td>\n      <td>The Original Bad Boys.</td>\n      <td>Tom and Huck</td>\n      <td>False</td>\n      <td>5.4</td>\n      <td>45.0</td>\n    </tr>\n    <tr>\n      <th>8</th>\n      <td>False</td>\n      <td>NaN</td>\n      <td>35000000</td>\n      <td>[{'id': 28, 'name': 'Action'}, {'id': 12, 'nam...</td>\n      <td>NaN</td>\n      <td>9091</td>\n      <td>tt0114576</td>\n      <td>en</td>\n      <td>Sudden Death</td>\n      <td>International action superstar Jean Claude Van...</td>\n      <td>...</td>\n      <td>1995-12-22</td>\n      <td>64350171.0</td>\n      <td>106.0</td>\n      <td>[{'iso_639_1': 'en', 'name': 'English'}]</td>\n      <td>Released</td>\n      <td>Terror goes into overtime.</td>\n      <td>Sudden Death</td>\n      <td>False</td>\n      <td>5.5</td>\n      <td>174.0</td>\n    </tr>\n    <tr>\n      <th>9</th>\n      <td>False</td>\n      <td>{'id': 645, 'name': 'James Bond Collection', '...</td>\n      <td>58000000</td>\n      <td>[{'id': 12, 'name': 'Adventure'}, {'id': 28, '...</td>\n      <td>http://www.mgm.com/view/movie/757/Goldeneye/</td>\n      <td>710</td>\n      <td>tt0113189</td>\n      <td>en</td>\n      <td>GoldenEye</td>\n      <td>James Bond must unmask the mysterious head of ...</td>\n      <td>...</td>\n      <td>1995-11-16</td>\n      <td>352194034.0</td>\n      <td>130.0</td>\n      <td>[{'iso_639_1': 'en', 'name': 'English'}, {'iso...</td>\n      <td>Released</td>\n      <td>No limits. No fears. No substitutes.</td>\n      <td>GoldenEye</td>\n      <td>False</td>\n      <td>6.6</td>\n      <td>1194.0</td>\n    </tr>\n    <tr>\n      <th>10</th>\n      <td>False</td>\n      <td>NaN</td>\n      <td>62000000</td>\n      <td>[{'id': 35, 'name': 'Comedy'}, {'id': 18, 'nam...</td>\n      <td>NaN</td>\n      <td>9087</td>\n      <td>tt0112346</td>\n      <td>en</td>\n      <td>The American President</td>\n      <td>Widowed U.S. president Andrew Shepherd, one of...</td>\n      <td>...</td>\n      <td>1995-11-17</td>\n      <td>107879496.0</td>\n      <td>106.0</td>\n      <td>[{'iso_639_1': 'en', 'name': 'English'}]</td>\n      <td>Released</td>\n      <td>Why can't the most powerful man in the world h...</td>\n      <td>The American President</td>\n      <td>False</td>\n      <td>6.5</td>\n      <td>199.0</td>\n    </tr>\n    <tr>\n      <th>11</th>\n      <td>False</td>\n      <td>NaN</td>\n      <td>0</td>\n      <td>[{'id': 35, 'name': 'Comedy'}, {'id': 27, 'nam...</td>\n      <td>NaN</td>\n      <td>12110</td>\n      <td>tt0112896</td>\n      <td>en</td>\n      <td>Dracula: Dead and Loving It</td>\n      <td>When a lawyer shows up at the vampire's doorst...</td>\n      <td>...</td>\n      <td>1995-12-22</td>\n      <td>0.0</td>\n      <td>88.0</td>\n      <td>[{'iso_639_1': 'en', 'name': 'English'}, {'iso...</td>\n      <td>Released</td>\n      <td>NaN</td>\n      <td>Dracula: Dead and Loving It</td>\n      <td>False</td>\n      <td>5.7</td>\n      <td>210.0</td>\n    </tr>\n    <tr>\n      <th>12</th>\n      <td>False</td>\n      <td>{'id': 117693, 'name': 'Balto Collection', 'po...</td>\n      <td>0</td>\n      <td>[{'id': 10751, 'name': 'Family'}, {'id': 16, '...</td>\n      <td>NaN</td>\n      <td>21032</td>\n      <td>tt0112453</td>\n      <td>en</td>\n      <td>Balto</td>\n      <td>An outcast half-wolf risks his life to prevent...</td>\n      <td>...</td>\n      <td>1995-12-22</td>\n      <td>11348324.0</td>\n      <td>78.0</td>\n      <td>[{'iso_639_1': 'en', 'name': 'English'}]</td>\n      <td>Released</td>\n      <td>Part Dog. Part Wolf. All Hero.</td>\n      <td>Balto</td>\n      <td>False</td>\n      <td>7.1</td>\n      <td>423.0</td>\n    </tr>\n    <tr>\n      <th>13</th>\n      <td>False</td>\n      <td>NaN</td>\n      <td>44000000</td>\n      <td>[{'id': 36, 'name': 'History'}, {'id': 18, 'na...</td>\n      <td>NaN</td>\n      <td>10858</td>\n      <td>tt0113987</td>\n      <td>en</td>\n      <td>Nixon</td>\n      <td>An all-star cast powers this epic look at Amer...</td>\n      <td>...</td>\n      <td>1995-12-22</td>\n      <td>13681765.0</td>\n      <td>192.0</td>\n      <td>[{'iso_639_1': 'en', 'name': 'English'}]</td>\n      <td>Released</td>\n      <td>Triumphant in Victory, Bitter in Defeat. He Ch...</td>\n      <td>Nixon</td>\n      <td>False</td>\n      <td>7.1</td>\n      <td>72.0</td>\n    </tr>\n    <tr>\n      <th>14</th>\n      <td>False</td>\n      <td>NaN</td>\n      <td>98000000</td>\n      <td>[{'id': 28, 'name': 'Action'}, {'id': 12, 'nam...</td>\n      <td>NaN</td>\n      <td>1408</td>\n      <td>tt0112760</td>\n      <td>en</td>\n      <td>Cutthroat Island</td>\n      <td>Morgan Adams and her slave, William Shaw, are ...</td>\n      <td>...</td>\n      <td>1995-12-22</td>\n      <td>10017322.0</td>\n      <td>119.0</td>\n      <td>[{'iso_639_1': 'en', 'name': 'English'}, {'iso...</td>\n      <td>Released</td>\n      <td>The Course Has Been Set. There Is No Turning B...</td>\n      <td>Cutthroat Island</td>\n      <td>False</td>\n      <td>5.7</td>\n      <td>137.0</td>\n    </tr>\n    <tr>\n      <th>15</th>\n      <td>False</td>\n      <td>NaN</td>\n      <td>52000000</td>\n      <td>[{'id': 18, 'name': 'Drama'}, {'id': 80, 'name...</td>\n      <td>NaN</td>\n      <td>524</td>\n      <td>tt0112641</td>\n      <td>en</td>\n      <td>Casino</td>\n      <td>The life of the gambling paradise – Las Vegas ...</td>\n      <td>...</td>\n      <td>1995-11-22</td>\n      <td>116112375.0</td>\n      <td>178.0</td>\n      <td>[{'iso_639_1': 'en', 'name': 'English'}]</td>\n      <td>Released</td>\n      <td>No one stays at the top forever.</td>\n      <td>Casino</td>\n      <td>False</td>\n      <td>7.8</td>\n      <td>1343.0</td>\n    </tr>\n    <tr>\n      <th>16</th>\n      <td>False</td>\n      <td>NaN</td>\n      <td>16500000</td>\n      <td>[{'id': 18, 'name': 'Drama'}, {'id': 10749, 'n...</td>\n      <td>NaN</td>\n      <td>4584</td>\n      <td>tt0114388</td>\n      <td>en</td>\n      <td>Sense and Sensibility</td>\n      <td>Rich Mr. Dashwood dies, leaving his second wif...</td>\n      <td>...</td>\n      <td>1995-12-13</td>\n      <td>135000000.0</td>\n      <td>136.0</td>\n      <td>[{'iso_639_1': 'en', 'name': 'English'}]</td>\n      <td>Released</td>\n      <td>Lose your heart and come to your senses.</td>\n      <td>Sense and Sensibility</td>\n      <td>False</td>\n      <td>7.2</td>\n      <td>364.0</td>\n    </tr>\n    <tr>\n      <th>17</th>\n      <td>False</td>\n      <td>NaN</td>\n      <td>4000000</td>\n      <td>[{'id': 80, 'name': 'Crime'}, {'id': 35, 'name...</td>\n      <td>NaN</td>\n      <td>5</td>\n      <td>tt0113101</td>\n      <td>en</td>\n      <td>Four Rooms</td>\n      <td>It's Ted the Bellhop's first night on the job....</td>\n      <td>...</td>\n      <td>1995-12-09</td>\n      <td>4300000.0</td>\n      <td>98.0</td>\n      <td>[{'iso_639_1': 'en', 'name': 'English'}]</td>\n      <td>Released</td>\n      <td>Twelve outrageous guests. Four scandalous requ...</td>\n      <td>Four Rooms</td>\n      <td>False</td>\n      <td>6.5</td>\n      <td>539.0</td>\n    </tr>\n    <tr>\n      <th>18</th>\n      <td>False</td>\n      <td>{'id': 3167, 'name': 'Ace Ventura Collection',...</td>\n      <td>30000000</td>\n      <td>[{'id': 80, 'name': 'Crime'}, {'id': 35, 'name...</td>\n      <td>NaN</td>\n      <td>9273</td>\n      <td>tt0112281</td>\n      <td>en</td>\n      <td>Ace Ventura: When Nature Calls</td>\n      <td>Summoned from an ashram in Tibet, Ace finds hi...</td>\n      <td>...</td>\n      <td>1995-11-10</td>\n      <td>212385533.0</td>\n      <td>90.0</td>\n      <td>[{'iso_639_1': 'en', 'name': 'English'}]</td>\n      <td>Released</td>\n      <td>New animals. New adventures. Same hair.</td>\n      <td>Ace Ventura: When Nature Calls</td>\n      <td>False</td>\n      <td>6.1</td>\n      <td>1128.0</td>\n    </tr>\n    <tr>\n      <th>19</th>\n      <td>False</td>\n      <td>NaN</td>\n      <td>60000000</td>\n      <td>[{'id': 28, 'name': 'Action'}, {'id': 35, 'nam...</td>\n      <td>NaN</td>\n      <td>11517</td>\n      <td>tt0113845</td>\n      <td>en</td>\n      <td>Money Train</td>\n      <td>A vengeful New York transit cop decides to ste...</td>\n      <td>...</td>\n      <td>1995-11-21</td>\n      <td>35431113.0</td>\n      <td>103.0</td>\n      <td>[{'iso_639_1': 'en', 'name': 'English'}]</td>\n      <td>Released</td>\n      <td>Get on, or GET OUT THE WAY!</td>\n      <td>Money Train</td>\n      <td>False</td>\n      <td>5.4</td>\n      <td>224.0</td>\n    </tr>\n  </tbody>\n</table>\n<p>20 rows × 24 columns</p>\n</div>"
     },
     "metadata": {},
     "execution_count": 36
    }
   ],
   "source": [
    "data.head(20)"
   ]
  },
  {
   "cell_type": "code",
   "execution_count": 9,
   "metadata": {},
   "outputs": [
    {
     "output_type": "execute_result",
     "data": {
      "text/plain": "       adult belongs_to_collection    budget  \\\n17130  False                   NaN  32000000   \n\n                                                  genres  \\\n17130  [{'id': 18, 'name': 'Drama'}, {'id': 14, 'name...   \n\n                                 homepage    id    imdb_id original_language  \\\n17130  http://www.twowaysthroughlife.com/  8967  tt0478304                en   \n\n         original_title                                           overview  \\\n17130  The Tree of Life  The impressionistic story of a Texas family in...   \n\n       ... release_date     revenue runtime  \\\n17130  ...   2011-05-18  54674226.0   139.0   \n\n                               spoken_languages    status  \\\n17130  [{'iso_639_1': 'en', 'name': 'English'}]  Released   \n\n                     tagline             title  video vote_average vote_count  \n17130  Nothing stands still.  The Tree of Life  False          6.5     1009.0  \n\n[1 rows x 24 columns]",
      "text/html": "<div>\n<style scoped>\n    .dataframe tbody tr th:only-of-type {\n        vertical-align: middle;\n    }\n\n    .dataframe tbody tr th {\n        vertical-align: top;\n    }\n\n    .dataframe thead th {\n        text-align: right;\n    }\n</style>\n<table border=\"1\" class=\"dataframe\">\n  <thead>\n    <tr style=\"text-align: right;\">\n      <th></th>\n      <th>adult</th>\n      <th>belongs_to_collection</th>\n      <th>budget</th>\n      <th>genres</th>\n      <th>homepage</th>\n      <th>id</th>\n      <th>imdb_id</th>\n      <th>original_language</th>\n      <th>original_title</th>\n      <th>overview</th>\n      <th>...</th>\n      <th>release_date</th>\n      <th>revenue</th>\n      <th>runtime</th>\n      <th>spoken_languages</th>\n      <th>status</th>\n      <th>tagline</th>\n      <th>title</th>\n      <th>video</th>\n      <th>vote_average</th>\n      <th>vote_count</th>\n    </tr>\n  </thead>\n  <tbody>\n    <tr>\n      <th>17130</th>\n      <td>False</td>\n      <td>NaN</td>\n      <td>32000000</td>\n      <td>[{'id': 18, 'name': 'Drama'}, {'id': 14, 'name...</td>\n      <td>http://www.twowaysthroughlife.com/</td>\n      <td>8967</td>\n      <td>tt0478304</td>\n      <td>en</td>\n      <td>The Tree of Life</td>\n      <td>The impressionistic story of a Texas family in...</td>\n      <td>...</td>\n      <td>2011-05-18</td>\n      <td>54674226.0</td>\n      <td>139.0</td>\n      <td>[{'iso_639_1': 'en', 'name': 'English'}]</td>\n      <td>Released</td>\n      <td>Nothing stands still.</td>\n      <td>The Tree of Life</td>\n      <td>False</td>\n      <td>6.5</td>\n      <td>1009.0</td>\n    </tr>\n  </tbody>\n</table>\n<p>1 rows × 24 columns</p>\n</div>"
     },
     "metadata": {},
     "execution_count": 9
    }
   ],
   "source": [
    "data[data['title']==\"The Tree of Life\"]"
   ]
  },
  {
   "cell_type": "code",
   "execution_count": 10,
   "metadata": {},
   "outputs": [
    {
     "output_type": "execute_result",
     "data": {
      "text/plain": "14075.0"
     },
     "metadata": {},
     "execution_count": 10
    }
   ],
   "source": [
    "data['vote_average'].max() # 0~10\n",
    "data['vote_count'].max() # 0~14075"
   ]
  },
  {
   "cell_type": "code",
   "execution_count": 11,
   "metadata": {},
   "outputs": [
    {
     "output_type": "execute_result",
     "data": {
      "text/plain": "135"
     },
     "metadata": {},
     "execution_count": 11
    }
   ],
   "source": [
    "data['overview'].isnull().sum()"
   ]
  },
  {
   "cell_type": "code",
   "execution_count": 12,
   "metadata": {},
   "outputs": [
    {
     "output_type": "execute_result",
     "data": {
      "text/plain": "0"
     },
     "metadata": {},
     "execution_count": 12
    }
   ],
   "source": [
    "data['overview'] = data['overview'].fillna('')\n",
    "data['overview'].isnull().sum()"
   ]
  },
  {
   "cell_type": "code",
   "execution_count": 13,
   "metadata": {},
   "outputs": [
    {
     "output_type": "execute_result",
     "data": {
      "text/plain": "\"Led by Woody, Andy's toys live happily in his room until Andy's birthday brings Buzz Lightyear onto the scene. Afraid of losing his place in Andy's heart, Woody plots against Buzz. But when circumstances separate Buzz and Woody from their owner, the duo eventually learns to put aside their differences.\""
     },
     "metadata": {},
     "execution_count": 13
    }
   ],
   "source": [
    "data['overview'][0]"
   ]
  },
  {
   "cell_type": "code",
   "execution_count": 46,
   "metadata": {},
   "outputs": [
    {
     "output_type": "execute_result",
     "data": {
      "text/plain": "array([[0.        , 0.        , 0.        , ..., 0.        , 0.        ,\n        0.        ],\n       [0.15918052, 0.        , 0.        , ..., 0.15918052, 0.        ,\n        0.        ],\n       [0.        , 0.        , 0.        , ..., 0.        , 0.        ,\n        0.        ],\n       ...,\n       [0.        , 0.        , 0.        , ..., 0.        , 0.        ,\n        0.        ],\n       [0.        , 0.        , 0.        , ..., 0.        , 0.        ,\n        0.        ],\n       [0.        , 0.        , 0.        , ..., 0.        , 0.23720492,\n        0.        ]])"
     },
     "metadata": {},
     "execution_count": 46
    }
   ],
   "source": [
    "# TFIDF구하기\n",
    "from sklearn.feature_extraction.text import TfidfVectorizer\n",
    "\n",
    "Tfidf = TfidfVectorizer(stop_words='english')\n",
    "TfidfMatrix = Tfidf.fit_transform(data['overview'])\n",
    "TfidfMatrix.toarray()"
   ]
  },
  {
   "cell_type": "code",
   "execution_count": 32,
   "metadata": {},
   "outputs": [
    {
     "output_type": "execute_result",
     "data": {
      "text/plain": "   led  woody  andy  toys  live  happily  room  birthday  brings  buzz  ...  \\\n0  0.0    0.0   0.0   0.0   0.0      0.0   0.0       0.0     0.0   0.0  ...   \n1  0.0    0.0   0.0   0.0   0.0      0.0   0.0       0.0     0.0   0.0  ...   \n2  0.0    0.0   0.0   0.0   0.0      0.0   0.0       0.0     0.0   0.0  ...   \n\n   disorientated  sigh  meyers  krysten  somerhalder  reclusivity  folklorist  \\\n0            0.0   0.0     0.0      0.0          0.0          0.0         0.0   \n1            0.0   0.0     0.0      0.0          0.0          0.0         0.0   \n2            0.0   0.0     0.0      0.0          0.0          0.0         0.0   \n\n   cahiers  baecque  reiniger  \n0      0.0      0.0       0.0  \n1      0.0      0.0       0.0  \n2      0.0      0.0       0.0  \n\n[3 rows x 47487 columns]",
      "text/html": "<div>\n<style scoped>\n    .dataframe tbody tr th:only-of-type {\n        vertical-align: middle;\n    }\n\n    .dataframe tbody tr th {\n        vertical-align: top;\n    }\n\n    .dataframe thead th {\n        text-align: right;\n    }\n</style>\n<table border=\"1\" class=\"dataframe\">\n  <thead>\n    <tr style=\"text-align: right;\">\n      <th></th>\n      <th>led</th>\n      <th>woody</th>\n      <th>andy</th>\n      <th>toys</th>\n      <th>live</th>\n      <th>happily</th>\n      <th>room</th>\n      <th>birthday</th>\n      <th>brings</th>\n      <th>buzz</th>\n      <th>...</th>\n      <th>disorientated</th>\n      <th>sigh</th>\n      <th>meyers</th>\n      <th>krysten</th>\n      <th>somerhalder</th>\n      <th>reclusivity</th>\n      <th>folklorist</th>\n      <th>cahiers</th>\n      <th>baecque</th>\n      <th>reiniger</th>\n    </tr>\n  </thead>\n  <tbody>\n    <tr>\n      <th>0</th>\n      <td>0.0</td>\n      <td>0.0</td>\n      <td>0.0</td>\n      <td>0.0</td>\n      <td>0.0</td>\n      <td>0.0</td>\n      <td>0.0</td>\n      <td>0.0</td>\n      <td>0.0</td>\n      <td>0.0</td>\n      <td>...</td>\n      <td>0.0</td>\n      <td>0.0</td>\n      <td>0.0</td>\n      <td>0.0</td>\n      <td>0.0</td>\n      <td>0.0</td>\n      <td>0.0</td>\n      <td>0.0</td>\n      <td>0.0</td>\n      <td>0.0</td>\n    </tr>\n    <tr>\n      <th>1</th>\n      <td>0.0</td>\n      <td>0.0</td>\n      <td>0.0</td>\n      <td>0.0</td>\n      <td>0.0</td>\n      <td>0.0</td>\n      <td>0.0</td>\n      <td>0.0</td>\n      <td>0.0</td>\n      <td>0.0</td>\n      <td>...</td>\n      <td>0.0</td>\n      <td>0.0</td>\n      <td>0.0</td>\n      <td>0.0</td>\n      <td>0.0</td>\n      <td>0.0</td>\n      <td>0.0</td>\n      <td>0.0</td>\n      <td>0.0</td>\n      <td>0.0</td>\n    </tr>\n    <tr>\n      <th>2</th>\n      <td>0.0</td>\n      <td>0.0</td>\n      <td>0.0</td>\n      <td>0.0</td>\n      <td>0.0</td>\n      <td>0.0</td>\n      <td>0.0</td>\n      <td>0.0</td>\n      <td>0.0</td>\n      <td>0.0</td>\n      <td>...</td>\n      <td>0.0</td>\n      <td>0.0</td>\n      <td>0.0</td>\n      <td>0.0</td>\n      <td>0.0</td>\n      <td>0.0</td>\n      <td>0.0</td>\n      <td>0.0</td>\n      <td>0.0</td>\n      <td>0.0</td>\n    </tr>\n  </tbody>\n</table>\n<p>3 rows × 47487 columns</p>\n</div>"
     },
     "metadata": {},
     "execution_count": 32
    }
   ],
   "source": [
    "# TFIDF 생김새 확인\n",
    "TfidfMatrix.shape\n",
    "a = TfidfMatrix[0:3].toarray()\n",
    "pd.DataFrame(a, columns = Tfidf.vocabulary_.keys())"
   ]
  },
  {
   "cell_type": "code",
   "execution_count": 33,
   "metadata": {
    "tags": []
   },
   "outputs": [
    {
     "output_type": "stream",
     "name": "stdout",
     "text": "ひめ\n"
    },
    {
     "output_type": "execute_result",
     "data": {
      "text/plain": "    00  000  000th  007   01   02   03   04   05  05pm  ...  чёрный   تم   ہم  \\\n0  0.0  0.0    0.0  0.0  0.0  0.0  0.0  0.0  0.0   0.0  ...     0.0  0.0  0.0   \n1  0.0  0.0    0.0  0.0  0.0  0.0  0.0  0.0  0.0   0.0  ...     0.0  0.0  0.0   \n2  0.0  0.0    0.0  0.0  0.0  0.0  0.0  0.0  0.0   0.0  ...     0.0  0.0  0.0   \n\n   अकबर   अन  अमर   मर   हम  たけみかずち   ひめ  \n0   0.0  0.0  0.0  0.0  0.0     0.0  0.0  \n1   0.0  0.0  0.0  0.0  0.0     0.0  0.0  \n2   0.0  0.0  0.0  0.0  0.0     0.0  0.0  \n\n[3 rows x 47487 columns]",
      "text/html": "<div>\n<style scoped>\n    .dataframe tbody tr th:only-of-type {\n        vertical-align: middle;\n    }\n\n    .dataframe tbody tr th {\n        vertical-align: top;\n    }\n\n    .dataframe thead th {\n        text-align: right;\n    }\n</style>\n<table border=\"1\" class=\"dataframe\">\n  <thead>\n    <tr style=\"text-align: right;\">\n      <th></th>\n      <th>00</th>\n      <th>000</th>\n      <th>000th</th>\n      <th>007</th>\n      <th>01</th>\n      <th>02</th>\n      <th>03</th>\n      <th>04</th>\n      <th>05</th>\n      <th>05pm</th>\n      <th>...</th>\n      <th>чёрный</th>\n      <th>تم</th>\n      <th>ہم</th>\n      <th>अकबर</th>\n      <th>अन</th>\n      <th>अमर</th>\n      <th>मर</th>\n      <th>हम</th>\n      <th>たけみかずち</th>\n      <th>ひめ</th>\n    </tr>\n  </thead>\n  <tbody>\n    <tr>\n      <th>0</th>\n      <td>0.0</td>\n      <td>0.0</td>\n      <td>0.0</td>\n      <td>0.0</td>\n      <td>0.0</td>\n      <td>0.0</td>\n      <td>0.0</td>\n      <td>0.0</td>\n      <td>0.0</td>\n      <td>0.0</td>\n      <td>...</td>\n      <td>0.0</td>\n      <td>0.0</td>\n      <td>0.0</td>\n      <td>0.0</td>\n      <td>0.0</td>\n      <td>0.0</td>\n      <td>0.0</td>\n      <td>0.0</td>\n      <td>0.0</td>\n      <td>0.0</td>\n    </tr>\n    <tr>\n      <th>1</th>\n      <td>0.0</td>\n      <td>0.0</td>\n      <td>0.0</td>\n      <td>0.0</td>\n      <td>0.0</td>\n      <td>0.0</td>\n      <td>0.0</td>\n      <td>0.0</td>\n      <td>0.0</td>\n      <td>0.0</td>\n      <td>...</td>\n      <td>0.0</td>\n      <td>0.0</td>\n      <td>0.0</td>\n      <td>0.0</td>\n      <td>0.0</td>\n      <td>0.0</td>\n      <td>0.0</td>\n      <td>0.0</td>\n      <td>0.0</td>\n      <td>0.0</td>\n    </tr>\n    <tr>\n      <th>2</th>\n      <td>0.0</td>\n      <td>0.0</td>\n      <td>0.0</td>\n      <td>0.0</td>\n      <td>0.0</td>\n      <td>0.0</td>\n      <td>0.0</td>\n      <td>0.0</td>\n      <td>0.0</td>\n      <td>0.0</td>\n      <td>...</td>\n      <td>0.0</td>\n      <td>0.0</td>\n      <td>0.0</td>\n      <td>0.0</td>\n      <td>0.0</td>\n      <td>0.0</td>\n      <td>0.0</td>\n      <td>0.0</td>\n      <td>0.0</td>\n      <td>0.0</td>\n    </tr>\n  </tbody>\n</table>\n<p>3 rows × 47487 columns</p>\n</div>"
     },
     "metadata": {},
     "execution_count": 33
    }
   ],
   "source": [
    "print(sorted(Tfidf.vocabulary_.keys())[-1])\n",
    "pd.DataFrame(a, columns = sorted(Tfidf.vocabulary_.keys()))"
   ]
  },
  {
   "cell_type": "code",
   "execution_count": 39,
   "metadata": {},
   "outputs": [
    {
     "output_type": "execute_result",
     "data": {
      "text/plain": "(20000, 20000)"
     },
     "metadata": {},
     "execution_count": 39
    }
   ],
   "source": [
    "# 영화끼리의 코사인유사도 측정해서 어레이만들기\n",
    "from sklearn.metrics.pairwise import linear_kernel\n",
    "\n",
    "cos_sim = linear_kernel(TfidfMatrix, TfidfMatrix)\n",
    "cos_sim.shape\n",
    "cos_sim"
   ]
  },
  {
   "cell_type": "code",
   "execution_count": 29,
   "metadata": {},
   "outputs": [],
   "source": [
    "# 1. Toy Story 영화제목 입력\n",
    "# 2. Toy Story 코사인유사도가 가장 높은 영화 제목 추출"
   ]
  },
  {
   "cell_type": "code",
   "execution_count": 30,
   "metadata": {},
   "outputs": [
    {
     "output_type": "execute_result",
     "data": {
      "text/plain": "104"
     },
     "metadata": {},
     "execution_count": 30
    }
   ],
   "source": [
    "# 중복치 갯수 확인\n",
    "data[['title','genres']].duplicated().sum()"
   ]
  },
  {
   "cell_type": "code",
   "execution_count": 31,
   "metadata": {
    "tags": []
   },
   "outputs": [
    {
     "output_type": "stream",
     "name": "stdout",
     "text": "title\nToy Story                      0\nJumanji                        1\nGrumpier Old Men               2\nWaiting to Exhale              3\nFather of the Bride Part II    4\ndtype: int64\n"
    }
   ],
   "source": [
    "# 제목별 인덱스숫자 테이블 만들기\n",
    "indices = pd.Series(data.index, index=data['title']).drop_duplicates()\n",
    "print(indices.head())"
   ]
  },
  {
   "cell_type": "code",
   "execution_count": 45,
   "metadata": {},
   "outputs": [
    {
     "output_type": "execute_result",
     "data": {
      "text/plain": "0.01575747731678539"
     },
     "metadata": {},
     "execution_count": 45
    }
   ],
   "source": [
    "simScores = list(enumerate(cos_sim[0]))\n",
    "simScores[1][1]"
   ]
  },
  {
   "cell_type": "code",
   "execution_count": 59,
   "metadata": {},
   "outputs": [],
   "source": [
    "def getRecommendation(title, cosine_sim= cos_sim):\n",
    "    idx = indices[title]\n",
    "    simScores = list(enumerate(cosine_sim[idx])) #코사인유사도\n",
    "    simScores = sorted(simScores, key=lambda x: x[1] ,reverse=True)\n",
    "    # simScores : 튜플 (인덱스,코사인유사도)\n",
    "    simScores = simScores[1:21]\n",
    "    movieidx = [i[0] for i in simScores]\n",
    "    recom = data.iloc[movieidx]\n",
    "    return recom[(recom['vote_average']>6)]['title']"
   ]
  },
  {
   "cell_type": "code",
   "execution_count": 60,
   "metadata": {
    "tags": []
   },
   "outputs": [
    {
     "output_type": "execute_result",
     "data": {
      "text/plain": "6060             American Heart\n198                Three Wishes\n9413       Far Side of the Moon\n6239          Love the Hard Way\n19102          Jack-Jack Attack\n5307              Traces of Red\n1473     The Designated Mourner\n5485                     Charly\n3138              Patriot Games\n3035      The Last Picture Show\nName: title, dtype: object"
     },
     "metadata": {},
     "execution_count": 60
    }
   ],
   "source": [
    "getRecommendation(\"The Tree of Life\")"
   ]
  },
  {
   "cell_type": "code",
   "execution_count": null,
   "metadata": {},
   "outputs": [],
   "source": [
    "# 영화 리뷰 분류 (이진분류)"
   ]
  },
  {
   "cell_type": "code",
   "execution_count": 61,
   "metadata": {
    "tags": []
   },
   "outputs": [],
   "source": [
    "from keras.datasets import imdb\n",
    "\n",
    "(traindata, trainlabels),(testdata, testlabels) = imdb.load_data(num_words=10000) #자주 사용되는 단어 10000개만 추려서 사용"
   ]
  },
  {
   "cell_type": "code",
   "execution_count": 65,
   "metadata": {},
   "outputs": [
    {
     "output_type": "execute_result",
     "data": {
      "text/plain": "(25000,)"
     },
     "metadata": {},
     "execution_count": 65
    }
   ],
   "source": [
    "traindata.shape # 25000개 훈련데이터 (리뷰)\n",
    "trainlabels.shape # 0:부정, 1:긍정\n",
    "testdata.shape"
   ]
  },
  {
   "cell_type": "code",
   "execution_count": 68,
   "metadata": {
    "tags": []
   },
   "outputs": [
    {
     "output_type": "execute_result",
     "data": {
      "text/plain": "9999"
     },
     "metadata": {},
     "execution_count": 68
    }
   ],
   "source": [
    "maxseq = [max(seq) for seq in traindata]\n",
    "max(maxseq)"
   ]
  },
  {
   "cell_type": "code",
   "execution_count": 76,
   "metadata": {
    "tags": []
   },
   "outputs": [],
   "source": [
    "word_index = imdb.get_word_index() #(단어,인덱스)\n",
    "reverse_word_index = dict([(value , key) for (key,value) in word_index.items()]) #(인덱스,단어)"
   ]
  },
  {
   "cell_type": "code",
   "execution_count": 86,
   "metadata": {
    "tags": []
   },
   "outputs": [
    {
     "output_type": "stream",
     "name": "stdout",
     "text": "?\n"
    }
   ],
   "source": [
    "reverse_word_index\n",
    "traindata[0]\n",
    "reverse_word_index[1]\n",
    "print(reverse_word_index.get(1000000, \"?\")) # 만약 인덱스가 1000000이 존재하지 않는다면 ?로 대체해라\n",
    "# 0,1,2는 \"패딩\", \"문서시작\", \"사전에 없음(oov)\"\n",
    "# 을 인덱스로 약속되어 사용됨 / 따라서 012는 제외\n",
    "# 위 3개는 물음표 문자로 대체\n",
    "decodedReview = \" \".join(reverse_word_index.get(i-3,\"?\") for i in traindata[0])"
   ]
  },
  {
   "cell_type": "code",
   "execution_count": 87,
   "metadata": {},
   "outputs": [
    {
     "output_type": "execute_result",
     "data": {
      "text/plain": "\"? this film was just brilliant casting location scenery story direction everyone's really suited the part they played and you could just imagine being there robert ? is an amazing actor and now the same being director ? father came from the same scottish island as myself so i loved the fact there was a real connection with this film the witty remarks throughout the film were great it was just brilliant so much that i bought the film as soon as it was released for ? and would recommend it to everyone to watch and the fly fishing was amazing really cried at the end it was so sad and you know what they say if you cry at a film it must have been good and this definitely was also ? to the two little boy's that played the ? of norman and paul they were just brilliant children are often left out of the ? list i think because the stars that play them all grown up are such a big profile for the whole film but these children are amazing and should be praised for what they have done don't you think the whole story was so lovely because it was true and was someone's life after all that was shared with us all\""
     },
     "metadata": {},
     "execution_count": 87
    }
   ],
   "source": [
    "decodedReview"
   ]
  },
  {
   "cell_type": "code",
   "execution_count": null,
   "metadata": {},
   "outputs": [],
   "source": [
    "\"\"\" \n",
    "패딩 : 문장의 길이가 다름 -> 문장의 길이를 동일하게 해줌 \n",
    "신경망 모델을 만들기 위해서는 먼저 패딩을 수행하여 모든 문장의 길이를 동일하게 해줘야 함.  \n",
    "\"\"\""
   ]
  },
  {
   "cell_type": "code",
   "execution_count": 141,
   "metadata": {},
   "outputs": [],
   "source": [
    "sentences = [['barber', 'person'], ['barber', 'good', 'person'], ['barber', 'huge', 'person'], ['knew', 'secret'], ['secret', 'kept', 'huge', 'secret'], ['huge', 'secret'], ['barber', 'kept', 'word'], ['barber', 'kept', 'word'], ['barber', 'kept', 'secret'], ['keeping', 'keeping', 'huge', 'secret', 'driving', 'barber', 'crazy'], ['barber', 'went', 'huge', 'mountain']]"
   ]
  },
  {
   "cell_type": "code",
   "execution_count": 142,
   "metadata": {},
   "outputs": [],
   "source": [
    "from tensorflow.keras.preprocessing.text import Tokenizer\n",
    "\n",
    "tok = Tokenizer()\n",
    "tok.fit_on_texts(sentences)\n",
    "# 빈도수를 기준으로 단어집합 생성"
   ]
  },
  {
   "cell_type": "code",
   "execution_count": 143,
   "metadata": {},
   "outputs": [
    {
     "output_type": "execute_result",
     "data": {
      "text/plain": "{'barber': 1,\n 'secret': 2,\n 'huge': 3,\n 'kept': 4,\n 'person': 5,\n 'word': 6,\n 'keeping': 7,\n 'good': 8,\n 'knew': 9,\n 'driving': 10,\n 'crazy': 11,\n 'went': 12,\n 'mountain': 13}"
     },
     "metadata": {},
     "execution_count": 143
    }
   ],
   "source": [
    "tok.word_index\n",
    "# tok.word_index\n",
    "# tok.word_counts\n",
    "# tok.word_docs"
   ]
  },
  {
   "cell_type": "code",
   "execution_count": 144,
   "metadata": {},
   "outputs": [
    {
     "output_type": "execute_result",
     "data": {
      "text/plain": "[[1, 5],\n [1, 8, 5],\n [1, 3, 5],\n [9, 2],\n [2, 4, 3, 2],\n [3, 2],\n [1, 4, 6],\n [1, 4, 6],\n [1, 4, 2],\n [7, 7, 3, 2, 10, 1, 11],\n [1, 12, 3, 13]]"
     },
     "metadata": {},
     "execution_count": 144
    }
   ],
   "source": [
    "encoded = tok.texts_to_sequences(sentences)\n",
    "encoded # 이상태에서 패딩을 해줘야함"
   ]
  },
  {
   "cell_type": "code",
   "execution_count": 145,
   "metadata": {},
   "outputs": [],
   "source": [
    "maxLen = max(len(item) for item in encoded) #7"
   ]
  },
  {
   "cell_type": "code",
   "execution_count": 146,
   "metadata": {},
   "outputs": [
    {
     "output_type": "execute_result",
     "data": {
      "text/plain": "array([[ 1,  5,  0,  0,  0,  0,  0],\n       [ 1,  8,  5,  0,  0,  0,  0],\n       [ 1,  3,  5,  0,  0,  0,  0],\n       [ 9,  2,  0,  0,  0,  0,  0],\n       [ 2,  4,  3,  2,  0,  0,  0],\n       [ 3,  2,  0,  0,  0,  0,  0],\n       [ 1,  4,  6,  0,  0,  0,  0],\n       [ 1,  4,  6,  0,  0,  0,  0],\n       [ 1,  4,  2,  0,  0,  0,  0],\n       [ 7,  7,  3,  2, 10,  1, 11],\n       [ 1, 12,  3, 13,  0,  0,  0]])"
     },
     "metadata": {},
     "execution_count": 146
    }
   ],
   "source": [
    "# 제로패딩\n",
    "\n",
    "for item in encoded:\n",
    "    while len(item)<maxLen:\n",
    "        item.append(0)\n",
    "padded_np = np.array(encoded)\n",
    "padded_np"
   ]
  },
  {
   "cell_type": "code",
   "execution_count": 147,
   "metadata": {},
   "outputs": [
    {
     "output_type": "execute_result",
     "data": {
      "text/plain": "array([[ 1,  5,  0,  0,  0,  0,  0],\n       [ 1,  8,  5,  0,  0,  0,  0],\n       [ 1,  3,  5,  0,  0,  0,  0],\n       [ 9,  2,  0,  0,  0,  0,  0],\n       [ 2,  4,  3,  2,  0,  0,  0],\n       [ 3,  2,  0,  0,  0,  0,  0],\n       [ 1,  4,  6,  0,  0,  0,  0],\n       [ 1,  4,  6,  0,  0,  0,  0],\n       [ 1,  4,  2,  0,  0,  0,  0],\n       [ 7,  7,  3,  2, 10,  1, 11],\n       [ 1, 12,  3, 13,  0,  0,  0]])"
     },
     "metadata": {},
     "execution_count": 147
    }
   ],
   "source": [
    "# 케라스에서 제로패딩 한번에 해주는 함수\n",
    "from tensorflow.keras.preprocessing.sequence import pad_sequences\n",
    "sentences\n",
    "encoded = tok.texts_to_sequences(sentences) # 각단어를 단어의인덱스로 치환\n",
    "padded = pad_sequences(encoded, padding='post')\n",
    "padded"
   ]
  },
  {
   "cell_type": "code",
   "execution_count": 148,
   "metadata": {},
   "outputs": [],
   "source": [
    "(traindata,trainlabels),(testdata,testlabels)=imdb.load_data(num_words=10000)"
   ]
  },
  {
   "cell_type": "code",
   "execution_count": 149,
   "metadata": {
    "tags": [
     "outputPrepend"
    ]
   },
   "outputs": [
    {
     "output_type": "stream",
     "name": "stdout",
     "text": ", 9, 24, 6, 1361, 237, 4, 1472, 248, 3230, 374, 9237, 5, 857, 32, 202, 14, 245, 21, 39, 14, 1573, 606, 863, 6, 1238, 1315, 3696, 297, 9600, 5, 4, 836, 266, 39, 406, 876, 5, 4, 1729, 7, 84, 247, 74, 6, 1019, 8194, 160, 232, 261, 14, 9, 35, 1427, 11, 4, 22, 198, 51, 166, 4, 2714, 6405, 38, 52, 10, 10, 46, 7, 470, 381]\n24982 번 리뷰: [1, 13, 377, 149, 14, 22, 11, 5697, 54, 13, 16, 693, 12, 16, 427, 530, 13, 258, 4, 288, 43, 6, 378, 7, 1928, 596, 13, 16, 754, 3583, 56, 5, 180, 19, 9283, 13, 1247, 12, 5, 1177, 12, 8, 61, 362, 36, 447, 12, 99, 36, 1803, 51, 715, 4, 16, 1118, 13, 161, 376, 98, 151, 88, 13, 92, 104, 979, 4, 715, 2, 5, 2, 8, 1086, 291, 154, 362, 9, 55, 52, 2, 4, 690, 26, 530, 13, 131, 377, 98, 32, 637, 131, 377, 98, 54, 146, 3293, 50, 42, 751, 2, 4044, 9, 16, 141, 6, 530, 284, 45, 6, 2240, 29, 520, 12, 56, 10, 10, 48, 25, 169, 4, 22, 818, 12, 490, 119, 12]\n24983 번 리뷰: [1, 13, 424, 825, 2, 9, 6, 753, 1179, 509, 422, 12, 28, 49, 52, 213, 21, 45, 6, 7319, 39, 160, 509, 4, 1421, 9, 38, 373, 885, 4, 114, 10, 10, 4, 65, 271, 39, 6, 1795, 44, 6, 581, 4579, 23, 4, 2, 54, 35, 2, 413, 6, 8202, 5, 1203, 4, 113, 6, 430, 11, 2, 4, 4579, 266, 1239, 5, 380, 6, 880, 9159, 481, 1081, 208, 45, 8350, 39, 2039, 2553, 2, 476, 7, 4, 6247, 25, 403, 12, 10, 10, 825, 2, 9, 38, 1908, 856, 22, 1201, 28, 6, 629, 561, 60, 4, 477, 136, 9, 1322, 1038, 75, 131, 100, 358, 12, 17, 263, 58, 455, 21, 13, 2788, 25, 8, 106, 142, 334, 305, 894, 335, 6, 194, 337, 78, 5, 954, 102, 125, 265, 10, 10, 470, 158]\n24984 번 리뷰: [1, 14, 503, 1992, 22, 3820, 4, 2, 20, 313, 7, 61, 2059, 44, 3070, 1928, 103, 94, 766, 11, 148, 504, 76, 7, 263, 368, 1615, 212, 2396, 2, 39, 2, 2, 259, 38, 14, 20, 3502, 40, 6, 2, 12, 69, 72, 2, 19, 6046, 2, 17, 5140, 150, 276, 12, 608, 38, 49, 7, 4, 1682, 1994, 71, 11, 192, 5715, 8635, 21, 89, 16, 14, 430, 19, 2, 7, 2, 8, 124, 15, 33, 4, 58, 11, 101, 420, 61, 514, 139, 69, 2, 955, 3434, 7, 7360, 2, 40, 15, 8974, 3560, 1014, 10, 10, 319, 7358, 5518, 174, 5277, 153, 303, 13, 131, 2, 2, 33, 4, 7787, 23, 2482, 209, 4, 4688, 2, 12, 62, 242, 30, 43, 160, 1257, 8, 2, 212, 21, 95, 160, 20, 15, 280, 69, 72, 11, 2, 60, 53, 2, 4, 3483, 1532, 5675, 2, 607, 61, 506, 150, 186, 1967, 5, 4569, 972, 39, 49, 99, 346, 7773, 1801, 5, 2, 9172, 139, 215, 30, 49, 318, 2, 15, 166, 1593, 2075, 2220, 789, 2, 1207, 8, 72, 14, 31, 33, 222, 5188, 2310, 46, 7, 747]\n24985 번 리뷰: [1, 13, 62, 40, 8, 9342, 4, 1045, 9868, 10, 10, 315, 4, 3026, 136, 1340, 26, 110, 2, 46, 11, 4, 1872, 2254, 8, 30, 623, 245, 5, 2987, 8, 1090, 49, 7, 4, 1340, 1483, 1705, 2, 2074, 5, 589, 8, 2089, 2918, 19, 98, 2, 1340, 26, 24, 2, 885, 81, 36, 126, 1671, 2, 83, 6, 4000, 3254, 36, 28, 2, 2, 6510, 5, 21, 24, 2, 4, 361, 7, 6, 2, 11, 14, 136, 9, 1755, 5, 46, 7, 1895, 7059, 48, 25, 168, 3280, 25, 80, 67, 15, 4, 2, 9, 4693, 23, 350, 7, 4, 1093, 14, 9, 242, 6, 55, 52, 5548, 15, 12, 9, 1896, 900, 12, 62, 4939]\n24986 번 리뷰: [1, 859, 44, 2, 2, 13, 911, 19, 14, 88, 12, 186, 15, 6, 52, 4166, 7, 4, 857, 13, 28, 332, 23, 4, 953, 1166, 8, 4, 606, 21, 815, 3743, 15, 12, 152, 1070, 6, 7585, 8, 2, 12, 218, 15, 13, 3439, 19, 15, 2707, 13, 43, 235, 15, 14, 20, 9, 6, 275, 1626, 3902, 5, 1015, 94, 205, 4762, 50, 26, 757, 7, 2096, 8, 30, 252, 21, 36, 26, 2, 3277, 54, 25, 1133, 15, 4, 1317, 8, 4, 483, 7, 257, 20, 9, 275, 11, 2, 4, 1953, 1147, 7, 4, 1321, 9, 9189, 11, 4, 953, 4, 1953, 1147, 7, 4, 1321, 2, 39, 6, 1515, 6593, 264, 72, 54, 13, 135, 15, 13, 391, 4, 2, 8, 1661, 35, 3972, 34, 267, 18, 2, 5, 2, 21, 18, 72, 12, 9, 53, 674, 8, 1483, 257, 162, 22, 17, 6, 532, 3887, 2, 86, 5, 95, 2, 61, 2, 3511, 10, 10, 4, 953, 9, 31, 7, 148, 108, 25, 79, 1849, 1417, 44, 88, 12, 186, 8, 30, 11, 49, 432, 7, 2043, 3112, 12, 218, 210, 252, 51, 12, 494, 8, 30, 4, 1299, 26, 1942, 21, 776, 8, 794, 48, 24, 8, 5709, 592, 2, 5, 4059, 8679, 297, 6, 2375, 867, 2162, 7, 2, 37, 26, 11, 4118, 2, 6, 953, 6023, 6, 4558, 4814, 2957, 23, 68, 2, 5, 36, 26, 6524, 34, 6, 2357, 3865, 132, 15, 48, 3581, 4, 4558, 80, 1203, 4, 341, 7, 31, 415, 937, 36, 92, 124, 5, 36, 80, 3911, 31, 1431, 2512, 31, 7, 4, 183, 4, 953, 6883, 9, 8, 2, 56, 14, 2504, 1092, 15, 1198, 46, 50, 263, 1729, 28, 1515, 3615, 159, 4, 4558, 9, 3581, 12, 47, 35, 3270, 5, 6923, 489, 2, 246, 2950, 280, 12, 47, 77, 3581, 687, 26, 270, 11, 1270, 15, 97, 4, 107, 832, 888, 68, 205, 3696, 5, 1685, 2598, 68, 2, 2154, 10, 10, 4, 4147, 15, 4, 953, 9, 35, 2846, 9, 221, 88, 18, 72, 12, 1568, 4, 20, 19, 6, 2, 48, 50, 26, 2, 3529, 4240, 35, 2, 448, 23, 8308, 8676, 34, 4620, 3742, 5, 24, 3742, 4, 4558, 95, 17, 4, 3573, 2, 75, 1495, 15, 1116, 12, 9, 6, 918, 2, 30, 2, 42, 4, 4448, 80, 30, 6877, 46, 13, 1408, 4, 4620, 92, 124, 4, 3615, 7, 68, 1729, 54, 36, 26, 2454, 19, 231, 4, 2154, 21, 36, 28, 57, 282, 8, 1781, 15, 4, 953, 70, 81, 233, 38, 138, 62, 36, 2257, 2, 9, 2, 2, 34, 4, 192, 15, 75, 64, 459, 44, 12, 54, 1353, 19, 6, 439, 11, 263, 205, 456, 10, 10, 4, 1987, 2, 11, 14, 20, 26, 2587, 3655, 4, 4558, 42, 92, 45, 1329, 294, 9, 6763, 19, 25, 193, 4, 278, 42, 92, 57, 31, 408, 233, 245, 18, 879, 1787, 18, 4, 882, 4, 2757, 25, 169, 1364, 2596, 129, 5130, 10, 10, 13, 2, 15, 4, 953, 9, 35, 2954, 157, 88, 12, 1580, 4, 2556, 1099, 7, 879, 80, 137, 3656, 15, 75, 26, 2605, 11, 111, 2, 9237, 25, 70, 64, 2257, 8, 30, 879, 33, 4, 6898, 7, 2, 113, 9, 15, 2204, 57, 12, 9, 64, 160, 953, 88, 95, 25, 413, 2605, 11, 4, 3615, 7, 129, 205, 3696, 50, 9, 57, 1090, 18, 178, 88, 75, 412, 23, 703, 5, 15, 9, 160, 953, 14, 9, 5248, 138, 4, 2, 3529, 11, 4, 22, 26, 1116, 2, 36, 4659, 75, 2, 8, 1515, 1553, 63, 2098, 178, 7, 263, 2204, 75, 93, 12, 8, 4599, 5, 75, 71, 3865, 18, 12, 5, 679, 83, 6734, 11, 6, 1195, 500, 10, 10, 4, 2072, 8, 1560, 723, 2, 8785, 14, 213, 247, 73, 25, 70, 64, 2541, 4, 477, 7201, 879, 42, 24, 879, 252, 21, 57, 551, 4, 812, 11, 63, 75, 2541, 4, 7201, 12, 9, 6, 7201, 2935, 10, 10, 2]\n24987 번 리뷰: [1, 13, 1408, 13, 144, 30, 1257, 5, 213, 46, 15, 13, 92, 264, 11, 2745, 15, 301, 146, 55, 928, 11, 4, 875, 5, 13, 358, 6, 629, 65, 17, 76, 17, 4, 375, 232, 13, 244, 6, 337, 7, 1213, 4644, 88, 36, 33, 222, 353, 8, 202, 68, 2, 6, 3749, 2651, 60, 402, 672, 7, 91, 2368, 69, 6, 1250, 722, 2367, 8, 98, 2, 1110, 47, 1082, 7, 134, 2432, 4, 2936, 533, 28, 4, 986, 8, 30, 221, 21, 17, 19, 38, 76, 635, 248, 134, 504, 12, 2478, 39, 338, 116, 5, 710, 3167, 4, 1188, 7, 4, 123, 2, 974, 15, 927, 3619, 4, 537, 13, 842, 36, 26, 60, 170, 8, 2, 11, 6, 883, 3677, 8, 1271, 8, 4, 185, 668, 2, 4, 123, 47, 111, 85, 1508, 99, 17, 409, 28, 3431, 4, 2559, 946, 461, 40, 5573, 180, 6, 2, 120, 4, 350, 1114, 5, 3884, 302, 946, 413, 43, 17, 2227, 146, 1688, 8, 4984, 49, 2793, 18, 4, 2119, 7, 722, 21, 14, 226, 2734, 19, 6, 2, 65, 6792, 9, 43, 647, 348, 15, 4, 1180, 7, 14, 123, 26, 82, 1893, 18, 1224, 351, 8052, 40, 2, 2, 2583, 5, 2, 8691, 13, 1408, 14, 9, 66, 57, 866, 48, 25, 26, 6, 783, 254, 337, 7, 1659, 2, 3864, 42, 6, 194, 635, 123, 2, 13, 482, 490, 169, 76, 8, 40, 11, 2, 1110, 18, 4, 360, 7, 178, 13, 386, 25, 798]\n24988 번 리뷰: [1, 13, 286, 252, 44, 397, 14, 20, 23, 288, 88, 13, 66, 81, 28, 142, 429, 84, 231, 328, 5, 428, 108, 11, 4, 6161, 1117, 21, 13, 1054, 56, 2644, 12, 553, 13, 131, 92, 391, 138, 12, 69, 8, 30, 328, 5, 428, 21, 198, 4, 64, 2, 13, 70, 67, 44, 4, 22, 5, 12, 252, 9, 6, 404, 463, 8, 67, 4, 6279, 2200, 7, 8063, 438, 24, 316, 70, 391, 6, 22, 40, 14, 21, 45, 179, 6586, 8, 148, 37, 81, 1025, 1604, 2, 2, 4, 2, 2352, 14, 20, 184, 73, 5, 4, 116, 9, 33, 222, 17, 52, 17, 15, 31, 42, 85, 1112, 8063, 108, 141, 17, 852, 852, 2, 2, 525, 10, 10, 61, 64, 440, 9, 15, 14, 1528, 152, 79, 9734, 5, 3540, 34, 6, 2136, 363, 1034, 45, 480, 8, 67, 89, 148, 493, 1142, 2, 7, 2512, 5, 131, 191, 97, 6, 20, 198, 300, 17, 52, 17, 14, 869, 364, 352, 509, 10, 10, 6220, 8, 4, 436, 1051, 158, 158]\n24989 번 리뷰: [1, 14, 20, 9, 38, 78, 45, 220, 52, 78, 65, 78, 116, 78, 228, 25, 403, 12, 1604, 2295, 37, 26, 4, 2, 15, 520, 14, 509, 6, 2]\n24990 번 리뷰: [1, 14, 20, 9, 307, 11, 111, 771, 4, 114, 4, 1137, 7, 4, 105, 4, 1380, 1381, 5, 116, 4, 40, 139, 7, 3353, 57, 1222, 2876, 133, 43, 3086, 7, 84, 294, 301, 4, 65, 47, 142, 8, 81, 19, 4, 2, 13, 169, 49, 5670, 19, 4, 3888, 1521, 2955, 99, 10, 10, 4, 5110, 8760, 917, 3047, 200, 671, 5, 119, 21, 29, 9, 918, 18, 4, 2798, 52, 18, 4, 80, 7, 27, 2, 8, 2257, 4, 671, 5, 4, 5293, 4, 784, 7, 27, 4046, 5, 17, 27, 4205, 29, 40, 11, 2, 16, 6, 52, 232, 159, 1575, 5110, 280, 6204, 671, 29, 47, 8, 30, 2, 5, 2747, 19, 1356, 476, 27, 452, 27, 336, 525, 8, 4478, 5, 9250, 4, 3806, 2, 34, 671, 29, 461, 6, 969, 444, 4, 5110, 9, 6, 2, 3888, 1521, 822, 10, 10, 4, 5059, 2, 949, 6, 275, 458, 39, 1050, 445, 8, 2, 5, 3696, 60, 14, 109, 9, 918, 949, 27, 4205, 34, 119, 5, 34, 27, 162, 2, 14, 109, 9, 66, 3210, 99, 10, 10, 761, 2, 6, 389, 2, 4509, 9, 4, 3696, 885, 34, 671, 42, 119, 42, 784, 59, 9, 3696, 429, 671, 820, 40, 2, 41, 2, 18, 5, 429, 4, 5110, 28, 210, 6, 1515, 2, 10, 10, 11, 1174, 6, 389, 20, 48, 25, 119, 438, 5, 25, 181, 8, 353, 1619, 102, 25, 70, 380, 133]\n24991 번 리뷰: [1, 13, 387, 6, 464, 740, 72, 83, 829, 14, 20, 5, 32, 13, 70, 135, 9, 13, 181, 8, 516, 15, 464, 10, 10, 15, 9, 35, 534, 5, 6, 320, 7, 61, 113, 13, 80, 115, 79, 145, 5, 13, 80, 1437, 2598, 12, 10, 10, 48, 874, 82, 69, 4, 78, 1996, 7, 319, 14, 20, 25, 80, 1041, 19, 72, 15, 14, 9, 427, 4, 249, 20, 126, 93, 126, 10, 10, 48, 874, 115, 110, 14, 20, 5, 26, 536, 7, 319, 12, 387, 72, 607, 25, 6, 437, 7, 58, 5, 3081, 25, 81, 24, 106, 14, 20, 12, 1870, 10, 10, 285, 11, 14, 20, 996, 4, 589, 33, 212, 5, 2, 12, 43, 266, 125, 17, 379, 4373, 5, 2317, 353, 260, 372, 11, 4, 20, 37, 26, 165, 1564, 5, 1279, 5, 24, 1922, 1558, 5, 2742, 8, 168, 33, 10, 10, 4, 116, 9, 1322, 17, 9, 4, 487, 540, 14, 16, 93, 34, 964, 9958, 13, 191, 264, 134, 84, 71, 1668, 8, 97, 141, 6, 379, 20, 218, 50, 6, 1164, 429, 15, 50, 144, 30, 10, 10, 50, 26, 6, 226, 9373, 7, 52, 503, 102, 48, 25, 26, 83, 15, 432, 7, 155, 21, 81, 24, 437, 25, 58, 23, 14, 2136, 3030, 30, 20, 10, 10, 2470]\n24992 번 리뷰: [1, 628, 2, 76, 40, 7698, 628, 2219, 9, 35, 6820, 1296, 6, 167, 37, 299, 19, 1326, 40, 635, 2, 383, 6040, 5, 341, 9, 2725, 8, 79, 4, 91, 1572, 39, 1221, 29, 2085, 14, 19, 108, 17, 4, 2223, 1298, 6803, 2487, 5, 4797, 1745, 4797, 4543, 5, 53, 1033, 5072, 45, 118, 8, 67, 19, 6, 788, 330, 353, 24, 8, 332, 99, 76, 44, 4, 114, 42, 4092, 30, 2262, 18, 25, 51, 13, 70, 376, 25, 9, 15, 2, 304, 25, 23, 6, 1189, 180, 83, 4, 182, 7, 2, 15, 1421, 17, 6, 5074, 18, 101, 243, 7, 2, 5424, 581, 46, 5389, 9, 142, 84, 210, 925, 7, 21, 89, 230, 70, 25, 140, 83, 12, 159, 635, 214, 2, 5, 4, 939, 304, 120, 5, 505, 83, 6, 1726, 148, 26, 4, 1326, 2842, 11, 35, 4665, 7, 2043, 4, 406, 7027, 1748, 2350, 112, 2, 34, 3497, 5, 91, 3517, 635, 410, 10, 10, 4, 65, 5, 940, 26, 321, 2, 694, 27, 3331, 55, 73, 5, 2, 961, 8, 113, 35, 4502, 182, 6739, 4, 644, 2, 5, 1807, 7331, 8, 537, 141, 17, 14, 4, 22, 287, 49, 184, 2317, 538, 21, 9, 7036, 364, 1317, 11, 4, 599, 2550, 11, 2096, 8, 85, 157, 4, 1465, 302, 29, 299, 23, 26, 115, 120, 4, 350, 5, 4, 114, 8066, 9, 55, 1089, 5, 1518, 45, 24, 4, 91, 2772, 20, 126, 21, 12, 80, 563, 25, 536, 44, 12, 1535, 5, 184, 1471, 10, 10, 4, 116, 214, 107, 3366, 56, 17, 73, 199, 3238, 2100, 1655, 5909, 5, 7403, 1164, 297, 68, 531, 950, 5, 4519, 1975, 68, 1730, 8798, 2, 5, 8681, 4, 414, 203, 306, 6, 117, 4801, 5, 2, 33, 211, 21, 15, 9, 173, 7, 4, 962, 2, 16, 170, 18, 8, 987, 6, 2, 5, 1536, 841, 15, 1457, 25, 179, 33, 2, 696, 156, 17, 3467, 2, 1561, 2, 5, 35, 262, 948, 9801, 7913, 5833, 4, 20, 60, 1931, 19, 68, 2, 1081, 354, 10, 10, 14, 20, 304, 49, 397, 343, 8, 21, 48, 25, 70, 1144, 4, 465, 1163, 541, 2656, 5, 2, 2, 65, 490, 119, 12]\n24993 번 리뷰: [1, 4, 20, 9, 6, 654, 2, 16, 93, 8, 97, 178, 1666, 5, 2, 51, 75, 81, 17, 75, 925, 44, 4, 350, 307, 8627, 2, 57, 881, 57, 933, 105, 164, 318, 38, 2, 1666]\n24994 번 리뷰: [1, 12, 62, 306, 75, 144, 7539, 2, 438, 18, 53, 74, 1533, 4, 9198, 5125, 2425, 17, 2, 56, 34, 4, 5728, 32, 148, 153, 596, 2, 42, 4, 2, 132, 11, 631, 9, 6, 2427, 5, 1685, 197, 143, 22, 246, 1685, 441, 5, 1026, 11, 1500, 199, 23, 5, 467, 4, 2558, 17, 6, 22, 584, 12, 9, 6, 2, 212, 23, 926, 5, 4642, 11, 4, 1208, 682, 182, 75, 412, 11, 6, 182, 15, 4235, 34, 4, 2, 132, 47, 3820, 4, 2, 7, 2, 5, 4, 40, 21, 367, 19, 14, 328, 212, 235, 8, 12, 12, 62, 306, 4, 22, 2, 6, 117, 2750, 5, 5245, 1341, 33, 222, 8, 72, 7, 2, 1736, 9906, 5, 263, 406, 4988, 8, 181, 8, 2, 4, 882, 2923, 38, 76, 819, 11, 263, 182, 15, 382, 186, 1536, 8, 178, 10, 10, 14, 16, 11, 882, 6, 777, 2871, 8, 2392, 9495, 438, 18, 72, 4, 22, 55, 76, 734, 83, 15, 2385, 7, 4, 1874, 498, 5556, 19, 94, 933, 1326, 5, 7345, 2, 841, 1864, 8490, 35, 911, 1962, 5, 24, 38, 76, 6, 1321, 17, 6, 2, 7, 687, 15, 203, 384, 31, 155, 42, 160, 38, 111, 211, 2002, 110, 108, 15, 361, 4, 270, 56, 4, 2, 132, 2, 5, 38, 111, 211, 45, 679, 83, 6, 491, 8, 727, 2499, 7355, 187, 6, 1255, 65, 42, 6, 1313, 65, 42, 142, 367, 148, 411, 21, 14, 22, 2080, 94, 956, 5, 904, 8, 511, 17, 6, 2691, 4157, 18, 94, 2311, 773, 2, 8, 3739, 37, 29, 9, 121, 29, 9, 5, 51, 4, 614, 4163, 496, 14, 1622, 66, 26, 10, 10, 4, 270, 56, 146, 662, 44, 2290, 301, 632, 6812, 33, 6, 1622, 19, 57, 2600, 1757, 42, 51, 575, 159, 14, 637, 1783, 208, 11, 5, 135, 45, 11, 61, 652, 240, 351, 5, 47, 77, 1412, 8, 49, 432, 7, 2, 17, 28, 32, 4, 9527, 5818, 1462, 11, 4, 543, 15, 2, 8571, 19, 26, 7, 4, 172, 559, 172, 5695, 5, 172, 2169, 6899, 8, 72, 15, 91, 7, 98, 26, 1484, 7, 68, 205, 1720, 5, 28, 77, 1412, 8, 6, 2, 4170, 7, 101, 1426, 547, 3335, 42, 91, 3517, 1460, 10, 10, 54, 75, 86, 67, 2, 29, 214, 125, 6, 2647, 63, 29, 303, 2147, 9, 7249, 11, 94, 4038, 5, 6077, 6, 2, 1709, 11, 4, 655, 7, 3968, 1282, 29, 9, 2, 5, 47, 6, 666, 7631, 21, 515, 29, 80, 30, 4, 1961, 7955, 6, 1735, 5, 4228, 2170, 2, 393, 5, 6, 344, 7, 27, 205, 601, 19, 162, 292, 11, 63, 4, 22, 166, 31, 7, 4, 118, 2, 7038, 200, 4, 3968, 5, 4, 2608, 15, 207, 126, 110, 21, 4, 162, 292, 17, 73, 17, 4, 162, 543, 9, 7971, 25, 70, 193, 2010, 1945, 25, 40, 7347, 26, 7036, 243, 5, 50, 43, 186, 8, 30, 57, 1426, 42, 2097, 8, 233, 134, 1008, 26, 118, 276, 638, 11, 6, 438, 54, 2, 131, 6, 3597, 2, 8, 4, 543, 9, 2578, 5, 9, 695, 3889, 34, 6, 22, 23, 123, 21, 316, 334, 3631, 11, 1654, 2454, 405, 50, 9, 82, 4, 2405, 463, 54, 31, 132, 47, 4584, 39, 6, 2054, 5, 1838, 2, 23, 49, 2, 21, 1462, 2371, 23, 34, 209, 8602, 10, 10, 8, 145, 56, 61, 326, 23, 316, 460, 112, 351, 5, 4, 543, 116, 17, 6, 432, 7, 2, 341, 5, 5395, 11, 831, 9, 1167, 50, 9, 6, 572, 1606, 136, 1237, 35, 8119, 2300, 2, 5, 4472, 8978, 21, 4468, 2097, 8, 4, 1494, 9, 1654, 2454, 5, 12, 3418, 145, 746, 4, 534, 4379, 6, 1720, 589, 1237, 6900, 303, 23, 266, 8, 164, 5, 305, 75, 79, 4, 213, 7, 650, 2795, 51, 45, 40, 8, 30, 3317, 180, 5153, 4134, 19, 2, 23, 129, 499, 4, 543, 1421, 17, 6, 2, 6, 2, 926, 11, 63, 4, 2, 359, 8, 532, 5395, 2, 9, 1167, 6, 273, 11, 63, 861, 4249, 70, 3916, 5, 989, 1969, 1305, 38, 21, 199, 467, 1426, 329, 5, 1797, 329, 2331, 6, 273, 11, 63, 84, 70, 589, 1720, 21, 12, 9, 1167, 8, 165, 783, 4, 543, 2, 134, 1722, 88, 4, 4019, 47, 460, 77, 224, 11, 2, 2, 5, 1346, 4, 22, 560, 25, 566, 516, 624, 1453, 849, 25, 566, 235, 1460, 42, 1426, 11, 35, 2, 7, 2, 10, 10, 21, 4, 598, 118, 173, 9, 4, 31, 15, 2, 56, 23, 25, 4235, 34, 4, 2722, 677, 234, 7, 4, 22, 5, 4, 499, 65, 15, 2013, 56, 1237, 49, 228, 582, 39, 160, 1601, 313, 12, 62, 306, 50, 9, 6, 478, 347, 200, 4, 9906, 4, 22, 2, 17, 5, 75, 79, 8, 67, 134, 9906, 64, 55, 55, 3355, 475, 38, 3355, 15, 36, 7034, 7, 6, 686, 324, 4, 9, 6, 9680, 3904, 19, 228, 5, 476, 395, 12, 1580, 113, 440, 1426, 5, 2652, 3145, 4, 609, 9, 6, 8921, 1282, 63, 2, 25, 1216, 8, 94, 5034, 1703, 56, 5, 3270, 605, 125, 213, 4, 2871, 7, 134, 107, 9906, 33, 4, 55, 130, 7, 4, 22, 1087, 8305, 25, 7, 4, 635, 2, 5, 1001, 2454, 2, 5, 285, 15, 385, 19, 12, 4, 2, 43, 16, 24, 1623, 18, 2, 5, 27, 9584, 330, 475, 5, 168, 121, 4, 2, 130, 56]\n24995 번 리뷰: [1, 4, 274, 9, 128, 74, 4, 22, 669, 88, 7, 4, 564, 2, 159, 13, 219, 14, 22, 294, 37, 69, 110, 12, 579, 72, 4, 119, 2399, 11, 14, 22, 218, 147, 103, 319, 14, 22, 13, 70, 67, 89, 41, 5488, 7, 2793, 11, 14, 2904, 2856, 77, 4075, 8, 85, 20, 5958, 17, 73, 2035, 49, 7, 4, 1596, 3856, 7, 119, 71, 1322, 5, 306, 8, 30, 23, 4, 1289, 7, 2111, 21, 34, 4, 130, 316, 144, 923, 14, 9, 6, 194, 749, 418, 7, 498, 12, 9, 24, 4282, 44, 119, 33, 32, 12, 1077, 119, 8, 2596, 4, 406, 2, 42, 4, 2, 6871, 7, 3125, 15, 339, 4356, 1650, 5, 3680, 12, 9, 44, 2, 5, 4, 2034, 1045, 7, 4, 183, 15, 1505, 3138, 178, 4, 2778, 136, 18, 4, 147, 756, 7, 14, 20, 9, 54, 4, 632, 42, 2, 18, 339, 18, 27, 6384, 1461, 11, 4, 2092, 9, 3714, 5, 2, 18, 4, 1007, 617, 11, 15, 136, 14, 22, 9, 82, 44, 440, 5, 7726, 4, 440, 2, 11, 4, 2, 649, 200, 2, 9026, 109, 5, 4, 1395, 2, 2, 11, 4, 2069, 2069, 649, 19, 27, 428, 2, 37, 630, 56, 1721, 5, 4, 7726, 2, 11, 4, 2, 1730, 86, 2335, 5, 95, 5780, 46, 7, 51, 29, 1291, 80, 30, 4, 6717, 2, 18, 27, 325, 3326, 5465, 7, 704, 13, 104, 4, 22, 2856, 77, 93, 60, 128, 74, 12, 9, 13, 92, 124, 48, 6, 53, 821, 1146, 7, 4, 2331, 7, 119, 2533, 93, 4, 147, 1326, 5, 757, 7, 14, 22, 60, 53, 578, 42, 24, 21, 13, 1041, 14, 22, 9, 24, 44, 821, 731, 119, 17, 4, 84, 496, 14, 418, 7, 498, 42, 22, 8958, 11, 35, 402, 136, 54, 4, 6394, 1846, 86, 909, 4, 632, 2326, 44, 89, 6, 162, 519, 1912, 180, 519, 702, 519, 525, 146, 2, 9, 131, 43, 6, 519, 57, 551, 51, 2, 25, 276, 11, 1011, 7, 12, 59, 7231, 21, 2, 119, 2, 119, 731, 119, 525, 26, 55, 275, 2572, 7, 119, 14, 9, 2954, 88, 14, 22, 9, 66, 44, 4, 31, 119, 32, 1714, 144, 181, 63, 9, 4, 119, 7, 42, 18, 2470, 24, 2, 183, 63, 26, 633, 4, 147, 1007, 18, 1650, 2, 11, 142, 91, 7, 178, 181, 141, 17, 1880, 903, 135, 900, 75, 203, 30, 317, 6384, 8, 783, 11, 6, 4501, 11, 6, 4311, 2092, 19, 2213, 1513, 498, 8587, 7, 2, 6899, 15, 4, 2, 5, 113, 696, 4334, 63, 71, 280, 50, 28, 32, 21, 4332, 13, 264, 4, 631, 3127, 1199, 4, 735, 88, 7, 134, 194, 3456, 24, 4282, 18, 94, 2823, 7, 731, 119, 2128, 2353, 8, 140, 15, 96, 4, 649, 7, 4, 632, 5, 1886, 16, 1670, 8, 2514, 4, 311, 11, 472, 14, 650, 7, 119, 203, 30, 2, 11, 4, 559, 7, 4313, 5, 38, 111, 2, 37, 191, 306, 8, 79, 295, 23, 38, 111, 2191, 38, 647, 2058, 7, 2, 119, 26, 254, 8, 79, 83, 60, 11, 2, 63, 22, 119, 47, 210, 77, 262, 11, 52, 154, 363, 4, 22, 203, 809, 346, 7, 51, 84, 535, 21, 6, 693, 46, 7, 158, 20, 290, 319, 3563]\n24996 번 리뷰: [1, 4, 9212, 2293, 8, 126, 67, 6, 4210, 1494, 11, 4, 178, 562, 273, 33, 2, 1086, 120, 2, 1782, 84, 1177, 56, 8, 989, 4, 2660, 7076, 2, 1853, 5, 14, 1494, 161, 4363, 33, 32, 279, 4, 1126, 1014, 7, 32, 58, 562, 273, 17, 4, 6496, 6107, 2, 27, 182, 425, 429, 4, 2095, 3745, 50, 26, 120, 1691, 4259, 11, 32, 38, 25, 79, 3400, 7, 206]\n24997 번 리뷰: [1, 13, 1408, 15, 8, 135, 14, 9, 35, 32, 46, 394, 20, 62, 30, 5093, 21, 45, 184, 78, 4, 1492, 910, 769, 2290, 2515, 395, 4257, 5, 1454, 11, 119, 2, 89, 1036, 4, 116, 218, 78, 21, 407, 100, 30, 128, 262, 15, 7, 185, 2280, 284, 1842, 2, 37, 315, 4, 226, 20, 272, 2942, 40, 29, 152, 60, 181, 8, 30, 50, 553, 362, 80, 119, 12, 21, 846, 5518]\n24998 번 리뷰: [1, 11, 119, 241, 9, 4, 840, 20, 12, 468, 15, 94, 3684, 562, 791, 39, 4, 86, 107, 8, 97, 14, 31, 33, 4, 2960, 7, 743, 46, 1028, 9, 3531, 5, 4, 768, 47, 8, 79, 90, 145, 164, 162, 50, 6, 501, 119, 7, 9, 4, 78, 232, 15, 16, 224, 11, 4, 333, 20, 4, 985, 200, 5, 2, 5, 9, 1861, 8, 79, 357, 4, 20, 47, 220, 57, 206, 139, 11, 12, 5, 55, 117, 212, 13, 1276, 92, 124, 51, 45, 1188, 71, 536, 13, 520, 14, 20, 6, 2302, 7, 470]\n24999 번 리뷰: [1, 6, 52, 7465, 430, 22, 9, 220, 2594, 8, 28, 2, 519, 3227, 6, 769, 15, 47, 6, 3482, 4067, 8, 114, 5, 33, 222, 31, 55, 184, 704, 5586, 2, 19, 346, 3153, 5, 6, 364, 350, 4, 184, 5586, 9, 133, 1810, 11, 5417, 2, 21, 4, 7298, 2, 570, 50, 2005, 2643, 9, 6, 1249, 17, 6, 2, 2, 21, 17, 6, 1211, 232, 1138, 2249, 29, 266, 56, 96, 346, 194, 308, 9, 194, 21, 29, 218, 1078, 19, 4, 78, 173, 7, 27, 2, 5698, 3406, 718, 2, 9, 6, 6907, 17, 210, 5, 3281, 5677, 47, 77, 395, 14, 172, 173, 18, 2740, 2931, 4517, 82, 127, 27, 173, 11, 6, 392, 217, 21, 50, 9, 57, 65, 12, 2, 53, 40, 35, 390, 7, 11, 4, 3567, 7, 4, 314, 74, 6, 792, 22, 2, 19, 714, 727, 5205, 382, 4, 91, 6533, 439, 19, 14, 20, 9, 1441, 5805, 1118, 4, 756, 25, 124, 4, 31, 12, 16, 93, 804, 34, 2005, 2643]\n"
    }
   ],
   "source": [
    "import numpy as np\n",
    "\n",
    "def vectorize_sequences(sequences, dimension=10000):\n",
    "    results = np.zeros((len(sequences), dimension)) #25000행, 10000열이 0으로 구성\n",
    "    for i, seq in enumerate(sequences):\n",
    "        print(i,\"번 리뷰:\",seq)\n",
    "        results[i,seq] = 1\n",
    "    return results\n",
    "\n",
    "xtrain = vectorize_sequences(traindata)\n",
    "xtest = vectorize_sequences(testdata)"
   ]
  },
  {
   "cell_type": "code",
   "execution_count": 150,
   "metadata": {},
   "outputs": [
    {
     "output_type": "execute_result",
     "data": {
      "text/plain": "array([1, 0, 0, ..., 0, 1, 0], dtype=int64)"
     },
     "metadata": {},
     "execution_count": 150
    }
   ],
   "source": [
    "trainlabels # 25000개 리뷰가 긍정인지 부정인지"
   ]
  },
  {
   "cell_type": "code",
   "execution_count": 151,
   "metadata": {},
   "outputs": [
    {
     "output_type": "execute_result",
     "data": {
      "text/plain": "array([[0., 0.],\n       [0., 0.],\n       [0., 0.]])"
     },
     "metadata": {},
     "execution_count": 151
    }
   ],
   "source": [
    "# zeros예시\n",
    "np.zeros((3,2))"
   ]
  },
  {
   "cell_type": "code",
   "execution_count": 152,
   "metadata": {},
   "outputs": [
    {
     "output_type": "execute_result",
     "data": {
      "text/plain": "array([0., 1., 1., ..., 0., 0., 0.], dtype=float32)"
     },
     "metadata": {},
     "execution_count": 152
    }
   ],
   "source": [
    "ytrain = np.asarray(trainlabels).astype('float32')\n",
    "ytrain\n",
    "ytest = np.asarray(testlabels).astype('float32')\n",
    "ytest"
   ]
  },
  {
   "cell_type": "code",
   "execution_count": 153,
   "metadata": {},
   "outputs": [],
   "source": [
    "from keras import models, layers\n",
    "\n",
    "model = models.Sequential() # 무조건 이것부터 시작해! 이게 모델이야\n",
    "######## 모델에 입력,히든,출력계층 추가 ########\n",
    "# 입력계층 추가\n",
    "model.add(layers.Dense(16, input_shape=(10000,), activation='relu'))\n",
    "                        #모델에다가 계층 1개를 추가한다 (출력노드 16, 입력노드 10000)\n",
    "# 히든계층 추가\n",
    "model.add(layers.Dense(16, activation='relu'))\n",
    "                        #모델에다가 계층 1개 더 추가 (출력노드 16, 입력노드 생략)\n",
    "# 출력계층 추가\n",
    "model.add(layers.Dense(1, activation='sigmoid'))\n",
    "                        #모델에다가 계층 1개 더 추가 (출력노드 16, 입력노드 생략, 출력 : sigmoid)"
   ]
  },
  {
   "cell_type": "code",
   "execution_count": 154,
   "metadata": {},
   "outputs": [],
   "source": [
    "model.compile(optimizer='rmsprop',\n",
    "                loss='binary_crossentropy',\n",
    "                metrics=['accuracy'])"
   ]
  },
  {
   "cell_type": "code",
   "execution_count": 155,
   "metadata": {},
   "outputs": [],
   "source": [
    "xval = xtrain[:10000]\n",
    "pxtrain = xtrain[10000:]\n",
    "yval = ytrain[:10000]\n",
    "pytrain = ytrain[10000:]\n",
    "\n",
    "# pxtrain, pytrain 훈련데이터\n",
    "# xval, yval 검증데이터"
   ]
  },
  {
   "cell_type": "code",
   "execution_count": 156,
   "metadata": {
    "tags": []
   },
   "outputs": [
    {
     "output_type": "stream",
     "name": "stdout",
     "text": "Epoch 1/30\n30/30 [==============================] - 1s 27ms/step - loss: 0.4954 - accuracy: 0.7948 - val_loss: 0.3736 - val_accuracy: 0.8647\nEpoch 2/30\n30/30 [==============================] - 1s 26ms/step - loss: 0.2911 - accuracy: 0.9021 - val_loss: 0.2996 - val_accuracy: 0.8878\nEpoch 3/30\n30/30 [==============================] - 1s 23ms/step - loss: 0.2151 - accuracy: 0.9303 - val_loss: 0.2794 - val_accuracy: 0.8891\nEpoch 4/30\n30/30 [==============================] - 1s 26ms/step - loss: 0.1708 - accuracy: 0.9445 - val_loss: 0.2988 - val_accuracy: 0.8803\nEpoch 5/30\n30/30 [==============================] - 1s 24ms/step - loss: 0.1413 - accuracy: 0.9554 - val_loss: 0.3157 - val_accuracy: 0.8764\nEpoch 6/30\n30/30 [==============================] - 1s 28ms/step - loss: 0.1148 - accuracy: 0.9649 - val_loss: 0.3285 - val_accuracy: 0.8743\nEpoch 7/30\n30/30 [==============================] - 1s 27ms/step - loss: 0.0950 - accuracy: 0.9722 - val_loss: 0.3633 - val_accuracy: 0.8681\nEpoch 8/30\n30/30 [==============================] - 1s 20ms/step - loss: 0.0779 - accuracy: 0.9782 - val_loss: 0.3420 - val_accuracy: 0.8769\nEpoch 9/30\n30/30 [==============================] - 1s 21ms/step - loss: 0.0634 - accuracy: 0.9844 - val_loss: 0.3598 - val_accuracy: 0.8766\nEpoch 10/30\n30/30 [==============================] - 1s 21ms/step - loss: 0.0507 - accuracy: 0.9873 - val_loss: 0.3909 - val_accuracy: 0.8777\nEpoch 11/30\n30/30 [==============================] - 1s 20ms/step - loss: 0.0420 - accuracy: 0.9905 - val_loss: 0.4153 - val_accuracy: 0.8752\nEpoch 12/30\n30/30 [==============================] - 1s 20ms/step - loss: 0.0339 - accuracy: 0.9927 - val_loss: 0.4436 - val_accuracy: 0.8737\nEpoch 13/30\n30/30 [==============================] - 1s 20ms/step - loss: 0.0218 - accuracy: 0.9970 - val_loss: 0.5334 - val_accuracy: 0.8584\nEpoch 14/30\n30/30 [==============================] - 1s 21ms/step - loss: 0.0200 - accuracy: 0.9962 - val_loss: 0.5051 - val_accuracy: 0.8739\nEpoch 15/30\n30/30 [==============================] - 1s 27ms/step - loss: 0.0149 - accuracy: 0.9979 - val_loss: 0.5367 - val_accuracy: 0.8704\nEpoch 16/30\n30/30 [==============================] - 1s 21ms/step - loss: 0.0103 - accuracy: 0.9989 - val_loss: 0.5800 - val_accuracy: 0.8669\nEpoch 17/30\n30/30 [==============================] - 1s 19ms/step - loss: 0.0099 - accuracy: 0.9986 - val_loss: 0.6265 - val_accuracy: 0.8643\nEpoch 18/30\n30/30 [==============================] - 1s 21ms/step - loss: 0.0045 - accuracy: 0.9998 - val_loss: 0.6370 - val_accuracy: 0.8685\nEpoch 19/30\n30/30 [==============================] - 1s 22ms/step - loss: 0.0090 - accuracy: 0.9982 - val_loss: 0.6722 - val_accuracy: 0.8670\nEpoch 20/30\n30/30 [==============================] - 1s 21ms/step - loss: 0.0024 - accuracy: 0.9999 - val_loss: 0.6965 - val_accuracy: 0.8674\nEpoch 21/30\n30/30 [==============================] - 1s 22ms/step - loss: 0.0042 - accuracy: 0.9993 - val_loss: 0.7287 - val_accuracy: 0.8675\nEpoch 22/30\n30/30 [==============================] - 1s 20ms/step - loss: 0.0015 - accuracy: 0.9999 - val_loss: 0.7626 - val_accuracy: 0.8653\nEpoch 23/30\n30/30 [==============================] - 1s 21ms/step - loss: 0.0040 - accuracy: 0.9989 - val_loss: 0.8116 - val_accuracy: 0.8638\nEpoch 24/30\n30/30 [==============================] - 1s 30ms/step - loss: 7.7649e-04 - accuracy: 1.0000 - val_loss: 0.8278 - val_accuracy: 0.8666\nEpoch 25/30\n30/30 [==============================] - 1s 23ms/step - loss: 5.9193e-04 - accuracy: 1.0000 - val_loss: 0.8640 - val_accuracy: 0.8656\nEpoch 26/30\n30/30 [==============================] - 1s 22ms/step - loss: 0.0048 - accuracy: 0.9986 - val_loss: 0.9050 - val_accuracy: 0.8636\nEpoch 27/30\n30/30 [==============================] - 1s 22ms/step - loss: 3.2495e-04 - accuracy: 1.0000 - val_loss: 0.9193 - val_accuracy: 0.8633\nEpoch 28/30\n30/30 [==============================] - 1s 22ms/step - loss: 2.6405e-04 - accuracy: 1.0000 - val_loss: 0.9536 - val_accuracy: 0.8617\nEpoch 29/30\n30/30 [==============================] - 1s 21ms/step - loss: 3.9928e-04 - accuracy: 0.9999 - val_loss: 1.2257 - val_accuracy: 0.8424\nEpoch 30/30\n30/30 [==============================] - 1s 27ms/step - loss: 4.5068e-04 - accuracy: 0.9999 - val_loss: 1.0215 - val_accuracy: 0.8629\n"
    }
   ],
   "source": [
    "history = model.fit(pxtrain, pytrain, epochs=30, batch_size=512, validation_data=(xval,yval))"
   ]
  },
  {
   "cell_type": "code",
   "execution_count": 157,
   "metadata": {},
   "outputs": [
    {
     "output_type": "execute_result",
     "data": {
      "text/plain": "<matplotlib.legend.Legend at 0x267d6f35408>"
     },
     "metadata": {},
     "execution_count": 157
    },
    {
     "output_type": "display_data",
     "data": {
      "text/plain": "<Figure size 432x288 with 1 Axes>",
      "image/svg+xml": "<?xml version=\"1.0\" encoding=\"utf-8\" standalone=\"no\"?>\r\n<!DOCTYPE svg PUBLIC \"-//W3C//DTD SVG 1.1//EN\"\r\n  \"http://www.w3.org/Graphics/SVG/1.1/DTD/svg11.dtd\">\r\n<!-- Created with matplotlib (https://matplotlib.org/) -->\r\n<svg height=\"248.518125pt\" version=\"1.1\" viewBox=\"0 0 372.103125 248.518125\" width=\"372.103125pt\" xmlns=\"http://www.w3.org/2000/svg\" xmlns:xlink=\"http://www.w3.org/1999/xlink\">\r\n <defs>\r\n  <style type=\"text/css\">\r\n*{stroke-linecap:butt;stroke-linejoin:round;}\r\n  </style>\r\n </defs>\r\n <g id=\"figure_1\">\r\n  <g id=\"patch_1\">\r\n   <path d=\"M 0 248.518125 \r\nL 372.103125 248.518125 \r\nL 372.103125 0 \r\nL 0 0 \r\nz\r\n\" style=\"fill:none;\"/>\r\n  </g>\r\n  <g id=\"axes_1\">\r\n   <g id=\"patch_2\">\r\n    <path d=\"M 30.103125 224.64 \r\nL 364.903125 224.64 \r\nL 364.903125 7.2 \r\nL 30.103125 7.2 \r\nz\r\n\" style=\"fill:#ffffff;\"/>\r\n   </g>\r\n   <g id=\"matplotlib.axis_1\">\r\n    <g id=\"xtick_1\">\r\n     <g id=\"line2d_1\">\r\n      <defs>\r\n       <path d=\"M 0 0 \r\nL 0 3.5 \r\n\" id=\"m371725b705\" style=\"stroke:#000000;stroke-width:0.8;\"/>\r\n      </defs>\r\n      <g>\r\n       <use style=\"stroke:#000000;stroke-width:0.8;\" x=\"34.826009\" xlink:href=\"#m371725b705\" y=\"224.64\"/>\r\n      </g>\r\n     </g>\r\n     <g id=\"text_1\">\r\n      <!-- 0 -->\r\n      <defs>\r\n       <path d=\"M 31.78125 66.40625 \r\nQ 24.171875 66.40625 20.328125 58.90625 \r\nQ 16.5 51.421875 16.5 36.375 \r\nQ 16.5 21.390625 20.328125 13.890625 \r\nQ 24.171875 6.390625 31.78125 6.390625 \r\nQ 39.453125 6.390625 43.28125 13.890625 \r\nQ 47.125 21.390625 47.125 36.375 \r\nQ 47.125 51.421875 43.28125 58.90625 \r\nQ 39.453125 66.40625 31.78125 66.40625 \r\nz\r\nM 31.78125 74.21875 \r\nQ 44.046875 74.21875 50.515625 64.515625 \r\nQ 56.984375 54.828125 56.984375 36.375 \r\nQ 56.984375 17.96875 50.515625 8.265625 \r\nQ 44.046875 -1.421875 31.78125 -1.421875 \r\nQ 19.53125 -1.421875 13.0625 8.265625 \r\nQ 6.59375 17.96875 6.59375 36.375 \r\nQ 6.59375 54.828125 13.0625 64.515625 \r\nQ 19.53125 74.21875 31.78125 74.21875 \r\nz\r\n\" id=\"DejaVuSans-48\"/>\r\n      </defs>\r\n      <g transform=\"translate(31.644759 239.238437)scale(0.1 -0.1)\">\r\n       <use xlink:href=\"#DejaVuSans-48\"/>\r\n      </g>\r\n     </g>\r\n    </g>\r\n    <g id=\"xtick_2\">\r\n     <g id=\"line2d_2\">\r\n      <g>\r\n       <use style=\"stroke:#000000;stroke-width:0.8;\" x=\"87.302498\" xlink:href=\"#m371725b705\" y=\"224.64\"/>\r\n      </g>\r\n     </g>\r\n     <g id=\"text_2\">\r\n      <!-- 5 -->\r\n      <defs>\r\n       <path d=\"M 10.796875 72.90625 \r\nL 49.515625 72.90625 \r\nL 49.515625 64.59375 \r\nL 19.828125 64.59375 \r\nL 19.828125 46.734375 \r\nQ 21.96875 47.46875 24.109375 47.828125 \r\nQ 26.265625 48.1875 28.421875 48.1875 \r\nQ 40.625 48.1875 47.75 41.5 \r\nQ 54.890625 34.8125 54.890625 23.390625 \r\nQ 54.890625 11.625 47.5625 5.09375 \r\nQ 40.234375 -1.421875 26.90625 -1.421875 \r\nQ 22.3125 -1.421875 17.546875 -0.640625 \r\nQ 12.796875 0.140625 7.71875 1.703125 \r\nL 7.71875 11.625 \r\nQ 12.109375 9.234375 16.796875 8.0625 \r\nQ 21.484375 6.890625 26.703125 6.890625 \r\nQ 35.15625 6.890625 40.078125 11.328125 \r\nQ 45.015625 15.765625 45.015625 23.390625 \r\nQ 45.015625 31 40.078125 35.4375 \r\nQ 35.15625 39.890625 26.703125 39.890625 \r\nQ 22.75 39.890625 18.8125 39.015625 \r\nQ 14.890625 38.140625 10.796875 36.28125 \r\nz\r\n\" id=\"DejaVuSans-53\"/>\r\n      </defs>\r\n      <g transform=\"translate(84.121248 239.238437)scale(0.1 -0.1)\">\r\n       <use xlink:href=\"#DejaVuSans-53\"/>\r\n      </g>\r\n     </g>\r\n    </g>\r\n    <g id=\"xtick_3\">\r\n     <g id=\"line2d_3\">\r\n      <g>\r\n       <use style=\"stroke:#000000;stroke-width:0.8;\" x=\"139.778987\" xlink:href=\"#m371725b705\" y=\"224.64\"/>\r\n      </g>\r\n     </g>\r\n     <g id=\"text_3\">\r\n      <!-- 10 -->\r\n      <defs>\r\n       <path d=\"M 12.40625 8.296875 \r\nL 28.515625 8.296875 \r\nL 28.515625 63.921875 \r\nL 10.984375 60.40625 \r\nL 10.984375 69.390625 \r\nL 28.421875 72.90625 \r\nL 38.28125 72.90625 \r\nL 38.28125 8.296875 \r\nL 54.390625 8.296875 \r\nL 54.390625 0 \r\nL 12.40625 0 \r\nz\r\n\" id=\"DejaVuSans-49\"/>\r\n      </defs>\r\n      <g transform=\"translate(133.416487 239.238437)scale(0.1 -0.1)\">\r\n       <use xlink:href=\"#DejaVuSans-49\"/>\r\n       <use x=\"63.623047\" xlink:href=\"#DejaVuSans-48\"/>\r\n      </g>\r\n     </g>\r\n    </g>\r\n    <g id=\"xtick_4\">\r\n     <g id=\"line2d_4\">\r\n      <g>\r\n       <use style=\"stroke:#000000;stroke-width:0.8;\" x=\"192.255476\" xlink:href=\"#m371725b705\" y=\"224.64\"/>\r\n      </g>\r\n     </g>\r\n     <g id=\"text_4\">\r\n      <!-- 15 -->\r\n      <g transform=\"translate(185.892976 239.238437)scale(0.1 -0.1)\">\r\n       <use xlink:href=\"#DejaVuSans-49\"/>\r\n       <use x=\"63.623047\" xlink:href=\"#DejaVuSans-53\"/>\r\n      </g>\r\n     </g>\r\n    </g>\r\n    <g id=\"xtick_5\">\r\n     <g id=\"line2d_5\">\r\n      <g>\r\n       <use style=\"stroke:#000000;stroke-width:0.8;\" x=\"244.731965\" xlink:href=\"#m371725b705\" y=\"224.64\"/>\r\n      </g>\r\n     </g>\r\n     <g id=\"text_5\">\r\n      <!-- 20 -->\r\n      <defs>\r\n       <path d=\"M 19.1875 8.296875 \r\nL 53.609375 8.296875 \r\nL 53.609375 0 \r\nL 7.328125 0 \r\nL 7.328125 8.296875 \r\nQ 12.9375 14.109375 22.625 23.890625 \r\nQ 32.328125 33.6875 34.8125 36.53125 \r\nQ 39.546875 41.84375 41.421875 45.53125 \r\nQ 43.3125 49.21875 43.3125 52.78125 \r\nQ 43.3125 58.59375 39.234375 62.25 \r\nQ 35.15625 65.921875 28.609375 65.921875 \r\nQ 23.96875 65.921875 18.8125 64.3125 \r\nQ 13.671875 62.703125 7.8125 59.421875 \r\nL 7.8125 69.390625 \r\nQ 13.765625 71.78125 18.9375 73 \r\nQ 24.125 74.21875 28.421875 74.21875 \r\nQ 39.75 74.21875 46.484375 68.546875 \r\nQ 53.21875 62.890625 53.21875 53.421875 \r\nQ 53.21875 48.921875 51.53125 44.890625 \r\nQ 49.859375 40.875 45.40625 35.40625 \r\nQ 44.1875 33.984375 37.640625 27.21875 \r\nQ 31.109375 20.453125 19.1875 8.296875 \r\nz\r\n\" id=\"DejaVuSans-50\"/>\r\n      </defs>\r\n      <g transform=\"translate(238.369465 239.238437)scale(0.1 -0.1)\">\r\n       <use xlink:href=\"#DejaVuSans-50\"/>\r\n       <use x=\"63.623047\" xlink:href=\"#DejaVuSans-48\"/>\r\n      </g>\r\n     </g>\r\n    </g>\r\n    <g id=\"xtick_6\">\r\n     <g id=\"line2d_6\">\r\n      <g>\r\n       <use style=\"stroke:#000000;stroke-width:0.8;\" x=\"297.208454\" xlink:href=\"#m371725b705\" y=\"224.64\"/>\r\n      </g>\r\n     </g>\r\n     <g id=\"text_6\">\r\n      <!-- 25 -->\r\n      <g transform=\"translate(290.845954 239.238437)scale(0.1 -0.1)\">\r\n       <use xlink:href=\"#DejaVuSans-50\"/>\r\n       <use x=\"63.623047\" xlink:href=\"#DejaVuSans-53\"/>\r\n      </g>\r\n     </g>\r\n    </g>\r\n    <g id=\"xtick_7\">\r\n     <g id=\"line2d_7\">\r\n      <g>\r\n       <use style=\"stroke:#000000;stroke-width:0.8;\" x=\"349.684943\" xlink:href=\"#m371725b705\" y=\"224.64\"/>\r\n      </g>\r\n     </g>\r\n     <g id=\"text_7\">\r\n      <!-- 30 -->\r\n      <defs>\r\n       <path d=\"M 40.578125 39.3125 \r\nQ 47.65625 37.796875 51.625 33 \r\nQ 55.609375 28.21875 55.609375 21.1875 \r\nQ 55.609375 10.40625 48.1875 4.484375 \r\nQ 40.765625 -1.421875 27.09375 -1.421875 \r\nQ 22.515625 -1.421875 17.65625 -0.515625 \r\nQ 12.796875 0.390625 7.625 2.203125 \r\nL 7.625 11.71875 \r\nQ 11.71875 9.328125 16.59375 8.109375 \r\nQ 21.484375 6.890625 26.8125 6.890625 \r\nQ 36.078125 6.890625 40.9375 10.546875 \r\nQ 45.796875 14.203125 45.796875 21.1875 \r\nQ 45.796875 27.640625 41.28125 31.265625 \r\nQ 36.765625 34.90625 28.71875 34.90625 \r\nL 20.21875 34.90625 \r\nL 20.21875 43.015625 \r\nL 29.109375 43.015625 \r\nQ 36.375 43.015625 40.234375 45.921875 \r\nQ 44.09375 48.828125 44.09375 54.296875 \r\nQ 44.09375 59.90625 40.109375 62.90625 \r\nQ 36.140625 65.921875 28.71875 65.921875 \r\nQ 24.65625 65.921875 20.015625 65.03125 \r\nQ 15.375 64.15625 9.8125 62.3125 \r\nL 9.8125 71.09375 \r\nQ 15.4375 72.65625 20.34375 73.4375 \r\nQ 25.25 74.21875 29.59375 74.21875 \r\nQ 40.828125 74.21875 47.359375 69.109375 \r\nQ 53.90625 64.015625 53.90625 55.328125 \r\nQ 53.90625 49.265625 50.4375 45.09375 \r\nQ 46.96875 40.921875 40.578125 39.3125 \r\nz\r\n\" id=\"DejaVuSans-51\"/>\r\n      </defs>\r\n      <g transform=\"translate(343.322443 239.238437)scale(0.1 -0.1)\">\r\n       <use xlink:href=\"#DejaVuSans-51\"/>\r\n       <use x=\"63.623047\" xlink:href=\"#DejaVuSans-48\"/>\r\n      </g>\r\n     </g>\r\n    </g>\r\n   </g>\r\n   <g id=\"matplotlib.axis_2\">\r\n    <g id=\"ytick_1\">\r\n     <g id=\"line2d_8\">\r\n      <defs>\r\n       <path d=\"M 0 0 \r\nL -3.5 0 \r\n\" id=\"m95f4dc0833\" style=\"stroke:#000000;stroke-width:0.8;\"/>\r\n      </defs>\r\n      <g>\r\n       <use style=\"stroke:#000000;stroke-width:0.8;\" x=\"30.103125\" xlink:href=\"#m95f4dc0833\" y=\"214.798957\"/>\r\n      </g>\r\n     </g>\r\n     <g id=\"text_8\">\r\n      <!-- 0.0 -->\r\n      <defs>\r\n       <path d=\"M 10.6875 12.40625 \r\nL 21 12.40625 \r\nL 21 0 \r\nL 10.6875 0 \r\nz\r\n\" id=\"DejaVuSans-46\"/>\r\n      </defs>\r\n      <g transform=\"translate(7.2 218.598176)scale(0.1 -0.1)\">\r\n       <use xlink:href=\"#DejaVuSans-48\"/>\r\n       <use x=\"63.623047\" xlink:href=\"#DejaVuSans-46\"/>\r\n       <use x=\"95.410156\" xlink:href=\"#DejaVuSans-48\"/>\r\n      </g>\r\n     </g>\r\n    </g>\r\n    <g id=\"ytick_2\">\r\n     <g id=\"line2d_9\">\r\n      <g>\r\n       <use style=\"stroke:#000000;stroke-width:0.8;\" x=\"30.103125\" xlink:href=\"#m95f4dc0833\" y=\"182.537359\"/>\r\n      </g>\r\n     </g>\r\n     <g id=\"text_9\">\r\n      <!-- 0.2 -->\r\n      <g transform=\"translate(7.2 186.336578)scale(0.1 -0.1)\">\r\n       <use xlink:href=\"#DejaVuSans-48\"/>\r\n       <use x=\"63.623047\" xlink:href=\"#DejaVuSans-46\"/>\r\n       <use x=\"95.410156\" xlink:href=\"#DejaVuSans-50\"/>\r\n      </g>\r\n     </g>\r\n    </g>\r\n    <g id=\"ytick_3\">\r\n     <g id=\"line2d_10\">\r\n      <g>\r\n       <use style=\"stroke:#000000;stroke-width:0.8;\" x=\"30.103125\" xlink:href=\"#m95f4dc0833\" y=\"150.275761\"/>\r\n      </g>\r\n     </g>\r\n     <g id=\"text_10\">\r\n      <!-- 0.4 -->\r\n      <defs>\r\n       <path d=\"M 37.796875 64.3125 \r\nL 12.890625 25.390625 \r\nL 37.796875 25.390625 \r\nz\r\nM 35.203125 72.90625 \r\nL 47.609375 72.90625 \r\nL 47.609375 25.390625 \r\nL 58.015625 25.390625 \r\nL 58.015625 17.1875 \r\nL 47.609375 17.1875 \r\nL 47.609375 0 \r\nL 37.796875 0 \r\nL 37.796875 17.1875 \r\nL 4.890625 17.1875 \r\nL 4.890625 26.703125 \r\nz\r\n\" id=\"DejaVuSans-52\"/>\r\n      </defs>\r\n      <g transform=\"translate(7.2 154.07498)scale(0.1 -0.1)\">\r\n       <use xlink:href=\"#DejaVuSans-48\"/>\r\n       <use x=\"63.623047\" xlink:href=\"#DejaVuSans-46\"/>\r\n       <use x=\"95.410156\" xlink:href=\"#DejaVuSans-52\"/>\r\n      </g>\r\n     </g>\r\n    </g>\r\n    <g id=\"ytick_4\">\r\n     <g id=\"line2d_11\">\r\n      <g>\r\n       <use style=\"stroke:#000000;stroke-width:0.8;\" x=\"30.103125\" xlink:href=\"#m95f4dc0833\" y=\"118.014164\"/>\r\n      </g>\r\n     </g>\r\n     <g id=\"text_11\">\r\n      <!-- 0.6 -->\r\n      <defs>\r\n       <path d=\"M 33.015625 40.375 \r\nQ 26.375 40.375 22.484375 35.828125 \r\nQ 18.609375 31.296875 18.609375 23.390625 \r\nQ 18.609375 15.53125 22.484375 10.953125 \r\nQ 26.375 6.390625 33.015625 6.390625 \r\nQ 39.65625 6.390625 43.53125 10.953125 \r\nQ 47.40625 15.53125 47.40625 23.390625 \r\nQ 47.40625 31.296875 43.53125 35.828125 \r\nQ 39.65625 40.375 33.015625 40.375 \r\nz\r\nM 52.59375 71.296875 \r\nL 52.59375 62.3125 \r\nQ 48.875 64.0625 45.09375 64.984375 \r\nQ 41.3125 65.921875 37.59375 65.921875 \r\nQ 27.828125 65.921875 22.671875 59.328125 \r\nQ 17.53125 52.734375 16.796875 39.40625 \r\nQ 19.671875 43.65625 24.015625 45.921875 \r\nQ 28.375 48.1875 33.59375 48.1875 \r\nQ 44.578125 48.1875 50.953125 41.515625 \r\nQ 57.328125 34.859375 57.328125 23.390625 \r\nQ 57.328125 12.15625 50.6875 5.359375 \r\nQ 44.046875 -1.421875 33.015625 -1.421875 \r\nQ 20.359375 -1.421875 13.671875 8.265625 \r\nQ 6.984375 17.96875 6.984375 36.375 \r\nQ 6.984375 53.65625 15.1875 63.9375 \r\nQ 23.390625 74.21875 37.203125 74.21875 \r\nQ 40.921875 74.21875 44.703125 73.484375 \r\nQ 48.484375 72.75 52.59375 71.296875 \r\nz\r\n\" id=\"DejaVuSans-54\"/>\r\n      </defs>\r\n      <g transform=\"translate(7.2 121.813382)scale(0.1 -0.1)\">\r\n       <use xlink:href=\"#DejaVuSans-48\"/>\r\n       <use x=\"63.623047\" xlink:href=\"#DejaVuSans-46\"/>\r\n       <use x=\"95.410156\" xlink:href=\"#DejaVuSans-54\"/>\r\n      </g>\r\n     </g>\r\n    </g>\r\n    <g id=\"ytick_5\">\r\n     <g id=\"line2d_12\">\r\n      <g>\r\n       <use style=\"stroke:#000000;stroke-width:0.8;\" x=\"30.103125\" xlink:href=\"#m95f4dc0833\" y=\"85.752566\"/>\r\n      </g>\r\n     </g>\r\n     <g id=\"text_12\">\r\n      <!-- 0.8 -->\r\n      <defs>\r\n       <path d=\"M 31.78125 34.625 \r\nQ 24.75 34.625 20.71875 30.859375 \r\nQ 16.703125 27.09375 16.703125 20.515625 \r\nQ 16.703125 13.921875 20.71875 10.15625 \r\nQ 24.75 6.390625 31.78125 6.390625 \r\nQ 38.8125 6.390625 42.859375 10.171875 \r\nQ 46.921875 13.96875 46.921875 20.515625 \r\nQ 46.921875 27.09375 42.890625 30.859375 \r\nQ 38.875 34.625 31.78125 34.625 \r\nz\r\nM 21.921875 38.8125 \r\nQ 15.578125 40.375 12.03125 44.71875 \r\nQ 8.5 49.078125 8.5 55.328125 \r\nQ 8.5 64.0625 14.71875 69.140625 \r\nQ 20.953125 74.21875 31.78125 74.21875 \r\nQ 42.671875 74.21875 48.875 69.140625 \r\nQ 55.078125 64.0625 55.078125 55.328125 \r\nQ 55.078125 49.078125 51.53125 44.71875 \r\nQ 48 40.375 41.703125 38.8125 \r\nQ 48.828125 37.15625 52.796875 32.3125 \r\nQ 56.78125 27.484375 56.78125 20.515625 \r\nQ 56.78125 9.90625 50.3125 4.234375 \r\nQ 43.84375 -1.421875 31.78125 -1.421875 \r\nQ 19.734375 -1.421875 13.25 4.234375 \r\nQ 6.78125 9.90625 6.78125 20.515625 \r\nQ 6.78125 27.484375 10.78125 32.3125 \r\nQ 14.796875 37.15625 21.921875 38.8125 \r\nz\r\nM 18.3125 54.390625 \r\nQ 18.3125 48.734375 21.84375 45.5625 \r\nQ 25.390625 42.390625 31.78125 42.390625 \r\nQ 38.140625 42.390625 41.71875 45.5625 \r\nQ 45.3125 48.734375 45.3125 54.390625 \r\nQ 45.3125 60.0625 41.71875 63.234375 \r\nQ 38.140625 66.40625 31.78125 66.40625 \r\nQ 25.390625 66.40625 21.84375 63.234375 \r\nQ 18.3125 60.0625 18.3125 54.390625 \r\nz\r\n\" id=\"DejaVuSans-56\"/>\r\n      </defs>\r\n      <g transform=\"translate(7.2 89.551785)scale(0.1 -0.1)\">\r\n       <use xlink:href=\"#DejaVuSans-48\"/>\r\n       <use x=\"63.623047\" xlink:href=\"#DejaVuSans-46\"/>\r\n       <use x=\"95.410156\" xlink:href=\"#DejaVuSans-56\"/>\r\n      </g>\r\n     </g>\r\n    </g>\r\n    <g id=\"ytick_6\">\r\n     <g id=\"line2d_13\">\r\n      <g>\r\n       <use style=\"stroke:#000000;stroke-width:0.8;\" x=\"30.103125\" xlink:href=\"#m95f4dc0833\" y=\"53.490968\"/>\r\n      </g>\r\n     </g>\r\n     <g id=\"text_13\">\r\n      <!-- 1.0 -->\r\n      <g transform=\"translate(7.2 57.290187)scale(0.1 -0.1)\">\r\n       <use xlink:href=\"#DejaVuSans-49\"/>\r\n       <use x=\"63.623047\" xlink:href=\"#DejaVuSans-46\"/>\r\n       <use x=\"95.410156\" xlink:href=\"#DejaVuSans-48\"/>\r\n      </g>\r\n     </g>\r\n    </g>\r\n    <g id=\"ytick_7\">\r\n     <g id=\"line2d_14\">\r\n      <g>\r\n       <use style=\"stroke:#000000;stroke-width:0.8;\" x=\"30.103125\" xlink:href=\"#m95f4dc0833\" y=\"21.22937\"/>\r\n      </g>\r\n     </g>\r\n     <g id=\"text_14\">\r\n      <!-- 1.2 -->\r\n      <g transform=\"translate(7.2 25.028589)scale(0.1 -0.1)\">\r\n       <use xlink:href=\"#DejaVuSans-49\"/>\r\n       <use x=\"63.623047\" xlink:href=\"#DejaVuSans-46\"/>\r\n       <use x=\"95.410156\" xlink:href=\"#DejaVuSans-50\"/>\r\n      </g>\r\n     </g>\r\n    </g>\r\n   </g>\r\n   <g id=\"line2d_15\">\r\n    <defs>\r\n     <path d=\"M 0 3 \r\nC 0.795609 3 1.55874 2.683901 2.12132 2.12132 \r\nC 2.683901 1.55874 3 0.795609 3 0 \r\nC 3 -0.795609 2.683901 -1.55874 2.12132 -2.12132 \r\nC 1.55874 -2.683901 0.795609 -3 0 -3 \r\nC -0.795609 -3 -1.55874 -2.683901 -2.12132 -2.12132 \r\nC -2.683901 -1.55874 -3 -0.795609 -3 0 \r\nC -3 0.795609 -2.683901 1.55874 -2.12132 2.12132 \r\nC -1.55874 2.683901 -0.795609 3 0 3 \r\nz\r\n\" id=\"m04ea886b56\" style=\"stroke:#0000ff;\"/>\r\n    </defs>\r\n    <g clip-path=\"url(#p2f8175e8fd)\">\r\n     <use style=\"fill:#0000ff;stroke:#0000ff;\" x=\"45.321307\" xlink:href=\"#m04ea886b56\" y=\"134.892097\"/>\r\n     <use style=\"fill:#0000ff;stroke:#0000ff;\" x=\"55.816605\" xlink:href=\"#m04ea886b56\" y=\"167.843914\"/>\r\n     <use style=\"fill:#0000ff;stroke:#0000ff;\" x=\"66.311902\" xlink:href=\"#m04ea886b56\" y=\"180.106937\"/>\r\n     <use style=\"fill:#0000ff;stroke:#0000ff;\" x=\"76.8072\" xlink:href=\"#m04ea886b56\" y=\"187.248257\"/>\r\n     <use style=\"fill:#0000ff;stroke:#0000ff;\" x=\"87.302498\" xlink:href=\"#m04ea886b56\" y=\"192.005875\"/>\r\n     <use style=\"fill:#0000ff;stroke:#0000ff;\" x=\"97.797796\" xlink:href=\"#m04ea886b56\" y=\"196.282509\"/>\r\n     <use style=\"fill:#0000ff;stroke:#0000ff;\" x=\"108.293094\" xlink:href=\"#m04ea886b56\" y=\"199.467088\"/>\r\n     <use style=\"fill:#0000ff;stroke:#0000ff;\" x=\"118.788391\" xlink:href=\"#m04ea886b56\" y=\"202.233973\"/>\r\n     <use style=\"fill:#0000ff;stroke:#0000ff;\" x=\"129.283689\" xlink:href=\"#m04ea886b56\" y=\"204.565024\"/>\r\n     <use style=\"fill:#0000ff;stroke:#0000ff;\" x=\"139.778987\" xlink:href=\"#m04ea886b56\" y=\"206.620262\"/>\r\n     <use style=\"fill:#0000ff;stroke:#0000ff;\" x=\"150.274285\" xlink:href=\"#m04ea886b56\" y=\"208.023114\"/>\r\n     <use style=\"fill:#0000ff;stroke:#0000ff;\" x=\"160.769583\" xlink:href=\"#m04ea886b56\" y=\"209.328366\"/>\r\n     <use style=\"fill:#0000ff;stroke:#0000ff;\" x=\"171.26488\" xlink:href=\"#m04ea886b56\" y=\"211.289522\"/>\r\n     <use style=\"fill:#0000ff;stroke:#0000ff;\" x=\"181.760178\" xlink:href=\"#m04ea886b56\" y=\"211.565801\"/>\r\n     <use style=\"fill:#0000ff;stroke:#0000ff;\" x=\"192.255476\" xlink:href=\"#m04ea886b56\" y=\"212.388251\"/>\r\n     <use style=\"fill:#0000ff;stroke:#0000ff;\" x=\"202.750774\" xlink:href=\"#m04ea886b56\" y=\"213.141802\"/>\r\n     <use style=\"fill:#0000ff;stroke:#0000ff;\" x=\"213.246072\" xlink:href=\"#m04ea886b56\" y=\"213.203208\"/>\r\n     <use style=\"fill:#0000ff;stroke:#0000ff;\" x=\"223.74137\" xlink:href=\"#m04ea886b56\" y=\"214.073689\"/>\r\n     <use style=\"fill:#0000ff;stroke:#0000ff;\" x=\"234.236667\" xlink:href=\"#m04ea886b56\" y=\"213.342395\"/>\r\n     <use style=\"fill:#0000ff;stroke:#0000ff;\" x=\"244.731965\" xlink:href=\"#m04ea886b56\" y=\"214.412838\"/>\r\n     <use style=\"fill:#0000ff;stroke:#0000ff;\" x=\"255.227263\" xlink:href=\"#m04ea886b56\" y=\"214.127211\"/>\r\n     <use style=\"fill:#0000ff;stroke:#0000ff;\" x=\"265.722561\" xlink:href=\"#m04ea886b56\" y=\"214.564529\"/>\r\n     <use style=\"fill:#0000ff;stroke:#0000ff;\" x=\"276.217859\" xlink:href=\"#m04ea886b56\" y=\"214.148718\"/>\r\n     <use style=\"fill:#0000ff;stroke:#0000ff;\" x=\"286.713156\" xlink:href=\"#m04ea886b56\" y=\"214.673702\"/>\r\n     <use style=\"fill:#0000ff;stroke:#0000ff;\" x=\"297.208454\" xlink:href=\"#m04ea886b56\" y=\"214.703474\"/>\r\n     <use style=\"fill:#0000ff;stroke:#0000ff;\" x=\"307.703752\" xlink:href=\"#m04ea886b56\" y=\"214.032042\"/>\r\n     <use style=\"fill:#0000ff;stroke:#0000ff;\" x=\"318.19905\" xlink:href=\"#m04ea886b56\" y=\"214.74654\"/>\r\n     <use style=\"fill:#0000ff;stroke:#0000ff;\" x=\"328.694348\" xlink:href=\"#m04ea886b56\" y=\"214.756364\"/>\r\n     <use style=\"fill:#0000ff;stroke:#0000ff;\" x=\"339.189645\" xlink:href=\"#m04ea886b56\" y=\"214.734549\"/>\r\n     <use style=\"fill:#0000ff;stroke:#0000ff;\" x=\"349.684943\" xlink:href=\"#m04ea886b56\" y=\"214.726259\"/>\r\n    </g>\r\n   </g>\r\n   <g id=\"line2d_16\">\r\n    <path clip-path=\"url(#p2f8175e8fd)\" d=\"M 45.321307 154.538253 \r\nL 55.816605 166.467631 \r\nL 66.311902 169.725771 \r\nL 76.8072 166.593439 \r\nL 87.302498 163.867935 \r\nL 97.797796 161.804384 \r\nL 108.293094 156.190583 \r\nL 118.788391 159.629638 \r\nL 129.283689 156.765023 \r\nL 139.778987 151.736494 \r\nL 150.274285 147.814208 \r\nL 160.769583 143.248247 \r\nL 171.26488 128.749257 \r\nL 181.760178 133.330212 \r\nL 192.255476 128.229169 \r\nL 202.750774 121.237413 \r\nL 213.246072 113.732818 \r\nL 223.74137 112.050052 \r\nL 234.236667 106.371136 \r\nL 244.731965 102.443404 \r\nL 255.227263 97.255319 \r\nL 265.722561 91.782609 \r\nL 276.217859 83.881129 \r\nL 286.713156 81.274044 \r\nL 297.208454 75.424005 \r\nL 307.703752 68.82076 \r\nL 318.19905 66.514462 \r\nL 328.694348 60.975439 \r\nL 339.189645 17.083636 \r\nL 349.684943 50.030078 \r\n\" style=\"fill:none;stroke:#ff0000;stroke-linecap:square;stroke-width:1.5;\"/>\r\n   </g>\r\n   <g id=\"patch_3\">\r\n    <path d=\"M 30.103125 224.64 \r\nL 30.103125 7.2 \r\n\" style=\"fill:none;stroke:#000000;stroke-linecap:square;stroke-linejoin:miter;stroke-width:0.8;\"/>\r\n   </g>\r\n   <g id=\"patch_4\">\r\n    <path d=\"M 364.903125 224.64 \r\nL 364.903125 7.2 \r\n\" style=\"fill:none;stroke:#000000;stroke-linecap:square;stroke-linejoin:miter;stroke-width:0.8;\"/>\r\n   </g>\r\n   <g id=\"patch_5\">\r\n    <path d=\"M 30.103125 224.64 \r\nL 364.903125 224.64 \r\n\" style=\"fill:none;stroke:#000000;stroke-linecap:square;stroke-linejoin:miter;stroke-width:0.8;\"/>\r\n   </g>\r\n   <g id=\"patch_6\">\r\n    <path d=\"M 30.103125 7.2 \r\nL 364.903125 7.2 \r\n\" style=\"fill:none;stroke:#000000;stroke-linecap:square;stroke-linejoin:miter;stroke-width:0.8;\"/>\r\n   </g>\r\n   <g id=\"legend_1\">\r\n    <g id=\"patch_7\">\r\n     <path d=\"M 37.103125 44.55625 \r\nL 116.303125 44.55625 \r\nQ 118.303125 44.55625 118.303125 42.55625 \r\nL 118.303125 14.2 \r\nQ 118.303125 12.2 116.303125 12.2 \r\nL 37.103125 12.2 \r\nQ 35.103125 12.2 35.103125 14.2 \r\nL 35.103125 42.55625 \r\nQ 35.103125 44.55625 37.103125 44.55625 \r\nz\r\n\" style=\"fill:#ffffff;opacity:0.8;stroke:#cccccc;stroke-linejoin:miter;\"/>\r\n    </g>\r\n    <g id=\"line2d_17\"/>\r\n    <g id=\"line2d_18\">\r\n     <g>\r\n      <use style=\"fill:#0000ff;stroke:#0000ff;\" x=\"49.103125\" xlink:href=\"#m04ea886b56\" y=\"20.298437\"/>\r\n     </g>\r\n    </g>\r\n    <g id=\"text_15\">\r\n     <!-- train cost -->\r\n     <defs>\r\n      <path d=\"M 18.3125 70.21875 \r\nL 18.3125 54.6875 \r\nL 36.8125 54.6875 \r\nL 36.8125 47.703125 \r\nL 18.3125 47.703125 \r\nL 18.3125 18.015625 \r\nQ 18.3125 11.328125 20.140625 9.421875 \r\nQ 21.96875 7.515625 27.59375 7.515625 \r\nL 36.8125 7.515625 \r\nL 36.8125 0 \r\nL 27.59375 0 \r\nQ 17.1875 0 13.234375 3.875 \r\nQ 9.28125 7.765625 9.28125 18.015625 \r\nL 9.28125 47.703125 \r\nL 2.6875 47.703125 \r\nL 2.6875 54.6875 \r\nL 9.28125 54.6875 \r\nL 9.28125 70.21875 \r\nz\r\n\" id=\"DejaVuSans-116\"/>\r\n      <path d=\"M 41.109375 46.296875 \r\nQ 39.59375 47.171875 37.8125 47.578125 \r\nQ 36.03125 48 33.890625 48 \r\nQ 26.265625 48 22.1875 43.046875 \r\nQ 18.109375 38.09375 18.109375 28.8125 \r\nL 18.109375 0 \r\nL 9.078125 0 \r\nL 9.078125 54.6875 \r\nL 18.109375 54.6875 \r\nL 18.109375 46.1875 \r\nQ 20.953125 51.171875 25.484375 53.578125 \r\nQ 30.03125 56 36.53125 56 \r\nQ 37.453125 56 38.578125 55.875 \r\nQ 39.703125 55.765625 41.0625 55.515625 \r\nz\r\n\" id=\"DejaVuSans-114\"/>\r\n      <path d=\"M 34.28125 27.484375 \r\nQ 23.390625 27.484375 19.1875 25 \r\nQ 14.984375 22.515625 14.984375 16.5 \r\nQ 14.984375 11.71875 18.140625 8.90625 \r\nQ 21.296875 6.109375 26.703125 6.109375 \r\nQ 34.1875 6.109375 38.703125 11.40625 \r\nQ 43.21875 16.703125 43.21875 25.484375 \r\nL 43.21875 27.484375 \r\nz\r\nM 52.203125 31.203125 \r\nL 52.203125 0 \r\nL 43.21875 0 \r\nL 43.21875 8.296875 \r\nQ 40.140625 3.328125 35.546875 0.953125 \r\nQ 30.953125 -1.421875 24.3125 -1.421875 \r\nQ 15.921875 -1.421875 10.953125 3.296875 \r\nQ 6 8.015625 6 15.921875 \r\nQ 6 25.140625 12.171875 29.828125 \r\nQ 18.359375 34.515625 30.609375 34.515625 \r\nL 43.21875 34.515625 \r\nL 43.21875 35.40625 \r\nQ 43.21875 41.609375 39.140625 45 \r\nQ 35.0625 48.390625 27.6875 48.390625 \r\nQ 23 48.390625 18.546875 47.265625 \r\nQ 14.109375 46.140625 10.015625 43.890625 \r\nL 10.015625 52.203125 \r\nQ 14.9375 54.109375 19.578125 55.046875 \r\nQ 24.21875 56 28.609375 56 \r\nQ 40.484375 56 46.34375 49.84375 \r\nQ 52.203125 43.703125 52.203125 31.203125 \r\nz\r\n\" id=\"DejaVuSans-97\"/>\r\n      <path d=\"M 9.421875 54.6875 \r\nL 18.40625 54.6875 \r\nL 18.40625 0 \r\nL 9.421875 0 \r\nz\r\nM 9.421875 75.984375 \r\nL 18.40625 75.984375 \r\nL 18.40625 64.59375 \r\nL 9.421875 64.59375 \r\nz\r\n\" id=\"DejaVuSans-105\"/>\r\n      <path d=\"M 54.890625 33.015625 \r\nL 54.890625 0 \r\nL 45.90625 0 \r\nL 45.90625 32.71875 \r\nQ 45.90625 40.484375 42.875 44.328125 \r\nQ 39.84375 48.1875 33.796875 48.1875 \r\nQ 26.515625 48.1875 22.3125 43.546875 \r\nQ 18.109375 38.921875 18.109375 30.90625 \r\nL 18.109375 0 \r\nL 9.078125 0 \r\nL 9.078125 54.6875 \r\nL 18.109375 54.6875 \r\nL 18.109375 46.1875 \r\nQ 21.34375 51.125 25.703125 53.5625 \r\nQ 30.078125 56 35.796875 56 \r\nQ 45.21875 56 50.046875 50.171875 \r\nQ 54.890625 44.34375 54.890625 33.015625 \r\nz\r\n\" id=\"DejaVuSans-110\"/>\r\n      <path id=\"DejaVuSans-32\"/>\r\n      <path d=\"M 48.78125 52.59375 \r\nL 48.78125 44.1875 \r\nQ 44.96875 46.296875 41.140625 47.34375 \r\nQ 37.3125 48.390625 33.40625 48.390625 \r\nQ 24.65625 48.390625 19.8125 42.84375 \r\nQ 14.984375 37.3125 14.984375 27.296875 \r\nQ 14.984375 17.28125 19.8125 11.734375 \r\nQ 24.65625 6.203125 33.40625 6.203125 \r\nQ 37.3125 6.203125 41.140625 7.25 \r\nQ 44.96875 8.296875 48.78125 10.40625 \r\nL 48.78125 2.09375 \r\nQ 45.015625 0.34375 40.984375 -0.53125 \r\nQ 36.96875 -1.421875 32.421875 -1.421875 \r\nQ 20.0625 -1.421875 12.78125 6.34375 \r\nQ 5.515625 14.109375 5.515625 27.296875 \r\nQ 5.515625 40.671875 12.859375 48.328125 \r\nQ 20.21875 56 33.015625 56 \r\nQ 37.15625 56 41.109375 55.140625 \r\nQ 45.0625 54.296875 48.78125 52.59375 \r\nz\r\n\" id=\"DejaVuSans-99\"/>\r\n      <path d=\"M 30.609375 48.390625 \r\nQ 23.390625 48.390625 19.1875 42.75 \r\nQ 14.984375 37.109375 14.984375 27.296875 \r\nQ 14.984375 17.484375 19.15625 11.84375 \r\nQ 23.34375 6.203125 30.609375 6.203125 \r\nQ 37.796875 6.203125 41.984375 11.859375 \r\nQ 46.1875 17.53125 46.1875 27.296875 \r\nQ 46.1875 37.015625 41.984375 42.703125 \r\nQ 37.796875 48.390625 30.609375 48.390625 \r\nz\r\nM 30.609375 56 \r\nQ 42.328125 56 49.015625 48.375 \r\nQ 55.71875 40.765625 55.71875 27.296875 \r\nQ 55.71875 13.875 49.015625 6.21875 \r\nQ 42.328125 -1.421875 30.609375 -1.421875 \r\nQ 18.84375 -1.421875 12.171875 6.21875 \r\nQ 5.515625 13.875 5.515625 27.296875 \r\nQ 5.515625 40.765625 12.171875 48.375 \r\nQ 18.84375 56 30.609375 56 \r\nz\r\n\" id=\"DejaVuSans-111\"/>\r\n      <path d=\"M 44.28125 53.078125 \r\nL 44.28125 44.578125 \r\nQ 40.484375 46.53125 36.375 47.5 \r\nQ 32.28125 48.484375 27.875 48.484375 \r\nQ 21.1875 48.484375 17.84375 46.4375 \r\nQ 14.5 44.390625 14.5 40.28125 \r\nQ 14.5 37.15625 16.890625 35.375 \r\nQ 19.28125 33.59375 26.515625 31.984375 \r\nL 29.59375 31.296875 \r\nQ 39.15625 29.25 43.1875 25.515625 \r\nQ 47.21875 21.78125 47.21875 15.09375 \r\nQ 47.21875 7.46875 41.1875 3.015625 \r\nQ 35.15625 -1.421875 24.609375 -1.421875 \r\nQ 20.21875 -1.421875 15.453125 -0.5625 \r\nQ 10.6875 0.296875 5.421875 2 \r\nL 5.421875 11.28125 \r\nQ 10.40625 8.6875 15.234375 7.390625 \r\nQ 20.0625 6.109375 24.8125 6.109375 \r\nQ 31.15625 6.109375 34.5625 8.28125 \r\nQ 37.984375 10.453125 37.984375 14.40625 \r\nQ 37.984375 18.0625 35.515625 20.015625 \r\nQ 33.0625 21.96875 24.703125 23.78125 \r\nL 21.578125 24.515625 \r\nQ 13.234375 26.265625 9.515625 29.90625 \r\nQ 5.8125 33.546875 5.8125 39.890625 \r\nQ 5.8125 47.609375 11.28125 51.796875 \r\nQ 16.75 56 26.8125 56 \r\nQ 31.78125 56 36.171875 55.265625 \r\nQ 40.578125 54.546875 44.28125 53.078125 \r\nz\r\n\" id=\"DejaVuSans-115\"/>\r\n     </defs>\r\n     <g transform=\"translate(67.103125 23.798437)scale(0.1 -0.1)\">\r\n      <use xlink:href=\"#DejaVuSans-116\"/>\r\n      <use x=\"39.208984\" xlink:href=\"#DejaVuSans-114\"/>\r\n      <use x=\"80.322266\" xlink:href=\"#DejaVuSans-97\"/>\r\n      <use x=\"141.601562\" xlink:href=\"#DejaVuSans-105\"/>\r\n      <use x=\"169.384766\" xlink:href=\"#DejaVuSans-110\"/>\r\n      <use x=\"232.763672\" xlink:href=\"#DejaVuSans-32\"/>\r\n      <use x=\"264.550781\" xlink:href=\"#DejaVuSans-99\"/>\r\n      <use x=\"319.53125\" xlink:href=\"#DejaVuSans-111\"/>\r\n      <use x=\"380.712891\" xlink:href=\"#DejaVuSans-115\"/>\r\n      <use x=\"432.8125\" xlink:href=\"#DejaVuSans-116\"/>\r\n     </g>\r\n    </g>\r\n    <g id=\"line2d_19\">\r\n     <path d=\"M 39.103125 34.976562 \r\nL 59.103125 34.976562 \r\n\" style=\"fill:none;stroke:#ff0000;stroke-linecap:square;stroke-width:1.5;\"/>\r\n    </g>\r\n    <g id=\"line2d_20\"/>\r\n    <g id=\"text_16\">\r\n     <!-- val cost -->\r\n     <defs>\r\n      <path d=\"M 2.984375 54.6875 \r\nL 12.5 54.6875 \r\nL 29.59375 8.796875 \r\nL 46.6875 54.6875 \r\nL 56.203125 54.6875 \r\nL 35.6875 0 \r\nL 23.484375 0 \r\nz\r\n\" id=\"DejaVuSans-118\"/>\r\n      <path d=\"M 9.421875 75.984375 \r\nL 18.40625 75.984375 \r\nL 18.40625 0 \r\nL 9.421875 0 \r\nz\r\n\" id=\"DejaVuSans-108\"/>\r\n     </defs>\r\n     <g transform=\"translate(67.103125 38.476562)scale(0.1 -0.1)\">\r\n      <use xlink:href=\"#DejaVuSans-118\"/>\r\n      <use x=\"59.179688\" xlink:href=\"#DejaVuSans-97\"/>\r\n      <use x=\"120.458984\" xlink:href=\"#DejaVuSans-108\"/>\r\n      <use x=\"148.242188\" xlink:href=\"#DejaVuSans-32\"/>\r\n      <use x=\"180.029297\" xlink:href=\"#DejaVuSans-99\"/>\r\n      <use x=\"235.009766\" xlink:href=\"#DejaVuSans-111\"/>\r\n      <use x=\"296.191406\" xlink:href=\"#DejaVuSans-115\"/>\r\n      <use x=\"348.291016\" xlink:href=\"#DejaVuSans-116\"/>\r\n     </g>\r\n    </g>\r\n   </g>\r\n  </g>\r\n </g>\r\n <defs>\r\n  <clipPath id=\"p2f8175e8fd\">\r\n   <rect height=\"217.44\" width=\"334.8\" x=\"30.103125\" y=\"7.2\"/>\r\n  </clipPath>\r\n </defs>\r\n</svg>\r\n",
      "image/png": "[encoded data removed]"
     },
     "metadata": {
      "needs_background": "light"
     }
    }
   ],
   "source": [
    "histDict = history.history\n",
    "histDict.keys()\n",
    "# history.history['loss']\n",
    "\n",
    "import matplotlib.pyplot as plt\n",
    "plt.plot(range(1,len(history.history['accuracy'])+1),history.history['loss'],'bo',label='train cost')\n",
    "plt.plot(range(1,len(history.history['accuracy'])+1),history.history['val_loss'],'r',label='val cost')\n",
    "plt.legend()"
   ]
  },
  {
   "cell_type": "code",
   "execution_count": 161,
   "metadata": {
    "tags": []
   },
   "outputs": [
    {
     "output_type": "stream",
     "name": "stdout",
     "text": "Epoch 1/4\n49/49 [==============================] - 0s 10ms/step - loss: 0.2496 - accuracy: 0.9448\nEpoch 2/4\n49/49 [==============================] - 1s 13ms/step - loss: 0.1314 - accuracy: 0.9614\nEpoch 3/4\n49/49 [==============================] - 1s 11ms/step - loss: 0.0976 - accuracy: 0.9704\nEpoch 4/4\n49/49 [==============================] - 1s 11ms/step - loss: 0.0726 - accuracy: 0.9785\n"
    }
   ],
   "source": [
    "# 4번에폭\n",
    "history = model.fit(xtrain, ytrain, epochs=4, batch_size=512)"
   ]
  },
  {
   "cell_type": "code",
   "execution_count": 162,
   "metadata": {
    "tags": []
   },
   "outputs": [
    {
     "output_type": "stream",
     "name": "stdout",
     "text": "782/782 [==============================] - 1s 1ms/step - loss: 0.5011 - accuracy: 0.8578\n"
    },
    {
     "output_type": "execute_result",
     "data": {
      "text/plain": "[0.5011076331138611, 0.8578000068664551]"
     },
     "metadata": {},
     "execution_count": 162
    }
   ],
   "source": [
    "# 모델평가\n",
    "res = model.evaluate(xtest,ytest)\n",
    "res"
   ]
  },
  {
   "cell_type": "code",
   "execution_count": 163,
   "metadata": {},
   "outputs": [
    {
     "output_type": "execute_result",
     "data": {
      "text/plain": "array([[0.01590753],\n       [1.        ],\n       [0.9410845 ],\n       ...,\n       [0.06100616],\n       [0.0724819 ],\n       [0.35904616]], dtype=float32)"
     },
     "metadata": {},
     "execution_count": 163
    }
   ],
   "source": [
    "model.predict(xtest)"
   ]
  }
 ]
}