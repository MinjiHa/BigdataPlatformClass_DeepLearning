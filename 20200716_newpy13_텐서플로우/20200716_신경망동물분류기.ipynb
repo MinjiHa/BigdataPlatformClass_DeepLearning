{
 "cells": [
  {
   "cell_type": "code",
   "execution_count": 4,
   "metadata": {
    "tags": []
   },
   "outputs": [
    {
     "output_type": "stream",
     "name": "stdout",
     "text": "WARNING:tensorflow:From C:\\Python37\\lib\\site-packages\\tensorflow\\python\\compat\\v2_compat.py:96: disable_resource_variables (from tensorflow.python.ops.variable_scope) is deprecated and will be removed in a future version.\nInstructions for updating:\nnon-resource variables are not supported in the long term\n"
    }
   ],
   "source": [
    "import tensorflow.compat.v1 as tf\n",
    "tf.disable_v2_behavior() # 텐서플로우 버전 1로 낮추기 (버전 2 기능 사용불가하게 만들기)"
   ]
  },
  {
   "cell_type": "code",
   "execution_count": 5,
   "metadata": {},
   "outputs": [],
   "source": [
    "# 허접한 동물 분류기\n",
    "import numpy as np\n",
    "# 포유류? 조류? 기타? 분류기 (신경망)\n",
    "# 기준 - 털, 날개유무에 따라 분류\n",
    "# [털,날개]\n",
    "xdata = np.array(\n",
    "    [[0,0],\n",
    "    [1,0],\n",
    "    [1,1],\n",
    "    [0,0],\n",
    "    [0,0],\n",
    "    [0,1]\n",
    "    ]\n",
    ")\n",
    "\n",
    "ydata = np.array(\n",
    "    [[1,0,0], #기타\n",
    "    [0,1,0], #포유류\n",
    "    [0,0,1], #조류\n",
    "    [1,0,0],\n",
    "    [1,0,0],\n",
    "    [0,0,1]\n",
    "    ]\n",
    ")"
   ]
  },
  {
   "cell_type": "code",
   "execution_count": 19,
   "metadata": {},
   "outputs": [],
   "source": [
    "# 신경망 모델 구성\n",
    "\n",
    "x = tf.placeholder(tf.float32, shape=[None,2])\n",
    "y = tf.placeholder(tf.float32, shape=[None,3])\n",
    "\n",
    "w = tf.Variable(tf.random_uniform([2,3],-1.,1.))\n",
    "b = tf.Variable(tf.zeros([3])) # 분류기의 갯수\n",
    "\n",
    "L = tf.add(tf.matmul(x,w),b) # [None,3]와 [3]요소간 덧셈 # L은 scores(logits)\n",
    "L = tf.nn.relu(L) # relu 함수는 음수가 전달되는 경우에는 0, 양수가 전달되는 경우 그대로 리턴\n",
    "\n",
    "# 예) scores = [8.05, 2.07, 1.3]\n",
    "model = tf.nn.softmax(L) # 신경망모델\n",
    "\n",
    "cost = tf.reduce_mean(-tf.reduce_sum(y*tf.log(model),axis=1))\n",
    "train = tf.train.GradientDescentOptimizer(0.01).minimize(cost)"
   ]
  },
  {
   "cell_type": "code",
   "execution_count": 20,
   "metadata": {},
   "outputs": [],
   "source": [
    "sess = tf.Session()\n",
    "sess.run(tf.global_variables_initializer())"
   ]
  },
  {
   "cell_type": "code",
   "execution_count": 132,
   "metadata": {
    "tags": []
   },
   "outputs": [
    {
     "output_type": "stream",
     "name": "stdout",
     "text": "[[0.33333334 0.33333334 0.33333334]\n [0.33333334 0.33333334 0.33333334]\n [0.01078096 0.01078096 0.97843814]\n [0.33333334 0.33333334 0.33333334]\n [0.33333334 0.33333334 0.33333334]\n [0.0107819  0.0107819  0.9784362 ]]\n예측값 :  [0 0 2 0 0 2]\n실제값 :  [0 1 2 0 0 2]\n정확도 : 83.33\n"
    }
   ],
   "source": [
    "# for step in range(2001):\n",
    "#     sess.run(train, feed_dict= {x:xdata, y:ydata})\n",
    "#     if step%100==0:\n",
    "#         print(step, sess.run(cost, feed_dict= {x:xdata, y:ydata}))\n",
    "\n",
    "print(sess.run(model, feed_dict={x:xdata}))\n",
    "prediction = tf.argmax(model,axis=1) # 최댓값의 인덱스 추출\n",
    "target = tf.arg_max(y,1)\n",
    "print(\"예측값 : \", sess.run(prediction, feed_dict={x:xdata}))\n",
    "print(\"실제값 : \", sess.run(target, feed_dict={y:ydata}))\n",
    "\n",
    "isCorrect = tf.equal(prediction, target)\n",
    "acc = tf.reduce_mean(tf.cast(isCorrect,tf.float32))\n",
    "print(\"정확도 : %.2f\" %sess.run(acc*100, feed_dict= {x:xdata, y:ydata}))"
   ]
  },
  {
   "cell_type": "code",
   "execution_count": 155,
   "metadata": {},
   "outputs": [],
   "source": [
    "# 딥러닝 모델구성\n",
    "xdata = np.array(\n",
    "[[0,0],\n",
    " [1,0],\n",
    " [1,1],\n",
    " [0,0],\n",
    " [0,0],\n",
    " [0,1],\n",
    "]\n",
    ")\n",
    "ydata = np.array(\n",
    "[[1,0,0], #기타\n",
    " [0,1,0], #포유류\n",
    " [0,0,1],#조류\n",
    " [1,0,0],\n",
    " [1,0,0],\n",
    " [0,0,1],\n",
    "]\n",
    ")"
   ]
  },
  {
   "cell_type": "code",
   "execution_count": 156,
   "metadata": {},
   "outputs": [],
   "source": [
    "x=tf.placeholder(tf.float32,shape=[None,2])\n",
    "y=tf.placeholder(tf.float32,shape=[None,3]) # 분류기가 3개(기타,포유류,조류)니까 3이에요.(한개만 1, 나머지는 0으로 출력)\n",
    "w1=tf.Variable(tf.random_uniform([2,10],-1.,1.))\n",
    "w2=tf.Variable(tf.random_uniform([10,3],-1.,1.)) #신경망은 2차원[입력층(특성),출력층(레이블)]\n",
    "b1=tf.Variable(tf.zeros([10]))\n",
    "b2=tf.Variable(tf.zeros([3]))"
   ]
  },
  {
   "cell_type": "code",
   "execution_count": 157,
   "metadata": {},
   "outputs": [],
   "source": [
    "L1 = tf.add(tf.matmul(x,w1),b1)\n",
    "L1 = tf.nn.relu(L1)\n",
    "model =tf.add(tf.matmul(L1,w2),b2)\n",
    "cost = tf.reduce_mean(tf.nn.softmax_cross_entropy_with_logits_v2(labels=y , logits = model))\n",
    "train = tf.train.AdamOptimizer(0.0001).minimize(cost)"
   ]
  },
  {
   "cell_type": "code",
   "execution_count": 160,
   "metadata": {
    "tags": []
   },
   "outputs": [
    {
     "output_type": "stream",
     "name": "stdout",
     "text": "0 1.327187\n1000 1.0306166\n2000 0.7625003\n3000 0.5483403\n"
    }
   ],
   "source": [
    "sess = tf.Session()\n",
    "sess.run(tf.global_variables_initializer())\n",
    "\n",
    "for step in range(3001):\n",
    "    sess.run(train, feed_dict= {x:xdata, y:ydata})\n",
    "    if step%1000==0:\n",
    "        print(step, sess.run(cost, feed_dict= {x:xdata, y:ydata}))"
   ]
  },
  {
   "cell_type": "code",
   "execution_count": 161,
   "metadata": {
    "tags": []
   },
   "outputs": [
    {
     "output_type": "stream",
     "name": "stdout",
     "text": "[[ 0.54620576 -0.56712973 -0.18317507]\n [-0.69633055  0.42157125 -0.8376914 ]\n [-1.3859531  -1.5791155  -0.55016565]\n [ 0.54620576 -0.56712973 -0.18317507]\n [ 0.54620576 -0.56712973 -0.18317507]\n [-1.0008302  -2.4590168  -0.22513123]]\n예측값 :  [0 1 2 0 0 2]\n실제값 :  [0 1 2 0 0 2]\n정확도 : 100.00\n"
    }
   ],
   "source": [
    "print(sess.run(model, feed_dict={x:xdata}))\n",
    "prediction = tf.argmax(model,axis=1) # 최댓값의 인덱스 추출\n",
    "target = tf.arg_max(y,1)\n",
    "print(\"예측값 : \", sess.run(prediction, feed_dict={x:xdata}))\n",
    "print(\"실제값 : \", sess.run(target, feed_dict={y:ydata}))\n",
    "\n",
    "isCorrect = tf.equal(prediction, target)\n",
    "acc = tf.reduce_mean(tf.cast(isCorrect,tf.float32))\n",
    "print(\"정확도 : %.2f\" %sess.run(acc*100, feed_dict= {x:xdata, y:ydata}))"
   ]
  }
 ],
 "metadata": {
  "language_info": {
   "codemirror_mode": {
    "name": "ipython",
    "version": 3
   },
   "file_extension": ".py",
   "mimetype": "text/x-python",
   "name": "python",
   "nbconvert_exporter": "python",
   "pygments_lexer": "ipython3",
   "version": 3
  },
  "orig_nbformat": 2,
  "kernelspec": {
   "name": "python_defaultSpec_1594858813060",
   "display_name": "Python 3.7.7 64-bit"
  }
 },
 "nbformat": 4,
 "nbformat_minor": 2
}