{
 "metadata": {
  "language_info": {
   "codemirror_mode": {
    "name": "ipython",
    "version": 3
   },
   "file_extension": ".py",
   "mimetype": "text/x-python",
   "name": "python",
   "nbconvert_exporter": "python",
   "pygments_lexer": "ipython3",
   "version": 3
  },
  "orig_nbformat": 2,
  "kernelspec": {
   "name": "python_defaultSpec_1595896189949",
   "display_name": "Python 3.7.7 64-bit"
  }
 },
 "nbformat": 4,
 "nbformat_minor": 2,
 "cells": [
  {
   "cell_type": "code",
   "execution_count": 1,
   "metadata": {
    "tags": []
   },
   "outputs": [
    {
     "output_type": "stream",
     "name": "stdout",
     "text": "[*********************100%***********************]  1 of 1 completed\n"
    },
    {
     "output_type": "execute_result",
     "data": {
      "text/plain": "                   Open          High          Low        Close    Adj Close  \\\nDate                                                                           \n2019-12-31  7294.438965   7335.290039  7169.777832  7193.599121  7193.599121   \n2020-01-01  7194.892090   7254.330566  7174.944336  7200.174316  7200.174316   \n2020-01-02  7202.551270   7212.155273  6935.270020  6985.470215  6985.470215   \n2020-01-03  6984.428711   7413.715332  6914.996094  7344.884277  7344.884277   \n2020-01-04  7345.375488   7427.385742  7309.514160  7410.656738  7410.656738   \n...                 ...           ...          ...          ...          ...   \n2020-07-22  9375.080078   9530.518555  9319.653320  9525.363281  9525.363281   \n2020-07-23  9527.141602   9610.247070  9483.003906  9581.072266  9581.072266   \n2020-07-24  9585.514648   9623.336914  9481.454102  9536.892578  9536.892578   \n2020-07-25  9539.485352   9704.556641  9530.211914  9677.113281  9677.113281   \n2020-07-26  9680.234375  10023.807617  9652.847656  9905.166992  9905.166992   \n\n                 Volume  \nDate                     \n2019-12-31  21167946112  \n2020-01-01  18565664996  \n2020-01-02  20802083465  \n2020-01-03  28111481031  \n2020-01-04  18444271274  \n...                 ...  \n2020-07-22  16532254884  \n2020-07-23  18146399002  \n2020-07-24  16552768325  \n2020-07-25  16610070933  \n2020-07-26  20507998997  \n\n[209 rows x 6 columns]",
      "text/html": "<div>\n<style scoped>\n    .dataframe tbody tr th:only-of-type {\n        vertical-align: middle;\n    }\n\n    .dataframe tbody tr th {\n        vertical-align: top;\n    }\n\n    .dataframe thead th {\n        text-align: right;\n    }\n</style>\n<table border=\"1\" class=\"dataframe\">\n  <thead>\n    <tr style=\"text-align: right;\">\n      <th></th>\n      <th>Open</th>\n      <th>High</th>\n      <th>Low</th>\n      <th>Close</th>\n      <th>Adj Close</th>\n      <th>Volume</th>\n    </tr>\n    <tr>\n      <th>Date</th>\n      <th></th>\n      <th></th>\n      <th></th>\n      <th></th>\n      <th></th>\n      <th></th>\n    </tr>\n  </thead>\n  <tbody>\n    <tr>\n      <th>2019-12-31</th>\n      <td>7294.438965</td>\n      <td>7335.290039</td>\n      <td>7169.777832</td>\n      <td>7193.599121</td>\n      <td>7193.599121</td>\n      <td>21167946112</td>\n    </tr>\n    <tr>\n      <th>2020-01-01</th>\n      <td>7194.892090</td>\n      <td>7254.330566</td>\n      <td>7174.944336</td>\n      <td>7200.174316</td>\n      <td>7200.174316</td>\n      <td>18565664996</td>\n    </tr>\n    <tr>\n      <th>2020-01-02</th>\n      <td>7202.551270</td>\n      <td>7212.155273</td>\n      <td>6935.270020</td>\n      <td>6985.470215</td>\n      <td>6985.470215</td>\n      <td>20802083465</td>\n    </tr>\n    <tr>\n      <th>2020-01-03</th>\n      <td>6984.428711</td>\n      <td>7413.715332</td>\n      <td>6914.996094</td>\n      <td>7344.884277</td>\n      <td>7344.884277</td>\n      <td>28111481031</td>\n    </tr>\n    <tr>\n      <th>2020-01-04</th>\n      <td>7345.375488</td>\n      <td>7427.385742</td>\n      <td>7309.514160</td>\n      <td>7410.656738</td>\n      <td>7410.656738</td>\n      <td>18444271274</td>\n    </tr>\n    <tr>\n      <th>...</th>\n      <td>...</td>\n      <td>...</td>\n      <td>...</td>\n      <td>...</td>\n      <td>...</td>\n      <td>...</td>\n    </tr>\n    <tr>\n      <th>2020-07-22</th>\n      <td>9375.080078</td>\n      <td>9530.518555</td>\n      <td>9319.653320</td>\n      <td>9525.363281</td>\n      <td>9525.363281</td>\n      <td>16532254884</td>\n    </tr>\n    <tr>\n      <th>2020-07-23</th>\n      <td>9527.141602</td>\n      <td>9610.247070</td>\n      <td>9483.003906</td>\n      <td>9581.072266</td>\n      <td>9581.072266</td>\n      <td>18146399002</td>\n    </tr>\n    <tr>\n      <th>2020-07-24</th>\n      <td>9585.514648</td>\n      <td>9623.336914</td>\n      <td>9481.454102</td>\n      <td>9536.892578</td>\n      <td>9536.892578</td>\n      <td>16552768325</td>\n    </tr>\n    <tr>\n      <th>2020-07-25</th>\n      <td>9539.485352</td>\n      <td>9704.556641</td>\n      <td>9530.211914</td>\n      <td>9677.113281</td>\n      <td>9677.113281</td>\n      <td>16610070933</td>\n    </tr>\n    <tr>\n      <th>2020-07-26</th>\n      <td>9680.234375</td>\n      <td>10023.807617</td>\n      <td>9652.847656</td>\n      <td>9905.166992</td>\n      <td>9905.166992</td>\n      <td>20507998997</td>\n    </tr>\n  </tbody>\n</table>\n<p>209 rows × 6 columns</p>\n</div>"
     },
     "metadata": {},
     "execution_count": 1
    }
   ],
   "source": [
    "# 야후파이낸스 자료 사용법\n",
    "\n",
    "import yfinance as yf\n",
    "df = yf.download('BTC-USD','2020-01-01','2020-07-27')\n",
    "df"
   ]
  }
 ]
}