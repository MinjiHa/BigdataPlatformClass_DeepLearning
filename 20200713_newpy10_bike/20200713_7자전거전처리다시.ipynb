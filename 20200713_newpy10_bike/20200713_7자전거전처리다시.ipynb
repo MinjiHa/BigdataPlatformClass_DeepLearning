{
 "cells": [
  {
   "cell_type": "code",
   "execution_count": 1,
   "metadata": {},
   "outputs": [],
   "source": [
    "import numpy as np\n",
    "import pandas as pd\n",
    "import matplotlib.pyplot as plt\n",
    "import seaborn as sns\n",
    "\n",
    "train=pd.read_csv(\"../bike-sharing-demand/train.csv\", parse_dates=['datetime']) #train.csv, datetime컬럼\n",
    "test=pd.read_csv(\"../bike-sharing-demand/test.csv\", parse_dates=['datetime'])#train.csv, datetime컬럼\n",
    "train.shape #(10886, 12)\n",
    "test.shape #(6493, 9)\n",
    "train['year']=train['datetime'].dt.year\n",
    "train['month']=train['datetime'].dt.month\n",
    "train['hour']=train['datetime'].dt.hour\n",
    "train['dayofweek']=train['datetime'].dt.dayofweek\n",
    "test['year']=test['datetime'].dt.year\n",
    "test['month']=test['datetime'].dt.month\n",
    "test['hour']=test['datetime'].dt.hour\n",
    "test['dayofweek']=test['datetime'].dt.dayofweek"
   ]
  },
  {
   "cell_type": "code",
   "execution_count": 2,
   "metadata": {
    "tags": []
   },
   "outputs": [
    {
     "output_type": "stream",
     "name": "stdout",
     "text": "<class 'pandas.core.frame.DataFrame'>\nRangeIndex: 10886 entries, 0 to 10885\nData columns (total 16 columns):\n #   Column      Non-Null Count  Dtype         \n---  ------      --------------  -----         \n 0   datetime    10886 non-null  datetime64[ns]\n 1   season      10886 non-null  int64         \n 2   holiday     10886 non-null  int64         \n 3   workingday  10886 non-null  int64         \n 4   weather     10886 non-null  int64         \n 5   temp        10886 non-null  float64       \n 6   atemp       10886 non-null  float64       \n 7   humidity    10886 non-null  int64         \n 8   windspeed   10886 non-null  float64       \n 9   casual      10886 non-null  int64         \n 10  registered  10886 non-null  int64         \n 11  count       10886 non-null  int64         \n 12  year        10886 non-null  int64         \n 13  month       10886 non-null  int64         \n 14  hour        10886 non-null  int64         \n 15  dayofweek   10886 non-null  int64         \ndtypes: datetime64[ns](1), float64(3), int64(12)\nmemory usage: 1.3 MB\n"
    }
   ],
   "source": [
    "train.info()"
   ]
  },
  {
   "cell_type": "code",
   "execution_count": 3,
   "metadata": {},
   "outputs": [],
   "source": [
    "cfn=['season', 'holiday', 'workingday', 'weather', 'dayofweek', 'month', 'year', 'hour']\n",
    "for v in cfn:\n",
    "    train[v]=train[v].astype('category')\n",
    "    test[v]=test[v].astype('category')"
   ]
  },
  {
   "cell_type": "code",
   "execution_count": 4,
   "metadata": {},
   "outputs": [],
   "source": [
    "fn=['season', 'holiday', 'workingday', 'weather', 'dayofweek', 'month', 'year', 'hour', 'temp', 'humidity']\n",
    "xTrain = train[fn]\n",
    "yTrain = train['count']\n",
    "xTest = test[fn]"
   ]
  },
  {
   "cell_type": "code",
   "execution_count": 5,
   "metadata": {},
   "outputs": [],
   "source": [
    "def rmsle(av,pv):\n",
    "    av = np.array(av)\n",
    "    pv = np.array(pv)\n",
    "    logav = np.log1p(av) # 정규분포로 만들기 위해 로그를 씌워줌\n",
    "    logpv = np.log1p(pv)\n",
    "    diff = logpv - logav\n",
    "    ds = np.square(diff)\n",
    "    md = ds.mean()\n",
    "    score = np.sqrt(md)\n",
    "    return score"
   ]
  },
  {
   "cell_type": "code",
   "execution_count": 6,
   "metadata": {},
   "outputs": [],
   "source": [
    "# 선형회귀모델\n",
    "from sklearn.linear_model import *\n",
    "\n",
    "#LinearRegression, Lasso, Ridge\n",
    "from sklearn.model_selection import GridSearchCV\n",
    "from sklearn import metrics"
   ]
  },
  {
   "cell_type": "code",
   "execution_count": 10,
   "metadata": {},
   "outputs": [],
   "source": [
    "# 선형회귀-모델-예측\n",
    "model = LinearRegression()\n",
    "ytrain = np.log1p(yTrain)\n",
    "model.fit(xTrain,ytrain)\n",
    "predictions = model.predict(xTrain)"
   ]
  },
  {
   "cell_type": "code",
   "execution_count": 11,
   "metadata": {},
   "outputs": [
    {
     "output_type": "execute_result",
     "data": {
      "text/plain": "0.9498107175341887"
     },
     "metadata": {},
     "execution_count": 11
    }
   ],
   "source": [
    "# RMSLE 점수 (값이 작을수록 정확하다)\n",
    "rmsle(np.exp(ytrain)+1,np.exp(predictions)+1)"
   ]
  },
  {
   "cell_type": "code",
   "execution_count": 26,
   "metadata": {},
   "outputs": [],
   "source": [
    "## 로그함수 탐구\n",
    "x = np.array([0.00001,1,2,4,10,100])\n",
    "np.exp(x) # 밑이 자연상수 e인 지수함수 y=e의 x제곱형태로\n",
    "np.log(x) # 밑이 e\n",
    "np.log10(x) # 밑이 10\n",
    "np.log2(x) # 밑이 2\n",
    "np.log1p(0) #1을 더한 값에 로그를 취한다."
   ]
  },
  {
   "cell_type": "code",
   "execution_count": 24,
   "metadata": {
    "tags": []
   },
   "outputs": [
    {
     "output_type": "execute_result",
     "data": {
      "text/plain": "1"
     },
     "metadata": {},
     "execution_count": 24
    }
   ],
   "source": [
    "# 신경망 : 퍼셉트론 : AND게이트\n",
    "\n",
    "def AND(x1,x2):\n",
    "    w1,w2,theta = 0.5 , 0.5 , 0.7\n",
    "    res = w1*x1 + w2*x2\n",
    "    if res <= theta:\n",
    "        return 0\n",
    "    elif res > theta:\n",
    "        return 1\n",
    "\n",
    "AND(0,0)\n",
    "AND(0,1)\n",
    "AND(1,0)\n",
    "AND(1,1)"
   ]
  },
  {
   "cell_type": "code",
   "execution_count": 14,
   "metadata": {
    "tags": []
   },
   "outputs": [
    {
     "output_type": "stream",
     "name": "stdout",
     "text": "0\n1\n1\n1\n"
    }
   ],
   "source": [
    "# 신경망 : 퍼셉트론 : OR게이트\n",
    "\n",
    "def OR(x1,x2):\n",
    "    w1,w2,theta = 1, 1, 0.9\n",
    "    res = w1*x1 + w2*x2\n",
    "    if res <= theta:\n",
    "        return 0\n",
    "    elif res > theta:\n",
    "        return 1\n",
    "\n",
    "print(OR(0,0))\n",
    "print(OR(0,1))\n",
    "print(OR(1,0))\n",
    "print(OR(1,1))"
   ]
  },
  {
   "cell_type": "code",
   "execution_count": 19,
   "metadata": {
    "tags": []
   },
   "outputs": [
    {
     "output_type": "stream",
     "name": "stdout",
     "text": "0\n1\n1\n1\n"
    }
   ],
   "source": [
    "# 신경망 : 퍼셉트론 : AND게이트\n",
    "\n",
    "def AND2(x1,x2):\n",
    "    x = np.array([x1,x2])\n",
    "    w = np.array([0.5,0.5])\n",
    "    b = -0.4\n",
    "    t = np.sum(x*w)+b\n",
    "    if t<=0:\n",
    "        return 0\n",
    "    else:\n",
    "        return 1\n",
    "\n",
    "for data in [(0,0),(0,1),(1,0),(1,1)]:\n",
    "    y = AND2(data[0],data[1])\n",
    "    print(y)"
   ]
  },
  {
   "cell_type": "code",
   "execution_count": 22,
   "metadata": {
    "tags": []
   },
   "outputs": [
    {
     "output_type": "stream",
     "name": "stdout",
     "text": "1\n1\n1\n0\n"
    }
   ],
   "source": [
    "# 신경망 : 퍼셉트론 : NAND게이트\n",
    "\n",
    "def NAND2(x1,x2): # NOT AND ( 입력값이 모두 1일때만 0, 나머지는 1 )\n",
    "    x = np.array([x1,x2])\n",
    "    w = np.array([-0.5,-0.5])\n",
    "    b = 0.7\n",
    "    t = np.sum(x*w)+b\n",
    "    if t<=0:\n",
    "        return 0\n",
    "    else:\n",
    "        return 1\n",
    "\n",
    "for data in [(0,0),(0,1),(1,0),(1,1)]:\n",
    "    y = NAND2(data[0],data[1])\n",
    "    print(y)"
   ]
  },
  {
   "cell_type": "code",
   "execution_count": 26,
   "metadata": {
    "tags": []
   },
   "outputs": [
    {
     "output_type": "stream",
     "name": "stdout",
     "text": "0\n1\n1\n0\n"
    }
   ],
   "source": [
    "# 멀티 레이어 퍼셉트론 : 퍼셉트론을 여러개 사용해서 복잡한 문제를 해결할 수 있다.\n",
    "\n",
    "def XOR(x1,x2):\n",
    "    x = OR(x1,x2)\n",
    "    y = NAND2(x1,x2)\n",
    "    z = AND(x,y)\n",
    "    return z\n",
    "\n",
    "for data in [(0,0),(0,1),(1,0),(1,1)]:\n",
    "    z = XOR(data[0],data[1])\n",
    "    print(z)"
   ]
  }
 ],
 "metadata": {
  "language_info": {
   "codemirror_mode": {
    "name": "ipython",
    "version": 3
   },
   "file_extension": ".py",
   "mimetype": "text/x-python",
   "name": "python",
   "nbconvert_exporter": "python",
   "pygments_lexer": "ipython3",
   "version": 3
  },
  "orig_nbformat": 2,
  "kernelspec": {
   "name": "python_defaultSpec_1594606432647",
   "display_name": "Python 3.7.7 64-bit"
  }
 },
 "nbformat": 4,
 "nbformat_minor": 2
}