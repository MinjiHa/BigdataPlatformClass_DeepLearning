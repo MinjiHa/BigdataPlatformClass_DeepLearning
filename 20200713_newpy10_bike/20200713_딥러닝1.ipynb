{
 "cells": [
  {
   "cell_type": "code",
   "execution_count": 1,
   "metadata": {},
   "outputs": [],
   "source": [
    "# 딥러닝 모듈 임포트\n",
    "import tensorflow as tf\n",
    "from keras.models import Sequential\n",
    "from keras.layers import Dense\n",
    "# 넘파이 임포트\n",
    "import numpy as np"
   ]
  },
  {
   "cell_type": "code",
   "execution_count": 4,
   "metadata": {},
   "outputs": [],
   "source": [
    "np.random.seed(0)"
   ]
  },
  {
   "cell_type": "code",
   "execution_count": 5,
   "metadata": {},
   "outputs": [
    {
     "output_type": "execute_result",
     "data": {
      "text/plain": "array([[293.  ,   1.  ,   3.8 , ...,   0.  ,  62.  ,   0.  ],\n       [  1.  ,   2.  ,   2.88, ...,   0.  ,  60.  ,   0.  ],\n       [  8.  ,   2.  ,   3.19, ...,   0.  ,  66.  ,   1.  ],\n       ...,\n       [406.  ,   6.  ,   5.36, ...,   0.  ,  62.  ,   0.  ],\n       [ 25.  ,   8.  ,   4.32, ...,   0.  ,  58.  ,   1.  ],\n       [447.  ,   8.  ,   5.2 , ...,   0.  ,  49.  ,   0.  ]])"
     },
     "metadata": {},
     "execution_count": 5
    }
   ],
   "source": [
    "data = np.loadtxt(\"../딥러닝/ThoraricSurgery.csv\", delimiter=\",\") #numpy에서 데이터를 읽어오는법 (기본형식:array)\n",
    "data # array로 읽어진다."
   ]
  },
  {
   "cell_type": "code",
   "execution_count": 6,
   "metadata": {},
   "outputs": [
    {
     "output_type": "execute_result",
     "data": {
      "text/plain": "(470, 18)"
     },
     "metadata": {},
     "execution_count": 6
    }
   ],
   "source": [
    "data.shape"
   ]
  },
  {
   "cell_type": "code",
   "execution_count": 9,
   "metadata": {},
   "outputs": [
    {
     "output_type": "execute_result",
     "data": {
      "text/plain": "array([0., 0., 1., 1., 0., 0., 0., 1., 0., 0., 0., 0., 0., 0., 1., 0., 0.,\n       0., 0., 0., 0., 0., 0., 0., 0., 0., 1., 0., 0., 1., 1., 0., 0., 0.,\n       0., 0., 1., 0., 0., 1., 0., 0., 0., 1., 0., 1., 0., 0., 1., 0., 0.,\n       0., 0., 0., 0., 0., 1., 0., 1., 0., 0., 0., 0., 0., 0., 0., 0., 0.,\n       0., 0., 0., 0., 1., 0., 1., 0., 0., 0., 0., 0., 0., 0., 0., 0., 0.,\n       0., 1., 0., 0., 0., 0., 0., 0., 0., 1., 0., 1., 0., 0., 0., 0., 0.,\n       0., 0., 0., 0., 0., 0., 1., 0., 1., 0., 0., 0., 0., 0., 0., 0., 0.,\n       0., 0., 0., 0., 1., 0., 0., 0., 0., 1., 0., 0., 0., 0., 0., 0., 0.,\n       0., 0., 0., 0., 0., 0., 0., 0., 0., 0., 0., 1., 0., 0., 0., 0., 1.,\n       0., 0., 0., 0., 0., 0., 0., 0., 0., 0., 1., 1., 0., 0., 0., 0., 0.,\n       0., 0., 0., 0., 0., 0., 0., 0., 1., 0., 1., 0., 1., 0., 0., 0., 0.,\n       0., 0., 0., 0., 0., 0., 0., 0., 1., 0., 0., 1., 1., 0., 0., 0., 0.,\n       0., 0., 0., 0., 0., 0., 1., 0., 1., 0., 0., 0., 0., 0., 0., 0., 0.,\n       1., 0., 1., 0., 0., 0., 0., 0., 0., 0., 1., 0., 0., 0., 0., 0., 0.,\n       0., 0., 1., 0., 0., 0., 0., 0., 0., 0., 0., 1., 0., 0., 0., 0., 0.,\n       0., 1., 0., 1., 0., 0., 0., 0., 0., 0., 0., 0., 0., 0., 0., 0., 0.,\n       0., 0., 0., 0., 0., 1., 1., 0., 0., 0., 0., 1., 0., 0., 1., 0., 0.,\n       0., 0., 1., 0., 0., 0., 0., 0., 0., 1., 0., 0., 0., 0., 0., 0., 0.,\n       0., 0., 0., 1., 0., 0., 0., 0., 1., 0., 0., 0., 0., 0., 0., 1., 0.,\n       0., 0., 1., 0., 0., 0., 0., 0., 0., 0., 0., 0., 0., 0., 0., 0., 0.,\n       0., 0., 0., 0., 0., 1., 0., 0., 0., 0., 0., 0., 0., 0., 0., 0., 0.,\n       0., 0., 0., 0., 0., 0., 0., 0., 0., 0., 0., 1., 0., 0., 0., 0., 0.,\n       0., 0., 0., 0., 0., 0., 0., 0., 0., 0., 0., 0., 1., 0., 0., 0., 0.,\n       0., 0., 0., 0., 0., 0., 0., 0., 0., 0., 0., 0., 0., 0., 0., 1., 0.,\n       0., 1., 0., 1., 0., 0., 0., 1., 1., 0., 0., 0., 0., 0., 0., 0., 0.,\n       0., 0., 0., 0., 0., 0., 0., 0., 0., 0., 0., 0., 0., 0., 0., 0., 0.,\n       0., 1., 0., 0., 0., 0., 1., 0., 0., 1., 1., 0., 0., 1., 1., 0., 1.,\n       0., 0., 1., 1., 0., 0., 0., 0., 0., 1., 0.])"
     },
     "metadata": {},
     "execution_count": 9
    }
   ],
   "source": [
    "x = data[:,0:17]\n",
    "y = data[:,17]\n",
    "y"
   ]
  },
  {
   "cell_type": "code",
   "execution_count": 10,
   "metadata": {},
   "outputs": [],
   "source": [
    "#Keras\n",
    "\n",
    "model = Sequential()\n",
    "model.add(Dense(30, input_dim=17,\n",
    "                activation='relu'))\n",
    "model.add(Dense(1,activation='sigmoid'))"
   ]
  },
  {
   "cell_type": "code",
   "execution_count": 11,
   "metadata": {
    "tags": []
   },
   "outputs": [
    {
     "output_type": "stream",
     "name": "stdout",
     "text": "Epoch 1/30\n47/47 [==============================] - 0s 834us/step - loss: 0.7712 - accuracy: 0.2170\nEpoch 2/30\n47/47 [==============================] - 0s 811us/step - loss: 0.2898 - accuracy: 0.7021\nEpoch 3/30\n47/47 [==============================] - 0s 768us/step - loss: 0.1489 - accuracy: 0.8511\nEpoch 4/30\n47/47 [==============================] - 0s 768us/step - loss: 0.1489 - accuracy: 0.8511\nEpoch 5/30\n47/47 [==============================] - 0s 683us/step - loss: 0.1489 - accuracy: 0.8511\nEpoch 6/30\n47/47 [==============================] - 0s 725us/step - loss: 0.1489 - accuracy: 0.8511\nEpoch 7/30\n47/47 [==============================] - 0s 704us/step - loss: 0.1489 - accuracy: 0.8511\nEpoch 8/30\n47/47 [==============================] - 0s 661us/step - loss: 0.1489 - accuracy: 0.8511\nEpoch 9/30\n47/47 [==============================] - 0s 640us/step - loss: 0.1489 - accuracy: 0.8511\nEpoch 10/30\n47/47 [==============================] - 0s 704us/step - loss: 0.1489 - accuracy: 0.8511\nEpoch 11/30\n47/47 [==============================] - 0s 683us/step - loss: 0.1489 - accuracy: 0.8511\nEpoch 12/30\n47/47 [==============================] - 0s 640us/step - loss: 0.1489 - accuracy: 0.8511\nEpoch 13/30\n47/47 [==============================] - 0s 640us/step - loss: 0.1489 - accuracy: 0.8511\nEpoch 14/30\n47/47 [==============================] - 0s 683us/step - loss: 0.1489 - accuracy: 0.8511\nEpoch 15/30\n47/47 [==============================] - 0s 683us/step - loss: 0.1489 - accuracy: 0.8511\nEpoch 16/30\n47/47 [==============================] - 0s 640us/step - loss: 0.1489 - accuracy: 0.8511\nEpoch 17/30\n47/47 [==============================] - 0s 640us/step - loss: 0.1489 - accuracy: 0.8511\nEpoch 18/30\n47/47 [==============================] - 0s 640us/step - loss: 0.1489 - accuracy: 0.8511\nEpoch 19/30\n47/47 [==============================] - 0s 640us/step - loss: 0.1489 - accuracy: 0.8511\nEpoch 20/30\n47/47 [==============================] - 0s 640us/step - loss: 0.1489 - accuracy: 0.8511\nEpoch 21/30\n47/47 [==============================] - 0s 640us/step - loss: 0.1489 - accuracy: 0.8511\nEpoch 22/30\n47/47 [==============================] - 0s 640us/step - loss: 0.1489 - accuracy: 0.8511\nEpoch 23/30\n47/47 [==============================] - 0s 661us/step - loss: 0.1489 - accuracy: 0.8511\nEpoch 24/30\n47/47 [==============================] - 0s 661us/step - loss: 0.1489 - accuracy: 0.8511\nEpoch 25/30\n47/47 [==============================] - 0s 640us/step - loss: 0.1489 - accuracy: 0.8511\nEpoch 26/30\n47/47 [==============================] - 0s 640us/step - loss: 0.1489 - accuracy: 0.8511\nEpoch 27/30\n47/47 [==============================] - 0s 619us/step - loss: 0.1489 - accuracy: 0.8511\nEpoch 28/30\n47/47 [==============================] - 0s 619us/step - loss: 0.1489 - accuracy: 0.8511\nEpoch 29/30\n47/47 [==============================] - 0s 661us/step - loss: 0.1489 - accuracy: 0.8511\nEpoch 30/30\n47/47 [==============================] - 0s 640us/step - loss: 0.1489 - accuracy: 0.8511\n"
    },
    {
     "output_type": "execute_result",
     "data": {
      "text/plain": "<tensorflow.python.keras.callbacks.History at 0x1ce5bf07788>"
     },
     "metadata": {},
     "execution_count": 11
    }
   ],
   "source": [
    "model.compile(loss=\"mean_squared_error\",\n",
    "                optimizer=\"adam\",     # 안전하고 빠른 길을 찾는 역할(cost 최소화)\n",
    "                metrics=['accuracy']) # 모델 평가지표 종류\n",
    "model.fit(x,y,epochs=30, batch_size=10)"
   ]
  },
  {
   "cell_type": "code",
   "execution_count": 12,
   "metadata": {
    "tags": []
   },
   "outputs": [
    {
     "output_type": "stream",
     "name": "stdout",
     "text": "Model: \"sequential\"\n_________________________________________________________________\nLayer (type)                 Output Shape              Param #   \n=================================================================\ndense (Dense)                (None, 30)                540       \n_________________________________________________________________\ndense_1 (Dense)              (None, 1)                 31        \n=================================================================\nTotal params: 571\nTrainable params: 571\nNon-trainable params: 0\n_________________________________________________________________\n"
    }
   ],
   "source": [
    "model.summary()"
   ]
  }
 ],
 "metadata": {
  "language_info": {
   "codemirror_mode": {
    "name": "ipython",
    "version": 3
   },
   "file_extension": ".py",
   "mimetype": "text/x-python",
   "name": "python",
   "nbconvert_exporter": "python",
   "pygments_lexer": "ipython3",
   "version": 3
  },
  "orig_nbformat": 2,
  "kernelspec": {
   "name": "python_defaultSpec_1594621762486",
   "display_name": "Python 3.7.7 64-bit"
  }
 },
 "nbformat": 4,
 "nbformat_minor": 2
}