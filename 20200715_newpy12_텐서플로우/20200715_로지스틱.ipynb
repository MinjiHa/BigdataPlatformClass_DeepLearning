{
 "cells": [
  {
   "cell_type": "code",
   "execution_count": 5,
   "metadata": {},
   "outputs": [],
   "source": [
    "import pandas as pd\n",
    "import numpy as np"
   ]
  },
  {
   "cell_type": "code",
   "execution_count": 2,
   "metadata": {},
   "outputs": [],
   "source": [
    "x_data = [[1, 2],\n",
    "          [2, 3],\n",
    "          [3, 1],\n",
    "          [4, 3],\n",
    "          [5, 3],\n",
    "          [6, 2]]\n",
    "y_data = [[0],\n",
    "          [0],\n",
    "          [0],\n",
    "          [1],\n",
    "          [1],\n",
    "          [1]]"
   ]
  },
  {
   "cell_type": "code",
   "execution_count": 4,
   "metadata": {},
   "outputs": [
    {
     "output_type": "execute_result",
     "data": {
      "text/plain": "(6, 1)"
     },
     "metadata": {},
     "execution_count": 4
    }
   ],
   "source": [
    "np.shape(x_data)\n",
    "np.shape(y_data)"
   ]
  },
  {
   "cell_type": "code",
   "execution_count": 7,
   "metadata": {
    "tags": []
   },
   "outputs": [
    {
     "output_type": "stream",
     "name": "stdout",
     "text": "WARNING:tensorflow:From C:\\Python37\\lib\\site-packages\\tensorflow\\python\\compat\\v2_compat.py:96: disable_resource_variables (from tensorflow.python.ops.variable_scope) is deprecated and will be removed in a future version.\nInstructions for updating:\nnon-resource variables are not supported in the long term\n"
    }
   ],
   "source": [
    "import tensorflow.compat.v1 as tf\n",
    "tf.disable_v2_behavior() # 텐서플로우 버전 1로 낮추기 (버전 2 기능 사용불가하게 만들기)"
   ]
  },
  {
   "cell_type": "code",
   "execution_count": 8,
   "metadata": {},
   "outputs": [],
   "source": [
    "x = tf.placeholder(tf.float32, shape=[None,2])\n",
    "y = tf.placeholder(tf.float32, shape=[None,1])"
   ]
  },
  {
   "cell_type": "code",
   "execution_count": 9,
   "metadata": {},
   "outputs": [],
   "source": [
    "w = tf.Variable(tf.random_normal([2,1])) # 행렬곱(matmul)해야해서 2,1 로 설정\n",
    "b = tf.Variable(tf.random_normal([1])) # 더해주기만 하면 돼서 1로 설정"
   ]
  },
  {
   "cell_type": "code",
   "execution_count": 10,
   "metadata": {},
   "outputs": [],
   "source": [
    "hf = tf.sigmoid(tf.matmul(x,w)+b)"
   ]
  },
  {
   "cell_type": "code",
   "execution_count": 11,
   "metadata": {},
   "outputs": [],
   "source": [
    "cost = -tf.reduce_mean(y*tf.log(hf) + (1-y)*tf.log(1-hf))"
   ]
  },
  {
   "cell_type": "code",
   "execution_count": 14,
   "metadata": {},
   "outputs": [],
   "source": [
    "train = tf.train.GradientDescentOptimizer(0.01).minimize(cost)"
   ]
  },
  {
   "cell_type": "code",
   "execution_count": 16,
   "metadata": {},
   "outputs": [],
   "source": [
    "# 텐서플로우의 타입변경함수\n",
    "predicted = tf.cast(hf>0.5, dtype=tf.float32) # boolean -> float (True:1, False:0)\n",
    "accuracy = tf.reduce_mean(tf.cast(tf.equal(predicted,y), dtype=tf.float32)) # boolean -> float 맞추면 1 틀리면 0"
   ]
  },
  {
   "cell_type": "code",
   "execution_count": 21,
   "metadata": {
    "tags": []
   },
   "outputs": [
    {
     "output_type": "stream",
     "name": "stdout",
     "text": "0 0.5268678\n200 0.39506277\n400 0.379933\n600 0.3666809\n800 0.3546407\n1000 0.3434764\n1200 0.33300528\n1400 0.32312045\n1600 0.31375358\n1800 0.30485693\n2000 0.2963942\n2200 0.2883356\n2400 0.28065553\n2600 0.2733312\n2800 0.2663417\n3000 0.25966763\n3200 0.25329104\n3400 0.24719495\n3600 0.24136351\n3800 0.23578195\n4000 0.23043633\n4200 0.22531344\n4400 0.22040124\n4600 0.21568803\n4800 0.2111631\n5000 0.20681633\n5200 0.20263822\n5400 0.19861989\n5600 0.19475287\n5800 0.19102944\n6000 0.1874423\n6200 0.18398438\n6400 0.1806493\n6600 0.17743106\n6800 0.17432374\n7000 0.17132218\n7200 0.16842116\n7400 0.16561595\n7600 0.16290215\n7800 0.16027547\n8000 0.15773195\n8200 0.15526785\n8400 0.15287952\n8600 0.15056375\n8800 0.14831741\n9000 0.14613734\n9200 0.1440208\n9400 0.14196517\n9600 0.13996787\n9800 0.13802652\n10000 0.13613875\n10200 0.13430263\n10400 0.1325159\n10600 0.13077673\n10800 0.12908326\n11000 0.12743375\n11200 0.12582637\n11400 0.12425982\n11600 0.12273237\n11800 0.12124271\n12000 0.11978934\n12200 0.11837119\n12400 0.116986714\n12600 0.11563494\n12800 0.1143147\n13000 0.11302482\n13200 0.11176431\n13400 0.11053219\n13600 0.109327585\n13800 0.10814944\n14000 0.106997095\n14200 0.1058695\n14400 0.10476599\n14600 0.103685774\n14800 0.10262812\n15000 0.10159234\n15200 0.100577794\n15400 0.099583745\n15600 0.09860966\n15800 0.09765483\n16000 0.096718855\n16200 0.095801085\n16400 0.094900906\n16600 0.094017945\n16800 0.09315172\n17000 0.09230172\n17200 0.09146744\n17400 0.090648524\n17600 0.089844465\n17800 0.08905492\n18000 0.08827952\n18200 0.08751782\n18400 0.08676954\n18600 0.0860342\n18800 0.08531163\n19000 0.084601305\n19200 0.08390316\n19400 0.08321673\n19600 0.0825415\n19800 0.081877805\n20000 0.081224486\n20200 0.08058234\n20400 0.07995003\n20600 0.07932826\n20800 0.07871605\n21000 0.07811353\n21200 0.07752055\n21400 0.07693636\n21600 0.07636159\n21800 0.075795405\n22000 0.075237595\n22200 0.07468828\n22400 0.07414731\n22600 0.07361415\n22800 0.07308867\n23000 0.0725709\n23200 0.0720608\n23400 0.07155797\n23600 0.07106219\n23800 0.07057338\n24000 0.07009141\n24200 0.06961608\n24400 0.06914735\n24600 0.06868512\n24800 0.068229206\n25000 0.06777945\n25200 0.06733582\n25400 0.06689795\n25600 0.0664659\n25800 0.0660396\n26000 0.065618806\n26200 0.06520339\n26400 0.06479341\n26600 0.064388804\n26800 0.063989334\n27000 0.06359487\n27200 0.063205406\n27400 0.06282076\n27600 0.062440846\n27800 0.062065486\n28000 0.061694767\n28200 0.061328445\n28400 0.06096694\n28600 0.060609657\n28800 0.06025656\n29000 0.059907585\n29200 0.059562474\n29400 0.059221882\n29600 0.058885228\n29800 0.05855233\n30000 0.058223028\nhf :  [[0.00376739]\n [0.08254381]\n [0.1167323 ]\n [0.8883346 ]\n [0.9868085 ]\n [0.996416  ]] pred :  [[0.]\n [0.]\n [0.]\n [1.]\n [1.]\n [1.]] acc :  1.0\n"
    }
   ],
   "source": [
    "with tf.Session() as sess : #sess = tf.Session() 말고 이걸 하는이유 : 메모리자원 확보\n",
    "    sess.run(tf.global_variables_initializer())\n",
    "    for step in range(30001):\n",
    "        _, cv = sess.run([train,cost], feed_dict={x:x_data, y:y_data})\n",
    "        if step%200==0:\n",
    "            print(step,cv)\n",
    "    h, p, a = sess.run([hf, predicted, accuracy], feed_dict={x:x_data, y:y_data})\n",
    "    print(\"hf : \",h,\"pred : \",p,\"acc : \",a)"
   ]
  }
 ],
 "metadata": {
  "language_info": {
   "codemirror_mode": {
    "name": "ipython",
    "version": 3
   },
   "file_extension": ".py",
   "mimetype": "text/x-python",
   "name": "python",
   "nbconvert_exporter": "python",
   "pygments_lexer": "ipython3",
   "version": 3
  },
  "orig_nbformat": 2,
  "kernelspec": {
   "name": "python_defaultSpec_1594783863307",
   "display_name": "Python 3.7.7 64-bit"
  }
 },
 "nbformat": 4,
 "nbformat_minor": 2
}